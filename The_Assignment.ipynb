{
 "cells": [
  {
   "cell_type": "code",
   "metadata": {
    "tags": [],
    "cell_id": "00000-6d3ac233-8630-4cc5-bb46-956a323ccb9e",
    "deepnote_to_be_reexecuted": false,
    "source_hash": "c76c7c51",
    "execution_start": 1633352224055,
    "execution_millis": 10,
    "deepnote_cell_type": "code"
   },
   "source": "import pandas as pd\nimport numpy as np",
   "execution_count": 1,
   "outputs": []
  },
  {
   "cell_type": "markdown",
   "source": "# Data Manipulation",
   "metadata": {
    "tags": [],
    "is_collapsed": false,
    "cell_id": "00001-799d8a21-11fa-4ff0-95a4-3b3a1f2e4fb3",
    "deepnote_cell_type": "text-cell-h1"
   }
  },
  {
   "cell_type": "code",
   "metadata": {
    "tags": [],
    "cell_id": "00001-fb4eb0a8-086b-482c-b622-2df1192ae4a7",
    "deepnote_to_be_reexecuted": false,
    "source_hash": "6ab53f70",
    "execution_start": 1633352224113,
    "execution_millis": 45,
    "deepnote_cell_type": "code"
   },
   "source": "df = pd.read_csv('/work/online_shoppers_intention.csv')",
   "execution_count": 2,
   "outputs": []
  },
  {
   "cell_type": "markdown",
   "source": "### Reading the Data",
   "metadata": {
    "tags": [],
    "is_collapsed": false,
    "cell_id": "00003-6a608e01-1f1e-49ca-ba08-e434b3763076",
    "deepnote_cell_type": "text-cell-h3"
   }
  },
  {
   "cell_type": "code",
   "metadata": {
    "tags": [],
    "cell_id": "00002-d3f3fb22-d83e-4621-b610-1c05e2e8b9d4",
    "deepnote_to_be_reexecuted": false,
    "source_hash": "c085b6ba",
    "execution_start": 1633352224202,
    "execution_millis": 68,
    "deepnote_cell_type": "code"
   },
   "source": "df.head()",
   "execution_count": 3,
   "outputs": [
    {
     "output_type": "execute_result",
     "execution_count": 3,
     "data": {
      "application/vnd.deepnote.dataframe.v2+json": {
       "row_count": 5,
       "column_count": 18,
       "columns": [
        {
         "name": "Administrative",
         "dtype": "int64",
         "stats": {
          "unique_count": 1,
          "nan_count": 0,
          "min": "0",
          "max": "0",
          "histogram": [
           {
            "bin_start": -0.5,
            "bin_end": -0.4,
            "count": 0
           },
           {
            "bin_start": -0.4,
            "bin_end": -0.3,
            "count": 0
           },
           {
            "bin_start": -0.3,
            "bin_end": -0.19999999999999996,
            "count": 0
           },
           {
            "bin_start": -0.19999999999999996,
            "bin_end": -0.09999999999999998,
            "count": 0
           },
           {
            "bin_start": -0.09999999999999998,
            "bin_end": 0,
            "count": 0
           },
           {
            "bin_start": 0,
            "bin_end": 0.10000000000000009,
            "count": 5
           },
           {
            "bin_start": 0.10000000000000009,
            "bin_end": 0.20000000000000007,
            "count": 0
           },
           {
            "bin_start": 0.20000000000000007,
            "bin_end": 0.30000000000000004,
            "count": 0
           },
           {
            "bin_start": 0.30000000000000004,
            "bin_end": 0.4,
            "count": 0
           },
           {
            "bin_start": 0.4,
            "bin_end": 0.5,
            "count": 0
           }
          ]
         }
        },
        {
         "name": "Administrative_Duration",
         "dtype": "float64",
         "stats": {
          "unique_count": 1,
          "nan_count": 0,
          "min": "0.0",
          "max": "0.0",
          "histogram": [
           {
            "bin_start": -0.5,
            "bin_end": -0.4,
            "count": 0
           },
           {
            "bin_start": -0.4,
            "bin_end": -0.3,
            "count": 0
           },
           {
            "bin_start": -0.3,
            "bin_end": -0.19999999999999996,
            "count": 0
           },
           {
            "bin_start": -0.19999999999999996,
            "bin_end": -0.09999999999999998,
            "count": 0
           },
           {
            "bin_start": -0.09999999999999998,
            "bin_end": 0,
            "count": 0
           },
           {
            "bin_start": 0,
            "bin_end": 0.10000000000000009,
            "count": 5
           },
           {
            "bin_start": 0.10000000000000009,
            "bin_end": 0.20000000000000007,
            "count": 0
           },
           {
            "bin_start": 0.20000000000000007,
            "bin_end": 0.30000000000000004,
            "count": 0
           },
           {
            "bin_start": 0.30000000000000004,
            "bin_end": 0.4,
            "count": 0
           },
           {
            "bin_start": 0.4,
            "bin_end": 0.5,
            "count": 0
           }
          ]
         }
        },
        {
         "name": "Informational",
         "dtype": "int64",
         "stats": {
          "unique_count": 1,
          "nan_count": 0,
          "min": "0",
          "max": "0",
          "histogram": [
           {
            "bin_start": -0.5,
            "bin_end": -0.4,
            "count": 0
           },
           {
            "bin_start": -0.4,
            "bin_end": -0.3,
            "count": 0
           },
           {
            "bin_start": -0.3,
            "bin_end": -0.19999999999999996,
            "count": 0
           },
           {
            "bin_start": -0.19999999999999996,
            "bin_end": -0.09999999999999998,
            "count": 0
           },
           {
            "bin_start": -0.09999999999999998,
            "bin_end": 0,
            "count": 0
           },
           {
            "bin_start": 0,
            "bin_end": 0.10000000000000009,
            "count": 5
           },
           {
            "bin_start": 0.10000000000000009,
            "bin_end": 0.20000000000000007,
            "count": 0
           },
           {
            "bin_start": 0.20000000000000007,
            "bin_end": 0.30000000000000004,
            "count": 0
           },
           {
            "bin_start": 0.30000000000000004,
            "bin_end": 0.4,
            "count": 0
           },
           {
            "bin_start": 0.4,
            "bin_end": 0.5,
            "count": 0
           }
          ]
         }
        },
        {
         "name": "Informational_Duration",
         "dtype": "float64",
         "stats": {
          "unique_count": 1,
          "nan_count": 0,
          "min": "0.0",
          "max": "0.0",
          "histogram": [
           {
            "bin_start": -0.5,
            "bin_end": -0.4,
            "count": 0
           },
           {
            "bin_start": -0.4,
            "bin_end": -0.3,
            "count": 0
           },
           {
            "bin_start": -0.3,
            "bin_end": -0.19999999999999996,
            "count": 0
           },
           {
            "bin_start": -0.19999999999999996,
            "bin_end": -0.09999999999999998,
            "count": 0
           },
           {
            "bin_start": -0.09999999999999998,
            "bin_end": 0,
            "count": 0
           },
           {
            "bin_start": 0,
            "bin_end": 0.10000000000000009,
            "count": 5
           },
           {
            "bin_start": 0.10000000000000009,
            "bin_end": 0.20000000000000007,
            "count": 0
           },
           {
            "bin_start": 0.20000000000000007,
            "bin_end": 0.30000000000000004,
            "count": 0
           },
           {
            "bin_start": 0.30000000000000004,
            "bin_end": 0.4,
            "count": 0
           },
           {
            "bin_start": 0.4,
            "bin_end": 0.5,
            "count": 0
           }
          ]
         }
        },
        {
         "name": "ProductRelated",
         "dtype": "int64",
         "stats": {
          "unique_count": 3,
          "nan_count": 0,
          "min": "1",
          "max": "10",
          "histogram": [
           {
            "bin_start": 1,
            "bin_end": 1.9,
            "count": 2
           },
           {
            "bin_start": 1.9,
            "bin_end": 2.8,
            "count": 2
           },
           {
            "bin_start": 2.8,
            "bin_end": 3.7,
            "count": 0
           },
           {
            "bin_start": 3.7,
            "bin_end": 4.6,
            "count": 0
           },
           {
            "bin_start": 4.6,
            "bin_end": 5.5,
            "count": 0
           },
           {
            "bin_start": 5.5,
            "bin_end": 6.4,
            "count": 0
           },
           {
            "bin_start": 6.4,
            "bin_end": 7.3,
            "count": 0
           },
           {
            "bin_start": 7.3,
            "bin_end": 8.2,
            "count": 0
           },
           {
            "bin_start": 8.2,
            "bin_end": 9.1,
            "count": 0
           },
           {
            "bin_start": 9.1,
            "bin_end": 10,
            "count": 1
           }
          ]
         }
        },
        {
         "name": "ProductRelated_Duration",
         "dtype": "float64",
         "stats": {
          "unique_count": 4,
          "nan_count": 0,
          "min": "0.0",
          "max": "627.5",
          "histogram": [
           {
            "bin_start": 0,
            "bin_end": 62.75,
            "count": 3
           },
           {
            "bin_start": 62.75,
            "bin_end": 125.5,
            "count": 1
           },
           {
            "bin_start": 125.5,
            "bin_end": 188.25,
            "count": 0
           },
           {
            "bin_start": 188.25,
            "bin_end": 251,
            "count": 0
           },
           {
            "bin_start": 251,
            "bin_end": 313.75,
            "count": 0
           },
           {
            "bin_start": 313.75,
            "bin_end": 376.5,
            "count": 0
           },
           {
            "bin_start": 376.5,
            "bin_end": 439.25,
            "count": 0
           },
           {
            "bin_start": 439.25,
            "bin_end": 502,
            "count": 0
           },
           {
            "bin_start": 502,
            "bin_end": 564.75,
            "count": 0
           },
           {
            "bin_start": 564.75,
            "bin_end": 627.5,
            "count": 1
           }
          ]
         }
        },
        {
         "name": "BounceRates",
         "dtype": "float64",
         "stats": {
          "unique_count": 4,
          "nan_count": 0,
          "min": "0.0",
          "max": "0.2",
          "histogram": [
           {
            "bin_start": 0,
            "bin_end": 0.02,
            "count": 1
           },
           {
            "bin_start": 0.02,
            "bin_end": 0.04,
            "count": 1
           },
           {
            "bin_start": 0.04,
            "bin_end": 0.06,
            "count": 1
           },
           {
            "bin_start": 0.06,
            "bin_end": 0.08,
            "count": 0
           },
           {
            "bin_start": 0.08,
            "bin_end": 0.1,
            "count": 0
           },
           {
            "bin_start": 0.1,
            "bin_end": 0.12,
            "count": 0
           },
           {
            "bin_start": 0.12,
            "bin_end": 0.14,
            "count": 0
           },
           {
            "bin_start": 0.14,
            "bin_end": 0.16,
            "count": 0
           },
           {
            "bin_start": 0.16,
            "bin_end": 0.18,
            "count": 0
           },
           {
            "bin_start": 0.18,
            "bin_end": 0.2,
            "count": 2
           }
          ]
         }
        },
        {
         "name": "ExitRates",
         "dtype": "float64",
         "stats": {
          "unique_count": 4,
          "nan_count": 0,
          "min": "0.05",
          "max": "0.2",
          "histogram": [
           {
            "bin_start": 0.05,
            "bin_end": 0.065,
            "count": 1
           },
           {
            "bin_start": 0.065,
            "bin_end": 0.08000000000000002,
            "count": 0
           },
           {
            "bin_start": 0.08000000000000002,
            "bin_end": 0.09500000000000001,
            "count": 0
           },
           {
            "bin_start": 0.09500000000000001,
            "bin_end": 0.11000000000000001,
            "count": 1
           },
           {
            "bin_start": 0.11000000000000001,
            "bin_end": 0.125,
            "count": 0
           },
           {
            "bin_start": 0.125,
            "bin_end": 0.14,
            "count": 0
           },
           {
            "bin_start": 0.14,
            "bin_end": 0.15500000000000003,
            "count": 1
           },
           {
            "bin_start": 0.15500000000000003,
            "bin_end": 0.17000000000000004,
            "count": 0
           },
           {
            "bin_start": 0.17000000000000004,
            "bin_end": 0.18500000000000005,
            "count": 0
           },
           {
            "bin_start": 0.18500000000000005,
            "bin_end": 0.2,
            "count": 2
           }
          ]
         }
        },
        {
         "name": "PageValues",
         "dtype": "float64",
         "stats": {
          "unique_count": 1,
          "nan_count": 0,
          "min": "0.0",
          "max": "0.0",
          "histogram": [
           {
            "bin_start": -0.5,
            "bin_end": -0.4,
            "count": 0
           },
           {
            "bin_start": -0.4,
            "bin_end": -0.3,
            "count": 0
           },
           {
            "bin_start": -0.3,
            "bin_end": -0.19999999999999996,
            "count": 0
           },
           {
            "bin_start": -0.19999999999999996,
            "bin_end": -0.09999999999999998,
            "count": 0
           },
           {
            "bin_start": -0.09999999999999998,
            "bin_end": 0,
            "count": 0
           },
           {
            "bin_start": 0,
            "bin_end": 0.10000000000000009,
            "count": 5
           },
           {
            "bin_start": 0.10000000000000009,
            "bin_end": 0.20000000000000007,
            "count": 0
           },
           {
            "bin_start": 0.20000000000000007,
            "bin_end": 0.30000000000000004,
            "count": 0
           },
           {
            "bin_start": 0.30000000000000004,
            "bin_end": 0.4,
            "count": 0
           },
           {
            "bin_start": 0.4,
            "bin_end": 0.5,
            "count": 0
           }
          ]
         }
        },
        {
         "name": "SpecialDay",
         "dtype": "float64",
         "stats": {
          "unique_count": 1,
          "nan_count": 0,
          "min": "0.0",
          "max": "0.0",
          "histogram": [
           {
            "bin_start": -0.5,
            "bin_end": -0.4,
            "count": 0
           },
           {
            "bin_start": -0.4,
            "bin_end": -0.3,
            "count": 0
           },
           {
            "bin_start": -0.3,
            "bin_end": -0.19999999999999996,
            "count": 0
           },
           {
            "bin_start": -0.19999999999999996,
            "bin_end": -0.09999999999999998,
            "count": 0
           },
           {
            "bin_start": -0.09999999999999998,
            "bin_end": 0,
            "count": 0
           },
           {
            "bin_start": 0,
            "bin_end": 0.10000000000000009,
            "count": 5
           },
           {
            "bin_start": 0.10000000000000009,
            "bin_end": 0.20000000000000007,
            "count": 0
           },
           {
            "bin_start": 0.20000000000000007,
            "bin_end": 0.30000000000000004,
            "count": 0
           },
           {
            "bin_start": 0.30000000000000004,
            "bin_end": 0.4,
            "count": 0
           },
           {
            "bin_start": 0.4,
            "bin_end": 0.5,
            "count": 0
           }
          ]
         }
        },
        {
         "name": "Month",
         "dtype": "object",
         "stats": {
          "unique_count": 1,
          "nan_count": 0,
          "categories": [
           {
            "name": "Feb",
            "count": 5
           }
          ]
         }
        },
        {
         "name": "OperatingSystems",
         "dtype": "int64",
         "stats": {
          "unique_count": 4,
          "nan_count": 0,
          "min": "1",
          "max": "4",
          "histogram": [
           {
            "bin_start": 1,
            "bin_end": 1.3,
            "count": 1
           },
           {
            "bin_start": 1.3,
            "bin_end": 1.6,
            "count": 0
           },
           {
            "bin_start": 1.6,
            "bin_end": 1.9,
            "count": 0
           },
           {
            "bin_start": 1.9,
            "bin_end": 2.2,
            "count": 1
           },
           {
            "bin_start": 2.2,
            "bin_end": 2.5,
            "count": 0
           },
           {
            "bin_start": 2.5,
            "bin_end": 2.8,
            "count": 0
           },
           {
            "bin_start": 2.8,
            "bin_end": 3.1,
            "count": 2
           },
           {
            "bin_start": 3.1,
            "bin_end": 3.4,
            "count": 0
           },
           {
            "bin_start": 3.4,
            "bin_end": 3.6999999999999997,
            "count": 0
           },
           {
            "bin_start": 3.6999999999999997,
            "bin_end": 4,
            "count": 1
           }
          ]
         }
        },
        {
         "name": "Browser",
         "dtype": "int64",
         "stats": {
          "unique_count": 3,
          "nan_count": 0,
          "min": "1",
          "max": "3",
          "histogram": [
           {
            "bin_start": 1,
            "bin_end": 1.2,
            "count": 2
           },
           {
            "bin_start": 1.2,
            "bin_end": 1.4,
            "count": 0
           },
           {
            "bin_start": 1.4,
            "bin_end": 1.6,
            "count": 0
           },
           {
            "bin_start": 1.6,
            "bin_end": 1.8,
            "count": 0
           },
           {
            "bin_start": 1.8,
            "bin_end": 2,
            "count": 0
           },
           {
            "bin_start": 2,
            "bin_end": 2.2,
            "count": 2
           },
           {
            "bin_start": 2.2,
            "bin_end": 2.4000000000000004,
            "count": 0
           },
           {
            "bin_start": 2.4000000000000004,
            "bin_end": 2.6,
            "count": 0
           },
           {
            "bin_start": 2.6,
            "bin_end": 2.8,
            "count": 0
           },
           {
            "bin_start": 2.8,
            "bin_end": 3,
            "count": 1
           }
          ]
         }
        },
        {
         "name": "Region",
         "dtype": "int64",
         "stats": {
          "unique_count": 3,
          "nan_count": 0,
          "min": "1",
          "max": "9",
          "histogram": [
           {
            "bin_start": 1,
            "bin_end": 1.8,
            "count": 3
           },
           {
            "bin_start": 1.8,
            "bin_end": 2.6,
            "count": 1
           },
           {
            "bin_start": 2.6,
            "bin_end": 3.4000000000000004,
            "count": 0
           },
           {
            "bin_start": 3.4000000000000004,
            "bin_end": 4.2,
            "count": 0
           },
           {
            "bin_start": 4.2,
            "bin_end": 5,
            "count": 0
           },
           {
            "bin_start": 5,
            "bin_end": 5.800000000000001,
            "count": 0
           },
           {
            "bin_start": 5.800000000000001,
            "bin_end": 6.6000000000000005,
            "count": 0
           },
           {
            "bin_start": 6.6000000000000005,
            "bin_end": 7.4,
            "count": 0
           },
           {
            "bin_start": 7.4,
            "bin_end": 8.2,
            "count": 0
           },
           {
            "bin_start": 8.2,
            "bin_end": 9,
            "count": 1
           }
          ]
         }
        },
        {
         "name": "TrafficType",
         "dtype": "int64",
         "stats": {
          "unique_count": 4,
          "nan_count": 0,
          "min": "1",
          "max": "4",
          "histogram": [
           {
            "bin_start": 1,
            "bin_end": 1.3,
            "count": 1
           },
           {
            "bin_start": 1.3,
            "bin_end": 1.6,
            "count": 0
           },
           {
            "bin_start": 1.6,
            "bin_end": 1.9,
            "count": 0
           },
           {
            "bin_start": 1.9,
            "bin_end": 2.2,
            "count": 1
           },
           {
            "bin_start": 2.2,
            "bin_end": 2.5,
            "count": 0
           },
           {
            "bin_start": 2.5,
            "bin_end": 2.8,
            "count": 0
           },
           {
            "bin_start": 2.8,
            "bin_end": 3.1,
            "count": 1
           },
           {
            "bin_start": 3.1,
            "bin_end": 3.4,
            "count": 0
           },
           {
            "bin_start": 3.4,
            "bin_end": 3.6999999999999997,
            "count": 0
           },
           {
            "bin_start": 3.6999999999999997,
            "bin_end": 4,
            "count": 2
           }
          ]
         }
        },
        {
         "name": "VisitorType",
         "dtype": "object",
         "stats": {
          "unique_count": 1,
          "nan_count": 0,
          "categories": [
           {
            "name": "Returning_Visitor",
            "count": 5
           }
          ]
         }
        },
        {
         "name": "Weekend",
         "dtype": "bool",
         "stats": {
          "unique_count": 2,
          "nan_count": 0,
          "categories": [
           {
            "name": "False",
            "count": 4
           },
           {
            "name": "True",
            "count": 1
           }
          ]
         }
        },
        {
         "name": "Revenue",
         "dtype": "bool",
         "stats": {
          "unique_count": 1,
          "nan_count": 0,
          "categories": [
           {
            "name": "False",
            "count": 5
           }
          ]
         }
        },
        {
         "name": "_deepnote_index_column",
         "dtype": "int64"
        }
       ],
       "rows_top": [
        {
         "Administrative": 0,
         "Administrative_Duration": 0,
         "Informational": 0,
         "Informational_Duration": 0,
         "ProductRelated": 1,
         "ProductRelated_Duration": 0,
         "BounceRates": 0.2,
         "ExitRates": 0.2,
         "PageValues": 0,
         "SpecialDay": 0,
         "Month": "Feb",
         "OperatingSystems": 1,
         "Browser": 1,
         "Region": 1,
         "TrafficType": 1,
         "VisitorType": "Returning_Visitor",
         "Weekend": "False",
         "Revenue": "False",
         "_deepnote_index_column": 0
        },
        {
         "Administrative": 0,
         "Administrative_Duration": 0,
         "Informational": 0,
         "Informational_Duration": 0,
         "ProductRelated": 2,
         "ProductRelated_Duration": 64,
         "BounceRates": 0,
         "ExitRates": 0.1,
         "PageValues": 0,
         "SpecialDay": 0,
         "Month": "Feb",
         "OperatingSystems": 2,
         "Browser": 2,
         "Region": 1,
         "TrafficType": 2,
         "VisitorType": "Returning_Visitor",
         "Weekend": "False",
         "Revenue": "False",
         "_deepnote_index_column": 1
        },
        {
         "Administrative": 0,
         "Administrative_Duration": 0,
         "Informational": 0,
         "Informational_Duration": 0,
         "ProductRelated": 1,
         "ProductRelated_Duration": 0,
         "BounceRates": 0.2,
         "ExitRates": 0.2,
         "PageValues": 0,
         "SpecialDay": 0,
         "Month": "Feb",
         "OperatingSystems": 4,
         "Browser": 1,
         "Region": 9,
         "TrafficType": 3,
         "VisitorType": "Returning_Visitor",
         "Weekend": "False",
         "Revenue": "False",
         "_deepnote_index_column": 2
        },
        {
         "Administrative": 0,
         "Administrative_Duration": 0,
         "Informational": 0,
         "Informational_Duration": 0,
         "ProductRelated": 2,
         "ProductRelated_Duration": 2.666666667,
         "BounceRates": 0.05,
         "ExitRates": 0.14,
         "PageValues": 0,
         "SpecialDay": 0,
         "Month": "Feb",
         "OperatingSystems": 3,
         "Browser": 2,
         "Region": 2,
         "TrafficType": 4,
         "VisitorType": "Returning_Visitor",
         "Weekend": "False",
         "Revenue": "False",
         "_deepnote_index_column": 3
        },
        {
         "Administrative": 0,
         "Administrative_Duration": 0,
         "Informational": 0,
         "Informational_Duration": 0,
         "ProductRelated": 10,
         "ProductRelated_Duration": 627.5,
         "BounceRates": 0.02,
         "ExitRates": 0.05,
         "PageValues": 0,
         "SpecialDay": 0,
         "Month": "Feb",
         "OperatingSystems": 3,
         "Browser": 3,
         "Region": 1,
         "TrafficType": 4,
         "VisitorType": "Returning_Visitor",
         "Weekend": "True",
         "Revenue": "False",
         "_deepnote_index_column": 4
        }
       ],
       "rows_bottom": null
      },
      "text/plain": "   Administrative  Administrative_Duration  Informational  \\\n0               0                      0.0              0   \n1               0                      0.0              0   \n2               0                      0.0              0   \n3               0                      0.0              0   \n4               0                      0.0              0   \n\n   Informational_Duration  ProductRelated  ProductRelated_Duration  \\\n0                     0.0               1                 0.000000   \n1                     0.0               2                64.000000   \n2                     0.0               1                 0.000000   \n3                     0.0               2                 2.666667   \n4                     0.0              10               627.500000   \n\n   BounceRates  ExitRates  PageValues  SpecialDay Month  OperatingSystems  \\\n0         0.20       0.20         0.0         0.0   Feb                 1   \n1         0.00       0.10         0.0         0.0   Feb                 2   \n2         0.20       0.20         0.0         0.0   Feb                 4   \n3         0.05       0.14         0.0         0.0   Feb                 3   \n4         0.02       0.05         0.0         0.0   Feb                 3   \n\n   Browser  Region  TrafficType        VisitorType  Weekend  Revenue  \n0        1       1            1  Returning_Visitor    False    False  \n1        2       1            2  Returning_Visitor    False    False  \n2        1       9            3  Returning_Visitor    False    False  \n3        2       2            4  Returning_Visitor    False    False  \n4        3       1            4  Returning_Visitor     True    False  ",
      "text/html": "<div>\n<style scoped>\n    .dataframe tbody tr th:only-of-type {\n        vertical-align: middle;\n    }\n\n    .dataframe tbody tr th {\n        vertical-align: top;\n    }\n\n    .dataframe thead th {\n        text-align: right;\n    }\n</style>\n<table border=\"1\" class=\"dataframe\">\n  <thead>\n    <tr style=\"text-align: right;\">\n      <th></th>\n      <th>Administrative</th>\n      <th>Administrative_Duration</th>\n      <th>Informational</th>\n      <th>Informational_Duration</th>\n      <th>ProductRelated</th>\n      <th>ProductRelated_Duration</th>\n      <th>BounceRates</th>\n      <th>ExitRates</th>\n      <th>PageValues</th>\n      <th>SpecialDay</th>\n      <th>Month</th>\n      <th>OperatingSystems</th>\n      <th>Browser</th>\n      <th>Region</th>\n      <th>TrafficType</th>\n      <th>VisitorType</th>\n      <th>Weekend</th>\n      <th>Revenue</th>\n    </tr>\n  </thead>\n  <tbody>\n    <tr>\n      <th>0</th>\n      <td>0</td>\n      <td>0.0</td>\n      <td>0</td>\n      <td>0.0</td>\n      <td>1</td>\n      <td>0.000000</td>\n      <td>0.20</td>\n      <td>0.20</td>\n      <td>0.0</td>\n      <td>0.0</td>\n      <td>Feb</td>\n      <td>1</td>\n      <td>1</td>\n      <td>1</td>\n      <td>1</td>\n      <td>Returning_Visitor</td>\n      <td>False</td>\n      <td>False</td>\n    </tr>\n    <tr>\n      <th>1</th>\n      <td>0</td>\n      <td>0.0</td>\n      <td>0</td>\n      <td>0.0</td>\n      <td>2</td>\n      <td>64.000000</td>\n      <td>0.00</td>\n      <td>0.10</td>\n      <td>0.0</td>\n      <td>0.0</td>\n      <td>Feb</td>\n      <td>2</td>\n      <td>2</td>\n      <td>1</td>\n      <td>2</td>\n      <td>Returning_Visitor</td>\n      <td>False</td>\n      <td>False</td>\n    </tr>\n    <tr>\n      <th>2</th>\n      <td>0</td>\n      <td>0.0</td>\n      <td>0</td>\n      <td>0.0</td>\n      <td>1</td>\n      <td>0.000000</td>\n      <td>0.20</td>\n      <td>0.20</td>\n      <td>0.0</td>\n      <td>0.0</td>\n      <td>Feb</td>\n      <td>4</td>\n      <td>1</td>\n      <td>9</td>\n      <td>3</td>\n      <td>Returning_Visitor</td>\n      <td>False</td>\n      <td>False</td>\n    </tr>\n    <tr>\n      <th>3</th>\n      <td>0</td>\n      <td>0.0</td>\n      <td>0</td>\n      <td>0.0</td>\n      <td>2</td>\n      <td>2.666667</td>\n      <td>0.05</td>\n      <td>0.14</td>\n      <td>0.0</td>\n      <td>0.0</td>\n      <td>Feb</td>\n      <td>3</td>\n      <td>2</td>\n      <td>2</td>\n      <td>4</td>\n      <td>Returning_Visitor</td>\n      <td>False</td>\n      <td>False</td>\n    </tr>\n    <tr>\n      <th>4</th>\n      <td>0</td>\n      <td>0.0</td>\n      <td>0</td>\n      <td>0.0</td>\n      <td>10</td>\n      <td>627.500000</td>\n      <td>0.02</td>\n      <td>0.05</td>\n      <td>0.0</td>\n      <td>0.0</td>\n      <td>Feb</td>\n      <td>3</td>\n      <td>3</td>\n      <td>1</td>\n      <td>4</td>\n      <td>Returning_Visitor</td>\n      <td>True</td>\n      <td>False</td>\n    </tr>\n  </tbody>\n</table>\n</div>"
     },
     "metadata": {}
    }
   ]
  },
  {
   "cell_type": "code",
   "metadata": {
    "tags": [],
    "cell_id": "00003-97825a52-6c59-4002-83d7-46f22c8d605d",
    "deepnote_to_be_reexecuted": false,
    "source_hash": "25d43fa0",
    "execution_start": 1633352224306,
    "execution_millis": 0,
    "deepnote_cell_type": "code"
   },
   "source": "df.columns",
   "execution_count": 4,
   "outputs": [
    {
     "output_type": "execute_result",
     "execution_count": 4,
     "data": {
      "text/plain": "Index(['Administrative', 'Administrative_Duration', 'Informational',\n       'Informational_Duration', 'ProductRelated', 'ProductRelated_Duration',\n       'BounceRates', 'ExitRates', 'PageValues', 'SpecialDay', 'Month',\n       'OperatingSystems', 'Browser', 'Region', 'TrafficType', 'VisitorType',\n       'Weekend', 'Revenue'],\n      dtype='object')"
     },
     "metadata": {}
    }
   ]
  },
  {
   "cell_type": "code",
   "metadata": {
    "tags": [],
    "cell_id": "00004-534faf2f-9b3e-4ad6-b6f8-1a084d99273c",
    "deepnote_to_be_reexecuted": false,
    "source_hash": "de1e323c",
    "execution_start": 1633352224307,
    "execution_millis": 12,
    "deepnote_cell_type": "code"
   },
   "source": "df.info()",
   "execution_count": 5,
   "outputs": [
    {
     "name": "stdout",
     "text": "<class 'pandas.core.frame.DataFrame'>\nRangeIndex: 12330 entries, 0 to 12329\nData columns (total 18 columns):\n #   Column                   Non-Null Count  Dtype  \n---  ------                   --------------  -----  \n 0   Administrative           12330 non-null  int64  \n 1   Administrative_Duration  12330 non-null  float64\n 2   Informational            12330 non-null  int64  \n 3   Informational_Duration   12330 non-null  float64\n 4   ProductRelated           12330 non-null  int64  \n 5   ProductRelated_Duration  12330 non-null  float64\n 6   BounceRates              12330 non-null  float64\n 7   ExitRates                12330 non-null  float64\n 8   PageValues               12330 non-null  float64\n 9   SpecialDay               12330 non-null  float64\n 10  Month                    12330 non-null  object \n 11  OperatingSystems         12330 non-null  int64  \n 12  Browser                  12330 non-null  int64  \n 13  Region                   12330 non-null  int64  \n 14  TrafficType              12330 non-null  int64  \n 15  VisitorType              12330 non-null  object \n 16  Weekend                  12330 non-null  bool   \n 17  Revenue                  12330 non-null  bool   \ndtypes: bool(2), float64(7), int64(7), object(2)\nmemory usage: 1.5+ MB\n",
     "output_type": "stream"
    }
   ]
  },
  {
   "cell_type": "code",
   "metadata": {
    "tags": [],
    "cell_id": "00004-c294193b-dbb6-4523-b85d-9a599ca53728",
    "deepnote_to_be_reexecuted": false,
    "source_hash": "cfdfa4bd",
    "execution_start": 1633352224347,
    "execution_millis": 18,
    "deepnote_cell_type": "code"
   },
   "source": "for i in df.columns:\n    k=df[i].nunique()\n    print(f'{i} : {k}')",
   "execution_count": 6,
   "outputs": [
    {
     "name": "stdout",
     "text": "Administrative : 27\nAdministrative_Duration : 3335\nInformational : 17\nInformational_Duration : 1258\nProductRelated : 311\nProductRelated_Duration : 9551\nBounceRates : 1872\nExitRates : 4777\nPageValues : 2704\nSpecialDay : 6\nMonth : 10\nOperatingSystems : 8\nBrowser : 13\nRegion : 9\nTrafficType : 20\nVisitorType : 3\nWeekend : 2\nRevenue : 2\n",
     "output_type": "stream"
    }
   ]
  },
  {
   "cell_type": "code",
   "metadata": {
    "tags": [],
    "cell_id": "00008-e651019f-ec2d-4569-8c3c-54915faee5f3",
    "deepnote_to_be_reexecuted": false,
    "source_hash": "23f1f7d9",
    "execution_start": 1633352224348,
    "execution_millis": 0,
    "deepnote_cell_type": "code"
   },
   "source": "Y=df['Revenue']\nX=df.drop('Revenue',axis=1)",
   "execution_count": 7,
   "outputs": []
  },
  {
   "cell_type": "markdown",
   "source": "## Data preprocesing",
   "metadata": {
    "tags": [],
    "is_collapsed": false,
    "cell_id": "00008-e144c5c3-2fbb-448c-914b-4e5b44f746f9",
    "deepnote_cell_type": "text-cell-h2"
   }
  },
  {
   "cell_type": "markdown",
   "source": "Splitting the Numercal and categorical data for standardization and 1-hot encoding ",
   "metadata": {
    "tags": [],
    "is_collapsed": false,
    "cell_id": "00010-b93db14e-f635-4b15-bf4c-92c47060b634",
    "deepnote_cell_type": "text-cell-p"
   }
  },
  {
   "cell_type": "code",
   "metadata": {
    "tags": [],
    "cell_id": "00010-6e6bfba9-cbe6-46e9-9d21-5d39a4d3c664",
    "deepnote_to_be_reexecuted": false,
    "source_hash": "7357e4f5",
    "execution_start": 1633352224359,
    "execution_millis": 56,
    "deepnote_cell_type": "code"
   },
   "source": "X_numerical = X.drop(['Month','VisitorType'],axis=1)",
   "execution_count": 8,
   "outputs": []
  },
  {
   "cell_type": "code",
   "metadata": {
    "tags": [],
    "cell_id": "00011-ad04a16e-419f-4b15-ada3-ac9276edb75b",
    "deepnote_to_be_reexecuted": false,
    "source_hash": "d278d1ce",
    "execution_start": 1633352224416,
    "execution_millis": 11,
    "deepnote_cell_type": "code"
   },
   "source": "X_numerical.columns",
   "execution_count": 9,
   "outputs": [
    {
     "output_type": "execute_result",
     "execution_count": 9,
     "data": {
      "text/plain": "Index(['Administrative', 'Administrative_Duration', 'Informational',\n       'Informational_Duration', 'ProductRelated', 'ProductRelated_Duration',\n       'BounceRates', 'ExitRates', 'PageValues', 'SpecialDay',\n       'OperatingSystems', 'Browser', 'Region', 'TrafficType', 'Weekend'],\n      dtype='object')"
     },
     "metadata": {}
    }
   ]
  },
  {
   "cell_type": "code",
   "metadata": {
    "tags": [],
    "cell_id": "00012-f1085b97-1e68-4b72-b1b7-3351bd6a5246",
    "deepnote_to_be_reexecuted": false,
    "source_hash": "b1942538",
    "execution_start": 1633352224416,
    "execution_millis": 1049,
    "deepnote_cell_type": "code"
   },
   "source": "from sklearn.preprocessing import MinMaxScaler\nscaler = MinMaxScaler()\nX_num_scaled = scaler.fit_transform(X_numerical)\nX_num_scaled.shape #zero mean unit variance standardization",
   "execution_count": 10,
   "outputs": [
    {
     "output_type": "execute_result",
     "execution_count": 10,
     "data": {
      "text/plain": "(12330, 15)"
     },
     "metadata": {}
    }
   ]
  },
  {
   "cell_type": "code",
   "metadata": {
    "tags": [],
    "cell_id": "00013-163931fe-8c1b-4d3c-b7b4-ad22339d0c0d",
    "deepnote_to_be_reexecuted": false,
    "source_hash": "2ac1fa4d",
    "execution_start": 1633352225438,
    "execution_millis": 4,
    "deepnote_cell_type": "code"
   },
   "source": "X_num_sc=pd.DataFrame(X_num_scaled,columns=list(X_numerical.columns))",
   "execution_count": 11,
   "outputs": []
  },
  {
   "cell_type": "code",
   "metadata": {
    "tags": [],
    "cell_id": "00014-b503086c-f127-4cbb-9d86-10c08c80b8f6",
    "deepnote_to_be_reexecuted": false,
    "source_hash": "b1ca52f6",
    "execution_start": 1633352225457,
    "execution_millis": 295,
    "deepnote_cell_type": "code"
   },
   "source": "X_num_sc.head()",
   "execution_count": 12,
   "outputs": [
    {
     "output_type": "execute_result",
     "execution_count": 12,
     "data": {
      "application/vnd.deepnote.dataframe.v2+json": {
       "row_count": 5,
       "column_count": 15,
       "columns": [
        {
         "name": "Administrative",
         "dtype": "float64",
         "stats": {
          "unique_count": 1,
          "nan_count": 0,
          "min": "0.0",
          "max": "0.0",
          "histogram": [
           {
            "bin_start": -0.5,
            "bin_end": -0.4,
            "count": 0
           },
           {
            "bin_start": -0.4,
            "bin_end": -0.3,
            "count": 0
           },
           {
            "bin_start": -0.3,
            "bin_end": -0.19999999999999996,
            "count": 0
           },
           {
            "bin_start": -0.19999999999999996,
            "bin_end": -0.09999999999999998,
            "count": 0
           },
           {
            "bin_start": -0.09999999999999998,
            "bin_end": 0,
            "count": 0
           },
           {
            "bin_start": 0,
            "bin_end": 0.10000000000000009,
            "count": 5
           },
           {
            "bin_start": 0.10000000000000009,
            "bin_end": 0.20000000000000007,
            "count": 0
           },
           {
            "bin_start": 0.20000000000000007,
            "bin_end": 0.30000000000000004,
            "count": 0
           },
           {
            "bin_start": 0.30000000000000004,
            "bin_end": 0.4,
            "count": 0
           },
           {
            "bin_start": 0.4,
            "bin_end": 0.5,
            "count": 0
           }
          ]
         }
        },
        {
         "name": "Administrative_Duration",
         "dtype": "float64",
         "stats": {
          "unique_count": 1,
          "nan_count": 0,
          "min": "0.0",
          "max": "0.0",
          "histogram": [
           {
            "bin_start": -0.5,
            "bin_end": -0.4,
            "count": 0
           },
           {
            "bin_start": -0.4,
            "bin_end": -0.3,
            "count": 0
           },
           {
            "bin_start": -0.3,
            "bin_end": -0.19999999999999996,
            "count": 0
           },
           {
            "bin_start": -0.19999999999999996,
            "bin_end": -0.09999999999999998,
            "count": 0
           },
           {
            "bin_start": -0.09999999999999998,
            "bin_end": 0,
            "count": 0
           },
           {
            "bin_start": 0,
            "bin_end": 0.10000000000000009,
            "count": 5
           },
           {
            "bin_start": 0.10000000000000009,
            "bin_end": 0.20000000000000007,
            "count": 0
           },
           {
            "bin_start": 0.20000000000000007,
            "bin_end": 0.30000000000000004,
            "count": 0
           },
           {
            "bin_start": 0.30000000000000004,
            "bin_end": 0.4,
            "count": 0
           },
           {
            "bin_start": 0.4,
            "bin_end": 0.5,
            "count": 0
           }
          ]
         }
        },
        {
         "name": "Informational",
         "dtype": "float64",
         "stats": {
          "unique_count": 1,
          "nan_count": 0,
          "min": "0.0",
          "max": "0.0",
          "histogram": [
           {
            "bin_start": -0.5,
            "bin_end": -0.4,
            "count": 0
           },
           {
            "bin_start": -0.4,
            "bin_end": -0.3,
            "count": 0
           },
           {
            "bin_start": -0.3,
            "bin_end": -0.19999999999999996,
            "count": 0
           },
           {
            "bin_start": -0.19999999999999996,
            "bin_end": -0.09999999999999998,
            "count": 0
           },
           {
            "bin_start": -0.09999999999999998,
            "bin_end": 0,
            "count": 0
           },
           {
            "bin_start": 0,
            "bin_end": 0.10000000000000009,
            "count": 5
           },
           {
            "bin_start": 0.10000000000000009,
            "bin_end": 0.20000000000000007,
            "count": 0
           },
           {
            "bin_start": 0.20000000000000007,
            "bin_end": 0.30000000000000004,
            "count": 0
           },
           {
            "bin_start": 0.30000000000000004,
            "bin_end": 0.4,
            "count": 0
           },
           {
            "bin_start": 0.4,
            "bin_end": 0.5,
            "count": 0
           }
          ]
         }
        },
        {
         "name": "Informational_Duration",
         "dtype": "float64",
         "stats": {
          "unique_count": 1,
          "nan_count": 0,
          "min": "0.0",
          "max": "0.0",
          "histogram": [
           {
            "bin_start": -0.5,
            "bin_end": -0.4,
            "count": 0
           },
           {
            "bin_start": -0.4,
            "bin_end": -0.3,
            "count": 0
           },
           {
            "bin_start": -0.3,
            "bin_end": -0.19999999999999996,
            "count": 0
           },
           {
            "bin_start": -0.19999999999999996,
            "bin_end": -0.09999999999999998,
            "count": 0
           },
           {
            "bin_start": -0.09999999999999998,
            "bin_end": 0,
            "count": 0
           },
           {
            "bin_start": 0,
            "bin_end": 0.10000000000000009,
            "count": 5
           },
           {
            "bin_start": 0.10000000000000009,
            "bin_end": 0.20000000000000007,
            "count": 0
           },
           {
            "bin_start": 0.20000000000000007,
            "bin_end": 0.30000000000000004,
            "count": 0
           },
           {
            "bin_start": 0.30000000000000004,
            "bin_end": 0.4,
            "count": 0
           },
           {
            "bin_start": 0.4,
            "bin_end": 0.5,
            "count": 0
           }
          ]
         }
        },
        {
         "name": "ProductRelated",
         "dtype": "float64",
         "stats": {
          "unique_count": 3,
          "nan_count": 0,
          "min": "0.0014184397163120568",
          "max": "0.014184397163120569",
          "histogram": [
           {
            "bin_start": 0.0014184397163120568,
            "bin_end": 0.002695035460992908,
            "count": 2
           },
           {
            "bin_start": 0.002695035460992908,
            "bin_end": 0.003971631205673759,
            "count": 2
           },
           {
            "bin_start": 0.003971631205673759,
            "bin_end": 0.005248226950354611,
            "count": 0
           },
           {
            "bin_start": 0.005248226950354611,
            "bin_end": 0.006524822695035462,
            "count": 0
           },
           {
            "bin_start": 0.006524822695035462,
            "bin_end": 0.007801418439716313,
            "count": 0
           },
           {
            "bin_start": 0.007801418439716313,
            "bin_end": 0.009078014184397165,
            "count": 0
           },
           {
            "bin_start": 0.009078014184397165,
            "bin_end": 0.010354609929078015,
            "count": 0
           },
           {
            "bin_start": 0.010354609929078015,
            "bin_end": 0.011631205673758867,
            "count": 0
           },
           {
            "bin_start": 0.011631205673758867,
            "bin_end": 0.012907801418439719,
            "count": 0
           },
           {
            "bin_start": 0.012907801418439719,
            "bin_end": 0.014184397163120569,
            "count": 1
           }
          ]
         }
        },
        {
         "name": "ProductRelated_Duration",
         "dtype": "float64",
         "stats": {
          "unique_count": 4,
          "nan_count": 0,
          "min": "0.0",
          "max": "0.00980874552668819",
          "histogram": [
           {
            "bin_start": 0,
            "bin_end": 0.000980874552668819,
            "count": 3
           },
           {
            "bin_start": 0.000980874552668819,
            "bin_end": 0.001961749105337638,
            "count": 1
           },
           {
            "bin_start": 0.001961749105337638,
            "bin_end": 0.0029426236580064567,
            "count": 0
           },
           {
            "bin_start": 0.0029426236580064567,
            "bin_end": 0.003923498210675276,
            "count": 0
           },
           {
            "bin_start": 0.003923498210675276,
            "bin_end": 0.004904372763344095,
            "count": 0
           },
           {
            "bin_start": 0.004904372763344095,
            "bin_end": 0.0058852473160129135,
            "count": 0
           },
           {
            "bin_start": 0.0058852473160129135,
            "bin_end": 0.006866121868681733,
            "count": 0
           },
           {
            "bin_start": 0.006866121868681733,
            "bin_end": 0.007846996421350552,
            "count": 0
           },
           {
            "bin_start": 0.007846996421350552,
            "bin_end": 0.00882787097401937,
            "count": 0
           },
           {
            "bin_start": 0.00882787097401937,
            "bin_end": 0.00980874552668819,
            "count": 1
           }
          ]
         }
        },
        {
         "name": "BounceRates",
         "dtype": "float64",
         "stats": {
          "unique_count": 4,
          "nan_count": 0,
          "min": "0.0",
          "max": "1.0",
          "histogram": [
           {
            "bin_start": 0,
            "bin_end": 0.1,
            "count": 1
           },
           {
            "bin_start": 0.1,
            "bin_end": 0.2,
            "count": 1
           },
           {
            "bin_start": 0.2,
            "bin_end": 0.30000000000000004,
            "count": 1
           },
           {
            "bin_start": 0.30000000000000004,
            "bin_end": 0.4,
            "count": 0
           },
           {
            "bin_start": 0.4,
            "bin_end": 0.5,
            "count": 0
           },
           {
            "bin_start": 0.5,
            "bin_end": 0.6000000000000001,
            "count": 0
           },
           {
            "bin_start": 0.6000000000000001,
            "bin_end": 0.7000000000000001,
            "count": 0
           },
           {
            "bin_start": 0.7000000000000001,
            "bin_end": 0.8,
            "count": 0
           },
           {
            "bin_start": 0.8,
            "bin_end": 0.9,
            "count": 0
           },
           {
            "bin_start": 0.9,
            "bin_end": 1,
            "count": 2
           }
          ]
         }
        },
        {
         "name": "ExitRates",
         "dtype": "float64",
         "stats": {
          "unique_count": 4,
          "nan_count": 0,
          "min": "0.25",
          "max": "1.0",
          "histogram": [
           {
            "bin_start": 0.25,
            "bin_end": 0.325,
            "count": 1
           },
           {
            "bin_start": 0.325,
            "bin_end": 0.4,
            "count": 0
           },
           {
            "bin_start": 0.4,
            "bin_end": 0.475,
            "count": 0
           },
           {
            "bin_start": 0.475,
            "bin_end": 0.55,
            "count": 1
           },
           {
            "bin_start": 0.55,
            "bin_end": 0.625,
            "count": 0
           },
           {
            "bin_start": 0.625,
            "bin_end": 0.7,
            "count": 0
           },
           {
            "bin_start": 0.7,
            "bin_end": 0.775,
            "count": 1
           },
           {
            "bin_start": 0.775,
            "bin_end": 0.85,
            "count": 0
           },
           {
            "bin_start": 0.85,
            "bin_end": 0.9249999999999999,
            "count": 0
           },
           {
            "bin_start": 0.9249999999999999,
            "bin_end": 1,
            "count": 2
           }
          ]
         }
        },
        {
         "name": "PageValues",
         "dtype": "float64",
         "stats": {
          "unique_count": 1,
          "nan_count": 0,
          "min": "0.0",
          "max": "0.0",
          "histogram": [
           {
            "bin_start": -0.5,
            "bin_end": -0.4,
            "count": 0
           },
           {
            "bin_start": -0.4,
            "bin_end": -0.3,
            "count": 0
           },
           {
            "bin_start": -0.3,
            "bin_end": -0.19999999999999996,
            "count": 0
           },
           {
            "bin_start": -0.19999999999999996,
            "bin_end": -0.09999999999999998,
            "count": 0
           },
           {
            "bin_start": -0.09999999999999998,
            "bin_end": 0,
            "count": 0
           },
           {
            "bin_start": 0,
            "bin_end": 0.10000000000000009,
            "count": 5
           },
           {
            "bin_start": 0.10000000000000009,
            "bin_end": 0.20000000000000007,
            "count": 0
           },
           {
            "bin_start": 0.20000000000000007,
            "bin_end": 0.30000000000000004,
            "count": 0
           },
           {
            "bin_start": 0.30000000000000004,
            "bin_end": 0.4,
            "count": 0
           },
           {
            "bin_start": 0.4,
            "bin_end": 0.5,
            "count": 0
           }
          ]
         }
        },
        {
         "name": "SpecialDay",
         "dtype": "float64",
         "stats": {
          "unique_count": 1,
          "nan_count": 0,
          "min": "0.0",
          "max": "0.0",
          "histogram": [
           {
            "bin_start": -0.5,
            "bin_end": -0.4,
            "count": 0
           },
           {
            "bin_start": -0.4,
            "bin_end": -0.3,
            "count": 0
           },
           {
            "bin_start": -0.3,
            "bin_end": -0.19999999999999996,
            "count": 0
           },
           {
            "bin_start": -0.19999999999999996,
            "bin_end": -0.09999999999999998,
            "count": 0
           },
           {
            "bin_start": -0.09999999999999998,
            "bin_end": 0,
            "count": 0
           },
           {
            "bin_start": 0,
            "bin_end": 0.10000000000000009,
            "count": 5
           },
           {
            "bin_start": 0.10000000000000009,
            "bin_end": 0.20000000000000007,
            "count": 0
           },
           {
            "bin_start": 0.20000000000000007,
            "bin_end": 0.30000000000000004,
            "count": 0
           },
           {
            "bin_start": 0.30000000000000004,
            "bin_end": 0.4,
            "count": 0
           },
           {
            "bin_start": 0.4,
            "bin_end": 0.5,
            "count": 0
           }
          ]
         }
        },
        {
         "name": "OperatingSystems",
         "dtype": "float64",
         "stats": {
          "unique_count": 4,
          "nan_count": 0,
          "min": "0.0",
          "max": "0.42857142857142855",
          "histogram": [
           {
            "bin_start": 0,
            "bin_end": 0.04285714285714286,
            "count": 1
           },
           {
            "bin_start": 0.04285714285714286,
            "bin_end": 0.08571428571428572,
            "count": 0
           },
           {
            "bin_start": 0.08571428571428572,
            "bin_end": 0.12857142857142856,
            "count": 0
           },
           {
            "bin_start": 0.12857142857142856,
            "bin_end": 0.17142857142857143,
            "count": 1
           },
           {
            "bin_start": 0.17142857142857143,
            "bin_end": 0.2142857142857143,
            "count": 0
           },
           {
            "bin_start": 0.2142857142857143,
            "bin_end": 0.2571428571428571,
            "count": 0
           },
           {
            "bin_start": 0.2571428571428571,
            "bin_end": 0.3,
            "count": 2
           },
           {
            "bin_start": 0.3,
            "bin_end": 0.34285714285714286,
            "count": 0
           },
           {
            "bin_start": 0.34285714285714286,
            "bin_end": 0.38571428571428573,
            "count": 0
           },
           {
            "bin_start": 0.38571428571428573,
            "bin_end": 0.42857142857142855,
            "count": 1
           }
          ]
         }
        },
        {
         "name": "Browser",
         "dtype": "float64",
         "stats": {
          "unique_count": 3,
          "nan_count": 0,
          "min": "0.0",
          "max": "0.16666666666666669",
          "histogram": [
           {
            "bin_start": 0,
            "bin_end": 0.01666666666666667,
            "count": 2
           },
           {
            "bin_start": 0.01666666666666667,
            "bin_end": 0.03333333333333334,
            "count": 0
           },
           {
            "bin_start": 0.03333333333333334,
            "bin_end": 0.05000000000000001,
            "count": 0
           },
           {
            "bin_start": 0.05000000000000001,
            "bin_end": 0.06666666666666668,
            "count": 0
           },
           {
            "bin_start": 0.06666666666666668,
            "bin_end": 0.08333333333333334,
            "count": 2
           },
           {
            "bin_start": 0.08333333333333334,
            "bin_end": 0.10000000000000002,
            "count": 0
           },
           {
            "bin_start": 0.10000000000000002,
            "bin_end": 0.1166666666666667,
            "count": 0
           },
           {
            "bin_start": 0.1166666666666667,
            "bin_end": 0.13333333333333336,
            "count": 0
           },
           {
            "bin_start": 0.13333333333333336,
            "bin_end": 0.15000000000000002,
            "count": 0
           },
           {
            "bin_start": 0.15000000000000002,
            "bin_end": 0.16666666666666669,
            "count": 1
           }
          ]
         }
        },
        {
         "name": "Region",
         "dtype": "float64",
         "stats": {
          "unique_count": 3,
          "nan_count": 0,
          "min": "0.0",
          "max": "1.0",
          "histogram": [
           {
            "bin_start": 0,
            "bin_end": 0.1,
            "count": 3
           },
           {
            "bin_start": 0.1,
            "bin_end": 0.2,
            "count": 1
           },
           {
            "bin_start": 0.2,
            "bin_end": 0.30000000000000004,
            "count": 0
           },
           {
            "bin_start": 0.30000000000000004,
            "bin_end": 0.4,
            "count": 0
           },
           {
            "bin_start": 0.4,
            "bin_end": 0.5,
            "count": 0
           },
           {
            "bin_start": 0.5,
            "bin_end": 0.6000000000000001,
            "count": 0
           },
           {
            "bin_start": 0.6000000000000001,
            "bin_end": 0.7000000000000001,
            "count": 0
           },
           {
            "bin_start": 0.7000000000000001,
            "bin_end": 0.8,
            "count": 0
           },
           {
            "bin_start": 0.8,
            "bin_end": 0.9,
            "count": 0
           },
           {
            "bin_start": 0.9,
            "bin_end": 1,
            "count": 1
           }
          ]
         }
        },
        {
         "name": "TrafficType",
         "dtype": "float64",
         "stats": {
          "unique_count": 4,
          "nan_count": 0,
          "min": "0.0",
          "max": "0.15789473684210525",
          "histogram": [
           {
            "bin_start": 0,
            "bin_end": 0.015789473684210527,
            "count": 1
           },
           {
            "bin_start": 0.015789473684210527,
            "bin_end": 0.031578947368421054,
            "count": 0
           },
           {
            "bin_start": 0.031578947368421054,
            "bin_end": 0.04736842105263158,
            "count": 0
           },
           {
            "bin_start": 0.04736842105263158,
            "bin_end": 0.06315789473684211,
            "count": 1
           },
           {
            "bin_start": 0.06315789473684211,
            "bin_end": 0.07894736842105263,
            "count": 0
           },
           {
            "bin_start": 0.07894736842105263,
            "bin_end": 0.09473684210526316,
            "count": 0
           },
           {
            "bin_start": 0.09473684210526316,
            "bin_end": 0.1105263157894737,
            "count": 1
           },
           {
            "bin_start": 0.1105263157894737,
            "bin_end": 0.12631578947368421,
            "count": 0
           },
           {
            "bin_start": 0.12631578947368421,
            "bin_end": 0.14210526315789473,
            "count": 0
           },
           {
            "bin_start": 0.14210526315789473,
            "bin_end": 0.15789473684210525,
            "count": 2
           }
          ]
         }
        },
        {
         "name": "Weekend",
         "dtype": "float64",
         "stats": {
          "unique_count": 2,
          "nan_count": 0,
          "min": "0.0",
          "max": "1.0",
          "histogram": [
           {
            "bin_start": 0,
            "bin_end": 0.1,
            "count": 4
           },
           {
            "bin_start": 0.1,
            "bin_end": 0.2,
            "count": 0
           },
           {
            "bin_start": 0.2,
            "bin_end": 0.30000000000000004,
            "count": 0
           },
           {
            "bin_start": 0.30000000000000004,
            "bin_end": 0.4,
            "count": 0
           },
           {
            "bin_start": 0.4,
            "bin_end": 0.5,
            "count": 0
           },
           {
            "bin_start": 0.5,
            "bin_end": 0.6000000000000001,
            "count": 0
           },
           {
            "bin_start": 0.6000000000000001,
            "bin_end": 0.7000000000000001,
            "count": 0
           },
           {
            "bin_start": 0.7000000000000001,
            "bin_end": 0.8,
            "count": 0
           },
           {
            "bin_start": 0.8,
            "bin_end": 0.9,
            "count": 0
           },
           {
            "bin_start": 0.9,
            "bin_end": 1,
            "count": 1
           }
          ]
         }
        },
        {
         "name": "_deepnote_index_column",
         "dtype": "int64"
        }
       ],
       "rows_top": [
        {
         "Administrative": 0,
         "Administrative_Duration": 0,
         "Informational": 0,
         "Informational_Duration": 0,
         "ProductRelated": 0.0014184397163120568,
         "ProductRelated_Duration": 0,
         "BounceRates": 1,
         "ExitRates": 1,
         "PageValues": 0,
         "SpecialDay": 0,
         "OperatingSystems": 0,
         "Browser": 0,
         "Region": 0,
         "TrafficType": 0,
         "Weekend": 0,
         "_deepnote_index_column": 0
        },
        {
         "Administrative": 0,
         "Administrative_Duration": 0,
         "Informational": 0,
         "Informational_Duration": 0,
         "ProductRelated": 0.0028368794326241137,
         "ProductRelated_Duration": 0.0010004138863873213,
         "BounceRates": 0,
         "ExitRates": 0.5,
         "PageValues": 0,
         "SpecialDay": 0,
         "OperatingSystems": 0.14285714285714285,
         "Browser": 0.08333333333333333,
         "Region": 0,
         "TrafficType": 0.05263157894736842,
         "Weekend": 0,
         "_deepnote_index_column": 1
        },
        {
         "Administrative": 0,
         "Administrative_Duration": 0,
         "Informational": 0,
         "Informational_Duration": 0,
         "ProductRelated": 0.0014184397163120568,
         "ProductRelated_Duration": 0,
         "BounceRates": 1,
         "ExitRates": 1,
         "PageValues": 0,
         "SpecialDay": 0,
         "OperatingSystems": 0.42857142857142855,
         "Browser": 0,
         "Region": 1,
         "TrafficType": 0.10526315789473684,
         "Weekend": 0,
         "_deepnote_index_column": 2
        },
        {
         "Administrative": 0,
         "Administrative_Duration": 0,
         "Informational": 0,
         "Informational_Duration": 0,
         "ProductRelated": 0.0028368794326241137,
         "ProductRelated_Duration": 0.00004168391193801554,
         "BounceRates": 0.25,
         "ExitRates": 0.7000000000000001,
         "PageValues": 0,
         "SpecialDay": 0,
         "OperatingSystems": 0.2857142857142857,
         "Browser": 0.08333333333333333,
         "Region": 0.125,
         "TrafficType": 0.15789473684210525,
         "Weekend": 0,
         "_deepnote_index_column": 3
        },
        {
         "Administrative": 0,
         "Administrative_Duration": 0,
         "Informational": 0,
         "Informational_Duration": 0,
         "ProductRelated": 0.014184397163120569,
         "ProductRelated_Duration": 0.00980874552668819,
         "BounceRates": 0.1,
         "ExitRates": 0.25,
         "PageValues": 0,
         "SpecialDay": 0,
         "OperatingSystems": 0.2857142857142857,
         "Browser": 0.16666666666666669,
         "Region": 0,
         "TrafficType": 0.15789473684210525,
         "Weekend": 1,
         "_deepnote_index_column": 4
        }
       ],
       "rows_bottom": null
      },
      "text/plain": "   Administrative  Administrative_Duration  Informational  \\\n0             0.0                      0.0            0.0   \n1             0.0                      0.0            0.0   \n2             0.0                      0.0            0.0   \n3             0.0                      0.0            0.0   \n4             0.0                      0.0            0.0   \n\n   Informational_Duration  ProductRelated  ProductRelated_Duration  \\\n0                     0.0        0.001418                 0.000000   \n1                     0.0        0.002837                 0.001000   \n2                     0.0        0.001418                 0.000000   \n3                     0.0        0.002837                 0.000042   \n4                     0.0        0.014184                 0.009809   \n\n   BounceRates  ExitRates  PageValues  SpecialDay  OperatingSystems   Browser  \\\n0         1.00       1.00         0.0         0.0          0.000000  0.000000   \n1         0.00       0.50         0.0         0.0          0.142857  0.083333   \n2         1.00       1.00         0.0         0.0          0.428571  0.000000   \n3         0.25       0.70         0.0         0.0          0.285714  0.083333   \n4         0.10       0.25         0.0         0.0          0.285714  0.166667   \n\n   Region  TrafficType  Weekend  \n0   0.000     0.000000      0.0  \n1   0.000     0.052632      0.0  \n2   1.000     0.105263      0.0  \n3   0.125     0.157895      0.0  \n4   0.000     0.157895      1.0  ",
      "text/html": "<div>\n<style scoped>\n    .dataframe tbody tr th:only-of-type {\n        vertical-align: middle;\n    }\n\n    .dataframe tbody tr th {\n        vertical-align: top;\n    }\n\n    .dataframe thead th {\n        text-align: right;\n    }\n</style>\n<table border=\"1\" class=\"dataframe\">\n  <thead>\n    <tr style=\"text-align: right;\">\n      <th></th>\n      <th>Administrative</th>\n      <th>Administrative_Duration</th>\n      <th>Informational</th>\n      <th>Informational_Duration</th>\n      <th>ProductRelated</th>\n      <th>ProductRelated_Duration</th>\n      <th>BounceRates</th>\n      <th>ExitRates</th>\n      <th>PageValues</th>\n      <th>SpecialDay</th>\n      <th>OperatingSystems</th>\n      <th>Browser</th>\n      <th>Region</th>\n      <th>TrafficType</th>\n      <th>Weekend</th>\n    </tr>\n  </thead>\n  <tbody>\n    <tr>\n      <th>0</th>\n      <td>0.0</td>\n      <td>0.0</td>\n      <td>0.0</td>\n      <td>0.0</td>\n      <td>0.001418</td>\n      <td>0.000000</td>\n      <td>1.00</td>\n      <td>1.00</td>\n      <td>0.0</td>\n      <td>0.0</td>\n      <td>0.000000</td>\n      <td>0.000000</td>\n      <td>0.000</td>\n      <td>0.000000</td>\n      <td>0.0</td>\n    </tr>\n    <tr>\n      <th>1</th>\n      <td>0.0</td>\n      <td>0.0</td>\n      <td>0.0</td>\n      <td>0.0</td>\n      <td>0.002837</td>\n      <td>0.001000</td>\n      <td>0.00</td>\n      <td>0.50</td>\n      <td>0.0</td>\n      <td>0.0</td>\n      <td>0.142857</td>\n      <td>0.083333</td>\n      <td>0.000</td>\n      <td>0.052632</td>\n      <td>0.0</td>\n    </tr>\n    <tr>\n      <th>2</th>\n      <td>0.0</td>\n      <td>0.0</td>\n      <td>0.0</td>\n      <td>0.0</td>\n      <td>0.001418</td>\n      <td>0.000000</td>\n      <td>1.00</td>\n      <td>1.00</td>\n      <td>0.0</td>\n      <td>0.0</td>\n      <td>0.428571</td>\n      <td>0.000000</td>\n      <td>1.000</td>\n      <td>0.105263</td>\n      <td>0.0</td>\n    </tr>\n    <tr>\n      <th>3</th>\n      <td>0.0</td>\n      <td>0.0</td>\n      <td>0.0</td>\n      <td>0.0</td>\n      <td>0.002837</td>\n      <td>0.000042</td>\n      <td>0.25</td>\n      <td>0.70</td>\n      <td>0.0</td>\n      <td>0.0</td>\n      <td>0.285714</td>\n      <td>0.083333</td>\n      <td>0.125</td>\n      <td>0.157895</td>\n      <td>0.0</td>\n    </tr>\n    <tr>\n      <th>4</th>\n      <td>0.0</td>\n      <td>0.0</td>\n      <td>0.0</td>\n      <td>0.0</td>\n      <td>0.014184</td>\n      <td>0.009809</td>\n      <td>0.10</td>\n      <td>0.25</td>\n      <td>0.0</td>\n      <td>0.0</td>\n      <td>0.285714</td>\n      <td>0.166667</td>\n      <td>0.000</td>\n      <td>0.157895</td>\n      <td>1.0</td>\n    </tr>\n  </tbody>\n</table>\n</div>"
     },
     "metadata": {}
    }
   ]
  },
  {
   "cell_type": "code",
   "metadata": {
    "tags": [],
    "cell_id": "00015-bc576ed6-e8c0-487c-93e9-5a0f729f93a6",
    "deepnote_to_be_reexecuted": false,
    "source_hash": "a12a3b64",
    "execution_start": 1633352225586,
    "execution_millis": 9,
    "deepnote_cell_type": "code"
   },
   "source": "X_scaled = pd.concat([X_num_sc,X[['Month','VisitorType']]],axis=1)",
   "execution_count": 13,
   "outputs": []
  },
  {
   "cell_type": "code",
   "metadata": {
    "tags": [],
    "cell_id": "00016-609ba5e5-89a3-40e1-8e1b-28889a90c1e7",
    "deepnote_to_be_reexecuted": false,
    "source_hash": "48883400",
    "execution_start": 1633352225621,
    "execution_millis": 330,
    "deepnote_cell_type": "code"
   },
   "source": "X_scaled.head()",
   "execution_count": 14,
   "outputs": [
    {
     "output_type": "execute_result",
     "execution_count": 14,
     "data": {
      "application/vnd.deepnote.dataframe.v2+json": {
       "row_count": 5,
       "column_count": 17,
       "columns": [
        {
         "name": "Administrative",
         "dtype": "float64",
         "stats": {
          "unique_count": 1,
          "nan_count": 0,
          "min": "0.0",
          "max": "0.0",
          "histogram": [
           {
            "bin_start": -0.5,
            "bin_end": -0.4,
            "count": 0
           },
           {
            "bin_start": -0.4,
            "bin_end": -0.3,
            "count": 0
           },
           {
            "bin_start": -0.3,
            "bin_end": -0.19999999999999996,
            "count": 0
           },
           {
            "bin_start": -0.19999999999999996,
            "bin_end": -0.09999999999999998,
            "count": 0
           },
           {
            "bin_start": -0.09999999999999998,
            "bin_end": 0,
            "count": 0
           },
           {
            "bin_start": 0,
            "bin_end": 0.10000000000000009,
            "count": 5
           },
           {
            "bin_start": 0.10000000000000009,
            "bin_end": 0.20000000000000007,
            "count": 0
           },
           {
            "bin_start": 0.20000000000000007,
            "bin_end": 0.30000000000000004,
            "count": 0
           },
           {
            "bin_start": 0.30000000000000004,
            "bin_end": 0.4,
            "count": 0
           },
           {
            "bin_start": 0.4,
            "bin_end": 0.5,
            "count": 0
           }
          ]
         }
        },
        {
         "name": "Administrative_Duration",
         "dtype": "float64",
         "stats": {
          "unique_count": 1,
          "nan_count": 0,
          "min": "0.0",
          "max": "0.0",
          "histogram": [
           {
            "bin_start": -0.5,
            "bin_end": -0.4,
            "count": 0
           },
           {
            "bin_start": -0.4,
            "bin_end": -0.3,
            "count": 0
           },
           {
            "bin_start": -0.3,
            "bin_end": -0.19999999999999996,
            "count": 0
           },
           {
            "bin_start": -0.19999999999999996,
            "bin_end": -0.09999999999999998,
            "count": 0
           },
           {
            "bin_start": -0.09999999999999998,
            "bin_end": 0,
            "count": 0
           },
           {
            "bin_start": 0,
            "bin_end": 0.10000000000000009,
            "count": 5
           },
           {
            "bin_start": 0.10000000000000009,
            "bin_end": 0.20000000000000007,
            "count": 0
           },
           {
            "bin_start": 0.20000000000000007,
            "bin_end": 0.30000000000000004,
            "count": 0
           },
           {
            "bin_start": 0.30000000000000004,
            "bin_end": 0.4,
            "count": 0
           },
           {
            "bin_start": 0.4,
            "bin_end": 0.5,
            "count": 0
           }
          ]
         }
        },
        {
         "name": "Informational",
         "dtype": "float64",
         "stats": {
          "unique_count": 1,
          "nan_count": 0,
          "min": "0.0",
          "max": "0.0",
          "histogram": [
           {
            "bin_start": -0.5,
            "bin_end": -0.4,
            "count": 0
           },
           {
            "bin_start": -0.4,
            "bin_end": -0.3,
            "count": 0
           },
           {
            "bin_start": -0.3,
            "bin_end": -0.19999999999999996,
            "count": 0
           },
           {
            "bin_start": -0.19999999999999996,
            "bin_end": -0.09999999999999998,
            "count": 0
           },
           {
            "bin_start": -0.09999999999999998,
            "bin_end": 0,
            "count": 0
           },
           {
            "bin_start": 0,
            "bin_end": 0.10000000000000009,
            "count": 5
           },
           {
            "bin_start": 0.10000000000000009,
            "bin_end": 0.20000000000000007,
            "count": 0
           },
           {
            "bin_start": 0.20000000000000007,
            "bin_end": 0.30000000000000004,
            "count": 0
           },
           {
            "bin_start": 0.30000000000000004,
            "bin_end": 0.4,
            "count": 0
           },
           {
            "bin_start": 0.4,
            "bin_end": 0.5,
            "count": 0
           }
          ]
         }
        },
        {
         "name": "Informational_Duration",
         "dtype": "float64",
         "stats": {
          "unique_count": 1,
          "nan_count": 0,
          "min": "0.0",
          "max": "0.0",
          "histogram": [
           {
            "bin_start": -0.5,
            "bin_end": -0.4,
            "count": 0
           },
           {
            "bin_start": -0.4,
            "bin_end": -0.3,
            "count": 0
           },
           {
            "bin_start": -0.3,
            "bin_end": -0.19999999999999996,
            "count": 0
           },
           {
            "bin_start": -0.19999999999999996,
            "bin_end": -0.09999999999999998,
            "count": 0
           },
           {
            "bin_start": -0.09999999999999998,
            "bin_end": 0,
            "count": 0
           },
           {
            "bin_start": 0,
            "bin_end": 0.10000000000000009,
            "count": 5
           },
           {
            "bin_start": 0.10000000000000009,
            "bin_end": 0.20000000000000007,
            "count": 0
           },
           {
            "bin_start": 0.20000000000000007,
            "bin_end": 0.30000000000000004,
            "count": 0
           },
           {
            "bin_start": 0.30000000000000004,
            "bin_end": 0.4,
            "count": 0
           },
           {
            "bin_start": 0.4,
            "bin_end": 0.5,
            "count": 0
           }
          ]
         }
        },
        {
         "name": "ProductRelated",
         "dtype": "float64",
         "stats": {
          "unique_count": 3,
          "nan_count": 0,
          "min": "0.0014184397163120568",
          "max": "0.014184397163120569",
          "histogram": [
           {
            "bin_start": 0.0014184397163120568,
            "bin_end": 0.002695035460992908,
            "count": 2
           },
           {
            "bin_start": 0.002695035460992908,
            "bin_end": 0.003971631205673759,
            "count": 2
           },
           {
            "bin_start": 0.003971631205673759,
            "bin_end": 0.005248226950354611,
            "count": 0
           },
           {
            "bin_start": 0.005248226950354611,
            "bin_end": 0.006524822695035462,
            "count": 0
           },
           {
            "bin_start": 0.006524822695035462,
            "bin_end": 0.007801418439716313,
            "count": 0
           },
           {
            "bin_start": 0.007801418439716313,
            "bin_end": 0.009078014184397165,
            "count": 0
           },
           {
            "bin_start": 0.009078014184397165,
            "bin_end": 0.010354609929078015,
            "count": 0
           },
           {
            "bin_start": 0.010354609929078015,
            "bin_end": 0.011631205673758867,
            "count": 0
           },
           {
            "bin_start": 0.011631205673758867,
            "bin_end": 0.012907801418439719,
            "count": 0
           },
           {
            "bin_start": 0.012907801418439719,
            "bin_end": 0.014184397163120569,
            "count": 1
           }
          ]
         }
        },
        {
         "name": "ProductRelated_Duration",
         "dtype": "float64",
         "stats": {
          "unique_count": 4,
          "nan_count": 0,
          "min": "0.0",
          "max": "0.00980874552668819",
          "histogram": [
           {
            "bin_start": 0,
            "bin_end": 0.000980874552668819,
            "count": 3
           },
           {
            "bin_start": 0.000980874552668819,
            "bin_end": 0.001961749105337638,
            "count": 1
           },
           {
            "bin_start": 0.001961749105337638,
            "bin_end": 0.0029426236580064567,
            "count": 0
           },
           {
            "bin_start": 0.0029426236580064567,
            "bin_end": 0.003923498210675276,
            "count": 0
           },
           {
            "bin_start": 0.003923498210675276,
            "bin_end": 0.004904372763344095,
            "count": 0
           },
           {
            "bin_start": 0.004904372763344095,
            "bin_end": 0.0058852473160129135,
            "count": 0
           },
           {
            "bin_start": 0.0058852473160129135,
            "bin_end": 0.006866121868681733,
            "count": 0
           },
           {
            "bin_start": 0.006866121868681733,
            "bin_end": 0.007846996421350552,
            "count": 0
           },
           {
            "bin_start": 0.007846996421350552,
            "bin_end": 0.00882787097401937,
            "count": 0
           },
           {
            "bin_start": 0.00882787097401937,
            "bin_end": 0.00980874552668819,
            "count": 1
           }
          ]
         }
        },
        {
         "name": "BounceRates",
         "dtype": "float64",
         "stats": {
          "unique_count": 4,
          "nan_count": 0,
          "min": "0.0",
          "max": "1.0",
          "histogram": [
           {
            "bin_start": 0,
            "bin_end": 0.1,
            "count": 1
           },
           {
            "bin_start": 0.1,
            "bin_end": 0.2,
            "count": 1
           },
           {
            "bin_start": 0.2,
            "bin_end": 0.30000000000000004,
            "count": 1
           },
           {
            "bin_start": 0.30000000000000004,
            "bin_end": 0.4,
            "count": 0
           },
           {
            "bin_start": 0.4,
            "bin_end": 0.5,
            "count": 0
           },
           {
            "bin_start": 0.5,
            "bin_end": 0.6000000000000001,
            "count": 0
           },
           {
            "bin_start": 0.6000000000000001,
            "bin_end": 0.7000000000000001,
            "count": 0
           },
           {
            "bin_start": 0.7000000000000001,
            "bin_end": 0.8,
            "count": 0
           },
           {
            "bin_start": 0.8,
            "bin_end": 0.9,
            "count": 0
           },
           {
            "bin_start": 0.9,
            "bin_end": 1,
            "count": 2
           }
          ]
         }
        },
        {
         "name": "ExitRates",
         "dtype": "float64",
         "stats": {
          "unique_count": 4,
          "nan_count": 0,
          "min": "0.25",
          "max": "1.0",
          "histogram": [
           {
            "bin_start": 0.25,
            "bin_end": 0.325,
            "count": 1
           },
           {
            "bin_start": 0.325,
            "bin_end": 0.4,
            "count": 0
           },
           {
            "bin_start": 0.4,
            "bin_end": 0.475,
            "count": 0
           },
           {
            "bin_start": 0.475,
            "bin_end": 0.55,
            "count": 1
           },
           {
            "bin_start": 0.55,
            "bin_end": 0.625,
            "count": 0
           },
           {
            "bin_start": 0.625,
            "bin_end": 0.7,
            "count": 0
           },
           {
            "bin_start": 0.7,
            "bin_end": 0.775,
            "count": 1
           },
           {
            "bin_start": 0.775,
            "bin_end": 0.85,
            "count": 0
           },
           {
            "bin_start": 0.85,
            "bin_end": 0.9249999999999999,
            "count": 0
           },
           {
            "bin_start": 0.9249999999999999,
            "bin_end": 1,
            "count": 2
           }
          ]
         }
        },
        {
         "name": "PageValues",
         "dtype": "float64",
         "stats": {
          "unique_count": 1,
          "nan_count": 0,
          "min": "0.0",
          "max": "0.0",
          "histogram": [
           {
            "bin_start": -0.5,
            "bin_end": -0.4,
            "count": 0
           },
           {
            "bin_start": -0.4,
            "bin_end": -0.3,
            "count": 0
           },
           {
            "bin_start": -0.3,
            "bin_end": -0.19999999999999996,
            "count": 0
           },
           {
            "bin_start": -0.19999999999999996,
            "bin_end": -0.09999999999999998,
            "count": 0
           },
           {
            "bin_start": -0.09999999999999998,
            "bin_end": 0,
            "count": 0
           },
           {
            "bin_start": 0,
            "bin_end": 0.10000000000000009,
            "count": 5
           },
           {
            "bin_start": 0.10000000000000009,
            "bin_end": 0.20000000000000007,
            "count": 0
           },
           {
            "bin_start": 0.20000000000000007,
            "bin_end": 0.30000000000000004,
            "count": 0
           },
           {
            "bin_start": 0.30000000000000004,
            "bin_end": 0.4,
            "count": 0
           },
           {
            "bin_start": 0.4,
            "bin_end": 0.5,
            "count": 0
           }
          ]
         }
        },
        {
         "name": "SpecialDay",
         "dtype": "float64",
         "stats": {
          "unique_count": 1,
          "nan_count": 0,
          "min": "0.0",
          "max": "0.0",
          "histogram": [
           {
            "bin_start": -0.5,
            "bin_end": -0.4,
            "count": 0
           },
           {
            "bin_start": -0.4,
            "bin_end": -0.3,
            "count": 0
           },
           {
            "bin_start": -0.3,
            "bin_end": -0.19999999999999996,
            "count": 0
           },
           {
            "bin_start": -0.19999999999999996,
            "bin_end": -0.09999999999999998,
            "count": 0
           },
           {
            "bin_start": -0.09999999999999998,
            "bin_end": 0,
            "count": 0
           },
           {
            "bin_start": 0,
            "bin_end": 0.10000000000000009,
            "count": 5
           },
           {
            "bin_start": 0.10000000000000009,
            "bin_end": 0.20000000000000007,
            "count": 0
           },
           {
            "bin_start": 0.20000000000000007,
            "bin_end": 0.30000000000000004,
            "count": 0
           },
           {
            "bin_start": 0.30000000000000004,
            "bin_end": 0.4,
            "count": 0
           },
           {
            "bin_start": 0.4,
            "bin_end": 0.5,
            "count": 0
           }
          ]
         }
        },
        {
         "name": "OperatingSystems",
         "dtype": "float64",
         "stats": {
          "unique_count": 4,
          "nan_count": 0,
          "min": "0.0",
          "max": "0.42857142857142855",
          "histogram": [
           {
            "bin_start": 0,
            "bin_end": 0.04285714285714286,
            "count": 1
           },
           {
            "bin_start": 0.04285714285714286,
            "bin_end": 0.08571428571428572,
            "count": 0
           },
           {
            "bin_start": 0.08571428571428572,
            "bin_end": 0.12857142857142856,
            "count": 0
           },
           {
            "bin_start": 0.12857142857142856,
            "bin_end": 0.17142857142857143,
            "count": 1
           },
           {
            "bin_start": 0.17142857142857143,
            "bin_end": 0.2142857142857143,
            "count": 0
           },
           {
            "bin_start": 0.2142857142857143,
            "bin_end": 0.2571428571428571,
            "count": 0
           },
           {
            "bin_start": 0.2571428571428571,
            "bin_end": 0.3,
            "count": 2
           },
           {
            "bin_start": 0.3,
            "bin_end": 0.34285714285714286,
            "count": 0
           },
           {
            "bin_start": 0.34285714285714286,
            "bin_end": 0.38571428571428573,
            "count": 0
           },
           {
            "bin_start": 0.38571428571428573,
            "bin_end": 0.42857142857142855,
            "count": 1
           }
          ]
         }
        },
        {
         "name": "Browser",
         "dtype": "float64",
         "stats": {
          "unique_count": 3,
          "nan_count": 0,
          "min": "0.0",
          "max": "0.16666666666666669",
          "histogram": [
           {
            "bin_start": 0,
            "bin_end": 0.01666666666666667,
            "count": 2
           },
           {
            "bin_start": 0.01666666666666667,
            "bin_end": 0.03333333333333334,
            "count": 0
           },
           {
            "bin_start": 0.03333333333333334,
            "bin_end": 0.05000000000000001,
            "count": 0
           },
           {
            "bin_start": 0.05000000000000001,
            "bin_end": 0.06666666666666668,
            "count": 0
           },
           {
            "bin_start": 0.06666666666666668,
            "bin_end": 0.08333333333333334,
            "count": 2
           },
           {
            "bin_start": 0.08333333333333334,
            "bin_end": 0.10000000000000002,
            "count": 0
           },
           {
            "bin_start": 0.10000000000000002,
            "bin_end": 0.1166666666666667,
            "count": 0
           },
           {
            "bin_start": 0.1166666666666667,
            "bin_end": 0.13333333333333336,
            "count": 0
           },
           {
            "bin_start": 0.13333333333333336,
            "bin_end": 0.15000000000000002,
            "count": 0
           },
           {
            "bin_start": 0.15000000000000002,
            "bin_end": 0.16666666666666669,
            "count": 1
           }
          ]
         }
        },
        {
         "name": "Region",
         "dtype": "float64",
         "stats": {
          "unique_count": 3,
          "nan_count": 0,
          "min": "0.0",
          "max": "1.0",
          "histogram": [
           {
            "bin_start": 0,
            "bin_end": 0.1,
            "count": 3
           },
           {
            "bin_start": 0.1,
            "bin_end": 0.2,
            "count": 1
           },
           {
            "bin_start": 0.2,
            "bin_end": 0.30000000000000004,
            "count": 0
           },
           {
            "bin_start": 0.30000000000000004,
            "bin_end": 0.4,
            "count": 0
           },
           {
            "bin_start": 0.4,
            "bin_end": 0.5,
            "count": 0
           },
           {
            "bin_start": 0.5,
            "bin_end": 0.6000000000000001,
            "count": 0
           },
           {
            "bin_start": 0.6000000000000001,
            "bin_end": 0.7000000000000001,
            "count": 0
           },
           {
            "bin_start": 0.7000000000000001,
            "bin_end": 0.8,
            "count": 0
           },
           {
            "bin_start": 0.8,
            "bin_end": 0.9,
            "count": 0
           },
           {
            "bin_start": 0.9,
            "bin_end": 1,
            "count": 1
           }
          ]
         }
        },
        {
         "name": "TrafficType",
         "dtype": "float64",
         "stats": {
          "unique_count": 4,
          "nan_count": 0,
          "min": "0.0",
          "max": "0.15789473684210525",
          "histogram": [
           {
            "bin_start": 0,
            "bin_end": 0.015789473684210527,
            "count": 1
           },
           {
            "bin_start": 0.015789473684210527,
            "bin_end": 0.031578947368421054,
            "count": 0
           },
           {
            "bin_start": 0.031578947368421054,
            "bin_end": 0.04736842105263158,
            "count": 0
           },
           {
            "bin_start": 0.04736842105263158,
            "bin_end": 0.06315789473684211,
            "count": 1
           },
           {
            "bin_start": 0.06315789473684211,
            "bin_end": 0.07894736842105263,
            "count": 0
           },
           {
            "bin_start": 0.07894736842105263,
            "bin_end": 0.09473684210526316,
            "count": 0
           },
           {
            "bin_start": 0.09473684210526316,
            "bin_end": 0.1105263157894737,
            "count": 1
           },
           {
            "bin_start": 0.1105263157894737,
            "bin_end": 0.12631578947368421,
            "count": 0
           },
           {
            "bin_start": 0.12631578947368421,
            "bin_end": 0.14210526315789473,
            "count": 0
           },
           {
            "bin_start": 0.14210526315789473,
            "bin_end": 0.15789473684210525,
            "count": 2
           }
          ]
         }
        },
        {
         "name": "Weekend",
         "dtype": "float64",
         "stats": {
          "unique_count": 2,
          "nan_count": 0,
          "min": "0.0",
          "max": "1.0",
          "histogram": [
           {
            "bin_start": 0,
            "bin_end": 0.1,
            "count": 4
           },
           {
            "bin_start": 0.1,
            "bin_end": 0.2,
            "count": 0
           },
           {
            "bin_start": 0.2,
            "bin_end": 0.30000000000000004,
            "count": 0
           },
           {
            "bin_start": 0.30000000000000004,
            "bin_end": 0.4,
            "count": 0
           },
           {
            "bin_start": 0.4,
            "bin_end": 0.5,
            "count": 0
           },
           {
            "bin_start": 0.5,
            "bin_end": 0.6000000000000001,
            "count": 0
           },
           {
            "bin_start": 0.6000000000000001,
            "bin_end": 0.7000000000000001,
            "count": 0
           },
           {
            "bin_start": 0.7000000000000001,
            "bin_end": 0.8,
            "count": 0
           },
           {
            "bin_start": 0.8,
            "bin_end": 0.9,
            "count": 0
           },
           {
            "bin_start": 0.9,
            "bin_end": 1,
            "count": 1
           }
          ]
         }
        },
        {
         "name": "Month",
         "dtype": "object",
         "stats": {
          "unique_count": 1,
          "nan_count": 0,
          "categories": [
           {
            "name": "Feb",
            "count": 5
           }
          ]
         }
        },
        {
         "name": "VisitorType",
         "dtype": "object",
         "stats": {
          "unique_count": 1,
          "nan_count": 0,
          "categories": [
           {
            "name": "Returning_Visitor",
            "count": 5
           }
          ]
         }
        },
        {
         "name": "_deepnote_index_column",
         "dtype": "int64"
        }
       ],
       "rows_top": [
        {
         "Administrative": 0,
         "Administrative_Duration": 0,
         "Informational": 0,
         "Informational_Duration": 0,
         "ProductRelated": 0.0014184397163120568,
         "ProductRelated_Duration": 0,
         "BounceRates": 1,
         "ExitRates": 1,
         "PageValues": 0,
         "SpecialDay": 0,
         "OperatingSystems": 0,
         "Browser": 0,
         "Region": 0,
         "TrafficType": 0,
         "Weekend": 0,
         "Month": "Feb",
         "VisitorType": "Returning_Visitor",
         "_deepnote_index_column": 0
        },
        {
         "Administrative": 0,
         "Administrative_Duration": 0,
         "Informational": 0,
         "Informational_Duration": 0,
         "ProductRelated": 0.0028368794326241137,
         "ProductRelated_Duration": 0.0010004138863873213,
         "BounceRates": 0,
         "ExitRates": 0.5,
         "PageValues": 0,
         "SpecialDay": 0,
         "OperatingSystems": 0.14285714285714285,
         "Browser": 0.08333333333333333,
         "Region": 0,
         "TrafficType": 0.05263157894736842,
         "Weekend": 0,
         "Month": "Feb",
         "VisitorType": "Returning_Visitor",
         "_deepnote_index_column": 1
        },
        {
         "Administrative": 0,
         "Administrative_Duration": 0,
         "Informational": 0,
         "Informational_Duration": 0,
         "ProductRelated": 0.0014184397163120568,
         "ProductRelated_Duration": 0,
         "BounceRates": 1,
         "ExitRates": 1,
         "PageValues": 0,
         "SpecialDay": 0,
         "OperatingSystems": 0.42857142857142855,
         "Browser": 0,
         "Region": 1,
         "TrafficType": 0.10526315789473684,
         "Weekend": 0,
         "Month": "Feb",
         "VisitorType": "Returning_Visitor",
         "_deepnote_index_column": 2
        },
        {
         "Administrative": 0,
         "Administrative_Duration": 0,
         "Informational": 0,
         "Informational_Duration": 0,
         "ProductRelated": 0.0028368794326241137,
         "ProductRelated_Duration": 0.00004168391193801554,
         "BounceRates": 0.25,
         "ExitRates": 0.7000000000000001,
         "PageValues": 0,
         "SpecialDay": 0,
         "OperatingSystems": 0.2857142857142857,
         "Browser": 0.08333333333333333,
         "Region": 0.125,
         "TrafficType": 0.15789473684210525,
         "Weekend": 0,
         "Month": "Feb",
         "VisitorType": "Returning_Visitor",
         "_deepnote_index_column": 3
        },
        {
         "Administrative": 0,
         "Administrative_Duration": 0,
         "Informational": 0,
         "Informational_Duration": 0,
         "ProductRelated": 0.014184397163120569,
         "ProductRelated_Duration": 0.00980874552668819,
         "BounceRates": 0.1,
         "ExitRates": 0.25,
         "PageValues": 0,
         "SpecialDay": 0,
         "OperatingSystems": 0.2857142857142857,
         "Browser": 0.16666666666666669,
         "Region": 0,
         "TrafficType": 0.15789473684210525,
         "Weekend": 1,
         "Month": "Feb",
         "VisitorType": "Returning_Visitor",
         "_deepnote_index_column": 4
        }
       ],
       "rows_bottom": null
      },
      "text/plain": "   Administrative  Administrative_Duration  Informational  \\\n0             0.0                      0.0            0.0   \n1             0.0                      0.0            0.0   \n2             0.0                      0.0            0.0   \n3             0.0                      0.0            0.0   \n4             0.0                      0.0            0.0   \n\n   Informational_Duration  ProductRelated  ProductRelated_Duration  \\\n0                     0.0        0.001418                 0.000000   \n1                     0.0        0.002837                 0.001000   \n2                     0.0        0.001418                 0.000000   \n3                     0.0        0.002837                 0.000042   \n4                     0.0        0.014184                 0.009809   \n\n   BounceRates  ExitRates  PageValues  SpecialDay  OperatingSystems   Browser  \\\n0         1.00       1.00         0.0         0.0          0.000000  0.000000   \n1         0.00       0.50         0.0         0.0          0.142857  0.083333   \n2         1.00       1.00         0.0         0.0          0.428571  0.000000   \n3         0.25       0.70         0.0         0.0          0.285714  0.083333   \n4         0.10       0.25         0.0         0.0          0.285714  0.166667   \n\n   Region  TrafficType  Weekend Month        VisitorType  \n0   0.000     0.000000      0.0   Feb  Returning_Visitor  \n1   0.000     0.052632      0.0   Feb  Returning_Visitor  \n2   1.000     0.105263      0.0   Feb  Returning_Visitor  \n3   0.125     0.157895      0.0   Feb  Returning_Visitor  \n4   0.000     0.157895      1.0   Feb  Returning_Visitor  ",
      "text/html": "<div>\n<style scoped>\n    .dataframe tbody tr th:only-of-type {\n        vertical-align: middle;\n    }\n\n    .dataframe tbody tr th {\n        vertical-align: top;\n    }\n\n    .dataframe thead th {\n        text-align: right;\n    }\n</style>\n<table border=\"1\" class=\"dataframe\">\n  <thead>\n    <tr style=\"text-align: right;\">\n      <th></th>\n      <th>Administrative</th>\n      <th>Administrative_Duration</th>\n      <th>Informational</th>\n      <th>Informational_Duration</th>\n      <th>ProductRelated</th>\n      <th>ProductRelated_Duration</th>\n      <th>BounceRates</th>\n      <th>ExitRates</th>\n      <th>PageValues</th>\n      <th>SpecialDay</th>\n      <th>OperatingSystems</th>\n      <th>Browser</th>\n      <th>Region</th>\n      <th>TrafficType</th>\n      <th>Weekend</th>\n      <th>Month</th>\n      <th>VisitorType</th>\n    </tr>\n  </thead>\n  <tbody>\n    <tr>\n      <th>0</th>\n      <td>0.0</td>\n      <td>0.0</td>\n      <td>0.0</td>\n      <td>0.0</td>\n      <td>0.001418</td>\n      <td>0.000000</td>\n      <td>1.00</td>\n      <td>1.00</td>\n      <td>0.0</td>\n      <td>0.0</td>\n      <td>0.000000</td>\n      <td>0.000000</td>\n      <td>0.000</td>\n      <td>0.000000</td>\n      <td>0.0</td>\n      <td>Feb</td>\n      <td>Returning_Visitor</td>\n    </tr>\n    <tr>\n      <th>1</th>\n      <td>0.0</td>\n      <td>0.0</td>\n      <td>0.0</td>\n      <td>0.0</td>\n      <td>0.002837</td>\n      <td>0.001000</td>\n      <td>0.00</td>\n      <td>0.50</td>\n      <td>0.0</td>\n      <td>0.0</td>\n      <td>0.142857</td>\n      <td>0.083333</td>\n      <td>0.000</td>\n      <td>0.052632</td>\n      <td>0.0</td>\n      <td>Feb</td>\n      <td>Returning_Visitor</td>\n    </tr>\n    <tr>\n      <th>2</th>\n      <td>0.0</td>\n      <td>0.0</td>\n      <td>0.0</td>\n      <td>0.0</td>\n      <td>0.001418</td>\n      <td>0.000000</td>\n      <td>1.00</td>\n      <td>1.00</td>\n      <td>0.0</td>\n      <td>0.0</td>\n      <td>0.428571</td>\n      <td>0.000000</td>\n      <td>1.000</td>\n      <td>0.105263</td>\n      <td>0.0</td>\n      <td>Feb</td>\n      <td>Returning_Visitor</td>\n    </tr>\n    <tr>\n      <th>3</th>\n      <td>0.0</td>\n      <td>0.0</td>\n      <td>0.0</td>\n      <td>0.0</td>\n      <td>0.002837</td>\n      <td>0.000042</td>\n      <td>0.25</td>\n      <td>0.70</td>\n      <td>0.0</td>\n      <td>0.0</td>\n      <td>0.285714</td>\n      <td>0.083333</td>\n      <td>0.125</td>\n      <td>0.157895</td>\n      <td>0.0</td>\n      <td>Feb</td>\n      <td>Returning_Visitor</td>\n    </tr>\n    <tr>\n      <th>4</th>\n      <td>0.0</td>\n      <td>0.0</td>\n      <td>0.0</td>\n      <td>0.0</td>\n      <td>0.014184</td>\n      <td>0.009809</td>\n      <td>0.10</td>\n      <td>0.25</td>\n      <td>0.0</td>\n      <td>0.0</td>\n      <td>0.285714</td>\n      <td>0.166667</td>\n      <td>0.000</td>\n      <td>0.157895</td>\n      <td>1.0</td>\n      <td>Feb</td>\n      <td>Returning_Visitor</td>\n    </tr>\n  </tbody>\n</table>\n</div>"
     },
     "metadata": {}
    }
   ]
  },
  {
   "cell_type": "code",
   "metadata": {
    "tags": [],
    "cell_id": "00017-2aa2c9fc-9bef-4731-8414-89abaf318217",
    "deepnote_to_be_reexecuted": false,
    "source_hash": "f2e90654",
    "execution_start": 1633352225805,
    "execution_millis": 37,
    "deepnote_cell_type": "code"
   },
   "source": "X_scaled_enc=X_scaled #made another variable just to preserve the above one\nfor i in ('Month','VisitorType'):\n    dummies = pd.get_dummies(X_scaled[i]) #1-hot encoding\n    dummies.columns=str(i)+'_'+dummies.columns \n    X_scaled_enc = pd.concat([X_scaled_enc,dummies],axis=1)\n    X_scaled_enc.drop(i,inplace=True,axis=1)\n    \n",
   "execution_count": 15,
   "outputs": []
  },
  {
   "cell_type": "code",
   "metadata": {
    "tags": [],
    "cell_id": "00018-88f307c0-1a3b-45e7-811d-cdb48a338eee",
    "deepnote_to_be_reexecuted": false,
    "source_hash": "ac63be9",
    "execution_start": 1633352225842,
    "execution_millis": 181,
    "deepnote_cell_type": "code"
   },
   "source": "X_scaled_enc.head()\n",
   "execution_count": 16,
   "outputs": [
    {
     "output_type": "execute_result",
     "execution_count": 16,
     "data": {
      "application/vnd.deepnote.dataframe.v2+json": {
       "row_count": 5,
       "column_count": 28,
       "columns": [
        {
         "name": "Administrative",
         "dtype": "float64",
         "stats": {
          "unique_count": 1,
          "nan_count": 0,
          "min": "0.0",
          "max": "0.0",
          "histogram": [
           {
            "bin_start": -0.5,
            "bin_end": -0.4,
            "count": 0
           },
           {
            "bin_start": -0.4,
            "bin_end": -0.3,
            "count": 0
           },
           {
            "bin_start": -0.3,
            "bin_end": -0.19999999999999996,
            "count": 0
           },
           {
            "bin_start": -0.19999999999999996,
            "bin_end": -0.09999999999999998,
            "count": 0
           },
           {
            "bin_start": -0.09999999999999998,
            "bin_end": 0,
            "count": 0
           },
           {
            "bin_start": 0,
            "bin_end": 0.10000000000000009,
            "count": 5
           },
           {
            "bin_start": 0.10000000000000009,
            "bin_end": 0.20000000000000007,
            "count": 0
           },
           {
            "bin_start": 0.20000000000000007,
            "bin_end": 0.30000000000000004,
            "count": 0
           },
           {
            "bin_start": 0.30000000000000004,
            "bin_end": 0.4,
            "count": 0
           },
           {
            "bin_start": 0.4,
            "bin_end": 0.5,
            "count": 0
           }
          ]
         }
        },
        {
         "name": "Administrative_Duration",
         "dtype": "float64",
         "stats": {
          "unique_count": 1,
          "nan_count": 0,
          "min": "0.0",
          "max": "0.0",
          "histogram": [
           {
            "bin_start": -0.5,
            "bin_end": -0.4,
            "count": 0
           },
           {
            "bin_start": -0.4,
            "bin_end": -0.3,
            "count": 0
           },
           {
            "bin_start": -0.3,
            "bin_end": -0.19999999999999996,
            "count": 0
           },
           {
            "bin_start": -0.19999999999999996,
            "bin_end": -0.09999999999999998,
            "count": 0
           },
           {
            "bin_start": -0.09999999999999998,
            "bin_end": 0,
            "count": 0
           },
           {
            "bin_start": 0,
            "bin_end": 0.10000000000000009,
            "count": 5
           },
           {
            "bin_start": 0.10000000000000009,
            "bin_end": 0.20000000000000007,
            "count": 0
           },
           {
            "bin_start": 0.20000000000000007,
            "bin_end": 0.30000000000000004,
            "count": 0
           },
           {
            "bin_start": 0.30000000000000004,
            "bin_end": 0.4,
            "count": 0
           },
           {
            "bin_start": 0.4,
            "bin_end": 0.5,
            "count": 0
           }
          ]
         }
        },
        {
         "name": "Informational",
         "dtype": "float64",
         "stats": {
          "unique_count": 1,
          "nan_count": 0,
          "min": "0.0",
          "max": "0.0",
          "histogram": [
           {
            "bin_start": -0.5,
            "bin_end": -0.4,
            "count": 0
           },
           {
            "bin_start": -0.4,
            "bin_end": -0.3,
            "count": 0
           },
           {
            "bin_start": -0.3,
            "bin_end": -0.19999999999999996,
            "count": 0
           },
           {
            "bin_start": -0.19999999999999996,
            "bin_end": -0.09999999999999998,
            "count": 0
           },
           {
            "bin_start": -0.09999999999999998,
            "bin_end": 0,
            "count": 0
           },
           {
            "bin_start": 0,
            "bin_end": 0.10000000000000009,
            "count": 5
           },
           {
            "bin_start": 0.10000000000000009,
            "bin_end": 0.20000000000000007,
            "count": 0
           },
           {
            "bin_start": 0.20000000000000007,
            "bin_end": 0.30000000000000004,
            "count": 0
           },
           {
            "bin_start": 0.30000000000000004,
            "bin_end": 0.4,
            "count": 0
           },
           {
            "bin_start": 0.4,
            "bin_end": 0.5,
            "count": 0
           }
          ]
         }
        },
        {
         "name": "Informational_Duration",
         "dtype": "float64",
         "stats": {
          "unique_count": 1,
          "nan_count": 0,
          "min": "0.0",
          "max": "0.0",
          "histogram": [
           {
            "bin_start": -0.5,
            "bin_end": -0.4,
            "count": 0
           },
           {
            "bin_start": -0.4,
            "bin_end": -0.3,
            "count": 0
           },
           {
            "bin_start": -0.3,
            "bin_end": -0.19999999999999996,
            "count": 0
           },
           {
            "bin_start": -0.19999999999999996,
            "bin_end": -0.09999999999999998,
            "count": 0
           },
           {
            "bin_start": -0.09999999999999998,
            "bin_end": 0,
            "count": 0
           },
           {
            "bin_start": 0,
            "bin_end": 0.10000000000000009,
            "count": 5
           },
           {
            "bin_start": 0.10000000000000009,
            "bin_end": 0.20000000000000007,
            "count": 0
           },
           {
            "bin_start": 0.20000000000000007,
            "bin_end": 0.30000000000000004,
            "count": 0
           },
           {
            "bin_start": 0.30000000000000004,
            "bin_end": 0.4,
            "count": 0
           },
           {
            "bin_start": 0.4,
            "bin_end": 0.5,
            "count": 0
           }
          ]
         }
        },
        {
         "name": "ProductRelated",
         "dtype": "float64",
         "stats": {
          "unique_count": 3,
          "nan_count": 0,
          "min": "0.0014184397163120568",
          "max": "0.014184397163120569",
          "histogram": [
           {
            "bin_start": 0.0014184397163120568,
            "bin_end": 0.002695035460992908,
            "count": 2
           },
           {
            "bin_start": 0.002695035460992908,
            "bin_end": 0.003971631205673759,
            "count": 2
           },
           {
            "bin_start": 0.003971631205673759,
            "bin_end": 0.005248226950354611,
            "count": 0
           },
           {
            "bin_start": 0.005248226950354611,
            "bin_end": 0.006524822695035462,
            "count": 0
           },
           {
            "bin_start": 0.006524822695035462,
            "bin_end": 0.007801418439716313,
            "count": 0
           },
           {
            "bin_start": 0.007801418439716313,
            "bin_end": 0.009078014184397165,
            "count": 0
           },
           {
            "bin_start": 0.009078014184397165,
            "bin_end": 0.010354609929078015,
            "count": 0
           },
           {
            "bin_start": 0.010354609929078015,
            "bin_end": 0.011631205673758867,
            "count": 0
           },
           {
            "bin_start": 0.011631205673758867,
            "bin_end": 0.012907801418439719,
            "count": 0
           },
           {
            "bin_start": 0.012907801418439719,
            "bin_end": 0.014184397163120569,
            "count": 1
           }
          ]
         }
        },
        {
         "name": "ProductRelated_Duration",
         "dtype": "float64",
         "stats": {
          "unique_count": 4,
          "nan_count": 0,
          "min": "0.0",
          "max": "0.00980874552668819",
          "histogram": [
           {
            "bin_start": 0,
            "bin_end": 0.000980874552668819,
            "count": 3
           },
           {
            "bin_start": 0.000980874552668819,
            "bin_end": 0.001961749105337638,
            "count": 1
           },
           {
            "bin_start": 0.001961749105337638,
            "bin_end": 0.0029426236580064567,
            "count": 0
           },
           {
            "bin_start": 0.0029426236580064567,
            "bin_end": 0.003923498210675276,
            "count": 0
           },
           {
            "bin_start": 0.003923498210675276,
            "bin_end": 0.004904372763344095,
            "count": 0
           },
           {
            "bin_start": 0.004904372763344095,
            "bin_end": 0.0058852473160129135,
            "count": 0
           },
           {
            "bin_start": 0.0058852473160129135,
            "bin_end": 0.006866121868681733,
            "count": 0
           },
           {
            "bin_start": 0.006866121868681733,
            "bin_end": 0.007846996421350552,
            "count": 0
           },
           {
            "bin_start": 0.007846996421350552,
            "bin_end": 0.00882787097401937,
            "count": 0
           },
           {
            "bin_start": 0.00882787097401937,
            "bin_end": 0.00980874552668819,
            "count": 1
           }
          ]
         }
        },
        {
         "name": "BounceRates",
         "dtype": "float64",
         "stats": {
          "unique_count": 4,
          "nan_count": 0,
          "min": "0.0",
          "max": "1.0",
          "histogram": [
           {
            "bin_start": 0,
            "bin_end": 0.1,
            "count": 1
           },
           {
            "bin_start": 0.1,
            "bin_end": 0.2,
            "count": 1
           },
           {
            "bin_start": 0.2,
            "bin_end": 0.30000000000000004,
            "count": 1
           },
           {
            "bin_start": 0.30000000000000004,
            "bin_end": 0.4,
            "count": 0
           },
           {
            "bin_start": 0.4,
            "bin_end": 0.5,
            "count": 0
           },
           {
            "bin_start": 0.5,
            "bin_end": 0.6000000000000001,
            "count": 0
           },
           {
            "bin_start": 0.6000000000000001,
            "bin_end": 0.7000000000000001,
            "count": 0
           },
           {
            "bin_start": 0.7000000000000001,
            "bin_end": 0.8,
            "count": 0
           },
           {
            "bin_start": 0.8,
            "bin_end": 0.9,
            "count": 0
           },
           {
            "bin_start": 0.9,
            "bin_end": 1,
            "count": 2
           }
          ]
         }
        },
        {
         "name": "ExitRates",
         "dtype": "float64",
         "stats": {
          "unique_count": 4,
          "nan_count": 0,
          "min": "0.25",
          "max": "1.0",
          "histogram": [
           {
            "bin_start": 0.25,
            "bin_end": 0.325,
            "count": 1
           },
           {
            "bin_start": 0.325,
            "bin_end": 0.4,
            "count": 0
           },
           {
            "bin_start": 0.4,
            "bin_end": 0.475,
            "count": 0
           },
           {
            "bin_start": 0.475,
            "bin_end": 0.55,
            "count": 1
           },
           {
            "bin_start": 0.55,
            "bin_end": 0.625,
            "count": 0
           },
           {
            "bin_start": 0.625,
            "bin_end": 0.7,
            "count": 0
           },
           {
            "bin_start": 0.7,
            "bin_end": 0.775,
            "count": 1
           },
           {
            "bin_start": 0.775,
            "bin_end": 0.85,
            "count": 0
           },
           {
            "bin_start": 0.85,
            "bin_end": 0.9249999999999999,
            "count": 0
           },
           {
            "bin_start": 0.9249999999999999,
            "bin_end": 1,
            "count": 2
           }
          ]
         }
        },
        {
         "name": "PageValues",
         "dtype": "float64",
         "stats": {
          "unique_count": 1,
          "nan_count": 0,
          "min": "0.0",
          "max": "0.0",
          "histogram": [
           {
            "bin_start": -0.5,
            "bin_end": -0.4,
            "count": 0
           },
           {
            "bin_start": -0.4,
            "bin_end": -0.3,
            "count": 0
           },
           {
            "bin_start": -0.3,
            "bin_end": -0.19999999999999996,
            "count": 0
           },
           {
            "bin_start": -0.19999999999999996,
            "bin_end": -0.09999999999999998,
            "count": 0
           },
           {
            "bin_start": -0.09999999999999998,
            "bin_end": 0,
            "count": 0
           },
           {
            "bin_start": 0,
            "bin_end": 0.10000000000000009,
            "count": 5
           },
           {
            "bin_start": 0.10000000000000009,
            "bin_end": 0.20000000000000007,
            "count": 0
           },
           {
            "bin_start": 0.20000000000000007,
            "bin_end": 0.30000000000000004,
            "count": 0
           },
           {
            "bin_start": 0.30000000000000004,
            "bin_end": 0.4,
            "count": 0
           },
           {
            "bin_start": 0.4,
            "bin_end": 0.5,
            "count": 0
           }
          ]
         }
        },
        {
         "name": "SpecialDay",
         "dtype": "float64",
         "stats": {
          "unique_count": 1,
          "nan_count": 0,
          "min": "0.0",
          "max": "0.0",
          "histogram": [
           {
            "bin_start": -0.5,
            "bin_end": -0.4,
            "count": 0
           },
           {
            "bin_start": -0.4,
            "bin_end": -0.3,
            "count": 0
           },
           {
            "bin_start": -0.3,
            "bin_end": -0.19999999999999996,
            "count": 0
           },
           {
            "bin_start": -0.19999999999999996,
            "bin_end": -0.09999999999999998,
            "count": 0
           },
           {
            "bin_start": -0.09999999999999998,
            "bin_end": 0,
            "count": 0
           },
           {
            "bin_start": 0,
            "bin_end": 0.10000000000000009,
            "count": 5
           },
           {
            "bin_start": 0.10000000000000009,
            "bin_end": 0.20000000000000007,
            "count": 0
           },
           {
            "bin_start": 0.20000000000000007,
            "bin_end": 0.30000000000000004,
            "count": 0
           },
           {
            "bin_start": 0.30000000000000004,
            "bin_end": 0.4,
            "count": 0
           },
           {
            "bin_start": 0.4,
            "bin_end": 0.5,
            "count": 0
           }
          ]
         }
        },
        {
         "name": "OperatingSystems",
         "dtype": "float64",
         "stats": {
          "unique_count": 4,
          "nan_count": 0,
          "min": "0.0",
          "max": "0.42857142857142855",
          "histogram": [
           {
            "bin_start": 0,
            "bin_end": 0.04285714285714286,
            "count": 1
           },
           {
            "bin_start": 0.04285714285714286,
            "bin_end": 0.08571428571428572,
            "count": 0
           },
           {
            "bin_start": 0.08571428571428572,
            "bin_end": 0.12857142857142856,
            "count": 0
           },
           {
            "bin_start": 0.12857142857142856,
            "bin_end": 0.17142857142857143,
            "count": 1
           },
           {
            "bin_start": 0.17142857142857143,
            "bin_end": 0.2142857142857143,
            "count": 0
           },
           {
            "bin_start": 0.2142857142857143,
            "bin_end": 0.2571428571428571,
            "count": 0
           },
           {
            "bin_start": 0.2571428571428571,
            "bin_end": 0.3,
            "count": 2
           },
           {
            "bin_start": 0.3,
            "bin_end": 0.34285714285714286,
            "count": 0
           },
           {
            "bin_start": 0.34285714285714286,
            "bin_end": 0.38571428571428573,
            "count": 0
           },
           {
            "bin_start": 0.38571428571428573,
            "bin_end": 0.42857142857142855,
            "count": 1
           }
          ]
         }
        },
        {
         "name": "Browser",
         "dtype": "float64",
         "stats": {
          "unique_count": 3,
          "nan_count": 0,
          "min": "0.0",
          "max": "0.16666666666666669",
          "histogram": [
           {
            "bin_start": 0,
            "bin_end": 0.01666666666666667,
            "count": 2
           },
           {
            "bin_start": 0.01666666666666667,
            "bin_end": 0.03333333333333334,
            "count": 0
           },
           {
            "bin_start": 0.03333333333333334,
            "bin_end": 0.05000000000000001,
            "count": 0
           },
           {
            "bin_start": 0.05000000000000001,
            "bin_end": 0.06666666666666668,
            "count": 0
           },
           {
            "bin_start": 0.06666666666666668,
            "bin_end": 0.08333333333333334,
            "count": 2
           },
           {
            "bin_start": 0.08333333333333334,
            "bin_end": 0.10000000000000002,
            "count": 0
           },
           {
            "bin_start": 0.10000000000000002,
            "bin_end": 0.1166666666666667,
            "count": 0
           },
           {
            "bin_start": 0.1166666666666667,
            "bin_end": 0.13333333333333336,
            "count": 0
           },
           {
            "bin_start": 0.13333333333333336,
            "bin_end": 0.15000000000000002,
            "count": 0
           },
           {
            "bin_start": 0.15000000000000002,
            "bin_end": 0.16666666666666669,
            "count": 1
           }
          ]
         }
        },
        {
         "name": "Region",
         "dtype": "float64",
         "stats": {
          "unique_count": 3,
          "nan_count": 0,
          "min": "0.0",
          "max": "1.0",
          "histogram": [
           {
            "bin_start": 0,
            "bin_end": 0.1,
            "count": 3
           },
           {
            "bin_start": 0.1,
            "bin_end": 0.2,
            "count": 1
           },
           {
            "bin_start": 0.2,
            "bin_end": 0.30000000000000004,
            "count": 0
           },
           {
            "bin_start": 0.30000000000000004,
            "bin_end": 0.4,
            "count": 0
           },
           {
            "bin_start": 0.4,
            "bin_end": 0.5,
            "count": 0
           },
           {
            "bin_start": 0.5,
            "bin_end": 0.6000000000000001,
            "count": 0
           },
           {
            "bin_start": 0.6000000000000001,
            "bin_end": 0.7000000000000001,
            "count": 0
           },
           {
            "bin_start": 0.7000000000000001,
            "bin_end": 0.8,
            "count": 0
           },
           {
            "bin_start": 0.8,
            "bin_end": 0.9,
            "count": 0
           },
           {
            "bin_start": 0.9,
            "bin_end": 1,
            "count": 1
           }
          ]
         }
        },
        {
         "name": "TrafficType",
         "dtype": "float64",
         "stats": {
          "unique_count": 4,
          "nan_count": 0,
          "min": "0.0",
          "max": "0.15789473684210525",
          "histogram": [
           {
            "bin_start": 0,
            "bin_end": 0.015789473684210527,
            "count": 1
           },
           {
            "bin_start": 0.015789473684210527,
            "bin_end": 0.031578947368421054,
            "count": 0
           },
           {
            "bin_start": 0.031578947368421054,
            "bin_end": 0.04736842105263158,
            "count": 0
           },
           {
            "bin_start": 0.04736842105263158,
            "bin_end": 0.06315789473684211,
            "count": 1
           },
           {
            "bin_start": 0.06315789473684211,
            "bin_end": 0.07894736842105263,
            "count": 0
           },
           {
            "bin_start": 0.07894736842105263,
            "bin_end": 0.09473684210526316,
            "count": 0
           },
           {
            "bin_start": 0.09473684210526316,
            "bin_end": 0.1105263157894737,
            "count": 1
           },
           {
            "bin_start": 0.1105263157894737,
            "bin_end": 0.12631578947368421,
            "count": 0
           },
           {
            "bin_start": 0.12631578947368421,
            "bin_end": 0.14210526315789473,
            "count": 0
           },
           {
            "bin_start": 0.14210526315789473,
            "bin_end": 0.15789473684210525,
            "count": 2
           }
          ]
         }
        },
        {
         "name": "Weekend",
         "dtype": "float64",
         "stats": {
          "unique_count": 2,
          "nan_count": 0,
          "min": "0.0",
          "max": "1.0",
          "histogram": [
           {
            "bin_start": 0,
            "bin_end": 0.1,
            "count": 4
           },
           {
            "bin_start": 0.1,
            "bin_end": 0.2,
            "count": 0
           },
           {
            "bin_start": 0.2,
            "bin_end": 0.30000000000000004,
            "count": 0
           },
           {
            "bin_start": 0.30000000000000004,
            "bin_end": 0.4,
            "count": 0
           },
           {
            "bin_start": 0.4,
            "bin_end": 0.5,
            "count": 0
           },
           {
            "bin_start": 0.5,
            "bin_end": 0.6000000000000001,
            "count": 0
           },
           {
            "bin_start": 0.6000000000000001,
            "bin_end": 0.7000000000000001,
            "count": 0
           },
           {
            "bin_start": 0.7000000000000001,
            "bin_end": 0.8,
            "count": 0
           },
           {
            "bin_start": 0.8,
            "bin_end": 0.9,
            "count": 0
           },
           {
            "bin_start": 0.9,
            "bin_end": 1,
            "count": 1
           }
          ]
         }
        },
        {
         "name": "Month_Aug",
         "dtype": "uint8",
         "stats": {
          "unique_count": 1,
          "nan_count": 0,
          "min": "0",
          "max": "0",
          "histogram": [
           {
            "bin_start": -0.5,
            "bin_end": -0.4,
            "count": 0
           },
           {
            "bin_start": -0.4,
            "bin_end": -0.3,
            "count": 0
           },
           {
            "bin_start": -0.3,
            "bin_end": -0.19999999999999996,
            "count": 0
           },
           {
            "bin_start": -0.19999999999999996,
            "bin_end": -0.09999999999999998,
            "count": 0
           },
           {
            "bin_start": -0.09999999999999998,
            "bin_end": 0,
            "count": 0
           },
           {
            "bin_start": 0,
            "bin_end": 0.10000000000000009,
            "count": 5
           },
           {
            "bin_start": 0.10000000000000009,
            "bin_end": 0.20000000000000007,
            "count": 0
           },
           {
            "bin_start": 0.20000000000000007,
            "bin_end": 0.30000000000000004,
            "count": 0
           },
           {
            "bin_start": 0.30000000000000004,
            "bin_end": 0.4,
            "count": 0
           },
           {
            "bin_start": 0.4,
            "bin_end": 0.5,
            "count": 0
           }
          ]
         }
        },
        {
         "name": "Month_Dec",
         "dtype": "uint8",
         "stats": {
          "unique_count": 1,
          "nan_count": 0,
          "min": "0",
          "max": "0",
          "histogram": [
           {
            "bin_start": -0.5,
            "bin_end": -0.4,
            "count": 0
           },
           {
            "bin_start": -0.4,
            "bin_end": -0.3,
            "count": 0
           },
           {
            "bin_start": -0.3,
            "bin_end": -0.19999999999999996,
            "count": 0
           },
           {
            "bin_start": -0.19999999999999996,
            "bin_end": -0.09999999999999998,
            "count": 0
           },
           {
            "bin_start": -0.09999999999999998,
            "bin_end": 0,
            "count": 0
           },
           {
            "bin_start": 0,
            "bin_end": 0.10000000000000009,
            "count": 5
           },
           {
            "bin_start": 0.10000000000000009,
            "bin_end": 0.20000000000000007,
            "count": 0
           },
           {
            "bin_start": 0.20000000000000007,
            "bin_end": 0.30000000000000004,
            "count": 0
           },
           {
            "bin_start": 0.30000000000000004,
            "bin_end": 0.4,
            "count": 0
           },
           {
            "bin_start": 0.4,
            "bin_end": 0.5,
            "count": 0
           }
          ]
         }
        },
        {
         "name": "Month_Feb",
         "dtype": "uint8",
         "stats": {
          "unique_count": 1,
          "nan_count": 0,
          "min": "1",
          "max": "1",
          "histogram": [
           {
            "bin_start": 0.5,
            "bin_end": 0.6,
            "count": 0
           },
           {
            "bin_start": 0.6,
            "bin_end": 0.7,
            "count": 0
           },
           {
            "bin_start": 0.7,
            "bin_end": 0.8,
            "count": 0
           },
           {
            "bin_start": 0.8,
            "bin_end": 0.9,
            "count": 0
           },
           {
            "bin_start": 0.9,
            "bin_end": 1,
            "count": 0
           },
           {
            "bin_start": 1,
            "bin_end": 1.1,
            "count": 5
           },
           {
            "bin_start": 1.1,
            "bin_end": 1.2000000000000002,
            "count": 0
           },
           {
            "bin_start": 1.2000000000000002,
            "bin_end": 1.3,
            "count": 0
           },
           {
            "bin_start": 1.3,
            "bin_end": 1.4,
            "count": 0
           },
           {
            "bin_start": 1.4,
            "bin_end": 1.5,
            "count": 0
           }
          ]
         }
        },
        {
         "name": "Month_Jul",
         "dtype": "uint8",
         "stats": {
          "unique_count": 1,
          "nan_count": 0,
          "min": "0",
          "max": "0",
          "histogram": [
           {
            "bin_start": -0.5,
            "bin_end": -0.4,
            "count": 0
           },
           {
            "bin_start": -0.4,
            "bin_end": -0.3,
            "count": 0
           },
           {
            "bin_start": -0.3,
            "bin_end": -0.19999999999999996,
            "count": 0
           },
           {
            "bin_start": -0.19999999999999996,
            "bin_end": -0.09999999999999998,
            "count": 0
           },
           {
            "bin_start": -0.09999999999999998,
            "bin_end": 0,
            "count": 0
           },
           {
            "bin_start": 0,
            "bin_end": 0.10000000000000009,
            "count": 5
           },
           {
            "bin_start": 0.10000000000000009,
            "bin_end": 0.20000000000000007,
            "count": 0
           },
           {
            "bin_start": 0.20000000000000007,
            "bin_end": 0.30000000000000004,
            "count": 0
           },
           {
            "bin_start": 0.30000000000000004,
            "bin_end": 0.4,
            "count": 0
           },
           {
            "bin_start": 0.4,
            "bin_end": 0.5,
            "count": 0
           }
          ]
         }
        },
        {
         "name": "Month_June",
         "dtype": "uint8",
         "stats": {
          "unique_count": 1,
          "nan_count": 0,
          "min": "0",
          "max": "0",
          "histogram": [
           {
            "bin_start": -0.5,
            "bin_end": -0.4,
            "count": 0
           },
           {
            "bin_start": -0.4,
            "bin_end": -0.3,
            "count": 0
           },
           {
            "bin_start": -0.3,
            "bin_end": -0.19999999999999996,
            "count": 0
           },
           {
            "bin_start": -0.19999999999999996,
            "bin_end": -0.09999999999999998,
            "count": 0
           },
           {
            "bin_start": -0.09999999999999998,
            "bin_end": 0,
            "count": 0
           },
           {
            "bin_start": 0,
            "bin_end": 0.10000000000000009,
            "count": 5
           },
           {
            "bin_start": 0.10000000000000009,
            "bin_end": 0.20000000000000007,
            "count": 0
           },
           {
            "bin_start": 0.20000000000000007,
            "bin_end": 0.30000000000000004,
            "count": 0
           },
           {
            "bin_start": 0.30000000000000004,
            "bin_end": 0.4,
            "count": 0
           },
           {
            "bin_start": 0.4,
            "bin_end": 0.5,
            "count": 0
           }
          ]
         }
        },
        {
         "name": "Month_Mar",
         "dtype": "uint8",
         "stats": {
          "unique_count": 1,
          "nan_count": 0,
          "min": "0",
          "max": "0",
          "histogram": [
           {
            "bin_start": -0.5,
            "bin_end": -0.4,
            "count": 0
           },
           {
            "bin_start": -0.4,
            "bin_end": -0.3,
            "count": 0
           },
           {
            "bin_start": -0.3,
            "bin_end": -0.19999999999999996,
            "count": 0
           },
           {
            "bin_start": -0.19999999999999996,
            "bin_end": -0.09999999999999998,
            "count": 0
           },
           {
            "bin_start": -0.09999999999999998,
            "bin_end": 0,
            "count": 0
           },
           {
            "bin_start": 0,
            "bin_end": 0.10000000000000009,
            "count": 5
           },
           {
            "bin_start": 0.10000000000000009,
            "bin_end": 0.20000000000000007,
            "count": 0
           },
           {
            "bin_start": 0.20000000000000007,
            "bin_end": 0.30000000000000004,
            "count": 0
           },
           {
            "bin_start": 0.30000000000000004,
            "bin_end": 0.4,
            "count": 0
           },
           {
            "bin_start": 0.4,
            "bin_end": 0.5,
            "count": 0
           }
          ]
         }
        },
        {
         "name": "Month_May",
         "dtype": "uint8",
         "stats": {
          "unique_count": 1,
          "nan_count": 0,
          "min": "0",
          "max": "0",
          "histogram": [
           {
            "bin_start": -0.5,
            "bin_end": -0.4,
            "count": 0
           },
           {
            "bin_start": -0.4,
            "bin_end": -0.3,
            "count": 0
           },
           {
            "bin_start": -0.3,
            "bin_end": -0.19999999999999996,
            "count": 0
           },
           {
            "bin_start": -0.19999999999999996,
            "bin_end": -0.09999999999999998,
            "count": 0
           },
           {
            "bin_start": -0.09999999999999998,
            "bin_end": 0,
            "count": 0
           },
           {
            "bin_start": 0,
            "bin_end": 0.10000000000000009,
            "count": 5
           },
           {
            "bin_start": 0.10000000000000009,
            "bin_end": 0.20000000000000007,
            "count": 0
           },
           {
            "bin_start": 0.20000000000000007,
            "bin_end": 0.30000000000000004,
            "count": 0
           },
           {
            "bin_start": 0.30000000000000004,
            "bin_end": 0.4,
            "count": 0
           },
           {
            "bin_start": 0.4,
            "bin_end": 0.5,
            "count": 0
           }
          ]
         }
        },
        {
         "name": "Month_Nov",
         "dtype": "uint8",
         "stats": {
          "unique_count": 1,
          "nan_count": 0,
          "min": "0",
          "max": "0",
          "histogram": [
           {
            "bin_start": -0.5,
            "bin_end": -0.4,
            "count": 0
           },
           {
            "bin_start": -0.4,
            "bin_end": -0.3,
            "count": 0
           },
           {
            "bin_start": -0.3,
            "bin_end": -0.19999999999999996,
            "count": 0
           },
           {
            "bin_start": -0.19999999999999996,
            "bin_end": -0.09999999999999998,
            "count": 0
           },
           {
            "bin_start": -0.09999999999999998,
            "bin_end": 0,
            "count": 0
           },
           {
            "bin_start": 0,
            "bin_end": 0.10000000000000009,
            "count": 5
           },
           {
            "bin_start": 0.10000000000000009,
            "bin_end": 0.20000000000000007,
            "count": 0
           },
           {
            "bin_start": 0.20000000000000007,
            "bin_end": 0.30000000000000004,
            "count": 0
           },
           {
            "bin_start": 0.30000000000000004,
            "bin_end": 0.4,
            "count": 0
           },
           {
            "bin_start": 0.4,
            "bin_end": 0.5,
            "count": 0
           }
          ]
         }
        },
        {
         "name": "Month_Oct",
         "dtype": "uint8",
         "stats": {
          "unique_count": 1,
          "nan_count": 0,
          "min": "0",
          "max": "0",
          "histogram": [
           {
            "bin_start": -0.5,
            "bin_end": -0.4,
            "count": 0
           },
           {
            "bin_start": -0.4,
            "bin_end": -0.3,
            "count": 0
           },
           {
            "bin_start": -0.3,
            "bin_end": -0.19999999999999996,
            "count": 0
           },
           {
            "bin_start": -0.19999999999999996,
            "bin_end": -0.09999999999999998,
            "count": 0
           },
           {
            "bin_start": -0.09999999999999998,
            "bin_end": 0,
            "count": 0
           },
           {
            "bin_start": 0,
            "bin_end": 0.10000000000000009,
            "count": 5
           },
           {
            "bin_start": 0.10000000000000009,
            "bin_end": 0.20000000000000007,
            "count": 0
           },
           {
            "bin_start": 0.20000000000000007,
            "bin_end": 0.30000000000000004,
            "count": 0
           },
           {
            "bin_start": 0.30000000000000004,
            "bin_end": 0.4,
            "count": 0
           },
           {
            "bin_start": 0.4,
            "bin_end": 0.5,
            "count": 0
           }
          ]
         }
        },
        {
         "name": "Month_Sep",
         "dtype": "uint8",
         "stats": {
          "unique_count": 1,
          "nan_count": 0,
          "min": "0",
          "max": "0",
          "histogram": [
           {
            "bin_start": -0.5,
            "bin_end": -0.4,
            "count": 0
           },
           {
            "bin_start": -0.4,
            "bin_end": -0.3,
            "count": 0
           },
           {
            "bin_start": -0.3,
            "bin_end": -0.19999999999999996,
            "count": 0
           },
           {
            "bin_start": -0.19999999999999996,
            "bin_end": -0.09999999999999998,
            "count": 0
           },
           {
            "bin_start": -0.09999999999999998,
            "bin_end": 0,
            "count": 0
           },
           {
            "bin_start": 0,
            "bin_end": 0.10000000000000009,
            "count": 5
           },
           {
            "bin_start": 0.10000000000000009,
            "bin_end": 0.20000000000000007,
            "count": 0
           },
           {
            "bin_start": 0.20000000000000007,
            "bin_end": 0.30000000000000004,
            "count": 0
           },
           {
            "bin_start": 0.30000000000000004,
            "bin_end": 0.4,
            "count": 0
           },
           {
            "bin_start": 0.4,
            "bin_end": 0.5,
            "count": 0
           }
          ]
         }
        },
        {
         "name": "VisitorType_New_Visitor",
         "dtype": "uint8",
         "stats": {
          "unique_count": 1,
          "nan_count": 0,
          "min": "0",
          "max": "0",
          "histogram": [
           {
            "bin_start": -0.5,
            "bin_end": -0.4,
            "count": 0
           },
           {
            "bin_start": -0.4,
            "bin_end": -0.3,
            "count": 0
           },
           {
            "bin_start": -0.3,
            "bin_end": -0.19999999999999996,
            "count": 0
           },
           {
            "bin_start": -0.19999999999999996,
            "bin_end": -0.09999999999999998,
            "count": 0
           },
           {
            "bin_start": -0.09999999999999998,
            "bin_end": 0,
            "count": 0
           },
           {
            "bin_start": 0,
            "bin_end": 0.10000000000000009,
            "count": 5
           },
           {
            "bin_start": 0.10000000000000009,
            "bin_end": 0.20000000000000007,
            "count": 0
           },
           {
            "bin_start": 0.20000000000000007,
            "bin_end": 0.30000000000000004,
            "count": 0
           },
           {
            "bin_start": 0.30000000000000004,
            "bin_end": 0.4,
            "count": 0
           },
           {
            "bin_start": 0.4,
            "bin_end": 0.5,
            "count": 0
           }
          ]
         }
        },
        {
         "name": "VisitorType_Other",
         "dtype": "uint8",
         "stats": {
          "unique_count": 1,
          "nan_count": 0,
          "min": "0",
          "max": "0",
          "histogram": [
           {
            "bin_start": -0.5,
            "bin_end": -0.4,
            "count": 0
           },
           {
            "bin_start": -0.4,
            "bin_end": -0.3,
            "count": 0
           },
           {
            "bin_start": -0.3,
            "bin_end": -0.19999999999999996,
            "count": 0
           },
           {
            "bin_start": -0.19999999999999996,
            "bin_end": -0.09999999999999998,
            "count": 0
           },
           {
            "bin_start": -0.09999999999999998,
            "bin_end": 0,
            "count": 0
           },
           {
            "bin_start": 0,
            "bin_end": 0.10000000000000009,
            "count": 5
           },
           {
            "bin_start": 0.10000000000000009,
            "bin_end": 0.20000000000000007,
            "count": 0
           },
           {
            "bin_start": 0.20000000000000007,
            "bin_end": 0.30000000000000004,
            "count": 0
           },
           {
            "bin_start": 0.30000000000000004,
            "bin_end": 0.4,
            "count": 0
           },
           {
            "bin_start": 0.4,
            "bin_end": 0.5,
            "count": 0
           }
          ]
         }
        },
        {
         "name": "VisitorType_Returning_Visitor",
         "dtype": "uint8",
         "stats": {
          "unique_count": 1,
          "nan_count": 0,
          "min": "1",
          "max": "1",
          "histogram": [
           {
            "bin_start": 0.5,
            "bin_end": 0.6,
            "count": 0
           },
           {
            "bin_start": 0.6,
            "bin_end": 0.7,
            "count": 0
           },
           {
            "bin_start": 0.7,
            "bin_end": 0.8,
            "count": 0
           },
           {
            "bin_start": 0.8,
            "bin_end": 0.9,
            "count": 0
           },
           {
            "bin_start": 0.9,
            "bin_end": 1,
            "count": 0
           },
           {
            "bin_start": 1,
            "bin_end": 1.1,
            "count": 5
           },
           {
            "bin_start": 1.1,
            "bin_end": 1.2000000000000002,
            "count": 0
           },
           {
            "bin_start": 1.2000000000000002,
            "bin_end": 1.3,
            "count": 0
           },
           {
            "bin_start": 1.3,
            "bin_end": 1.4,
            "count": 0
           },
           {
            "bin_start": 1.4,
            "bin_end": 1.5,
            "count": 0
           }
          ]
         }
        },
        {
         "name": "_deepnote_index_column",
         "dtype": "int64"
        }
       ],
       "rows_top": [
        {
         "Administrative": 0,
         "Administrative_Duration": 0,
         "Informational": 0,
         "Informational_Duration": 0,
         "ProductRelated": 0.0014184397163120568,
         "ProductRelated_Duration": 0,
         "BounceRates": 1,
         "ExitRates": 1,
         "PageValues": 0,
         "SpecialDay": 0,
         "OperatingSystems": 0,
         "Browser": 0,
         "Region": 0,
         "TrafficType": 0,
         "Weekend": 0,
         "Month_Aug": 0,
         "Month_Dec": 0,
         "Month_Feb": 1,
         "Month_Jul": 0,
         "Month_June": 0,
         "Month_Mar": 0,
         "Month_May": 0,
         "Month_Nov": 0,
         "Month_Oct": 0,
         "Month_Sep": 0,
         "VisitorType_New_Visitor": 0,
         "VisitorType_Other": 0,
         "VisitorType_Returning_Visitor": 1,
         "_deepnote_index_column": 0
        },
        {
         "Administrative": 0,
         "Administrative_Duration": 0,
         "Informational": 0,
         "Informational_Duration": 0,
         "ProductRelated": 0.0028368794326241137,
         "ProductRelated_Duration": 0.0010004138863873213,
         "BounceRates": 0,
         "ExitRates": 0.5,
         "PageValues": 0,
         "SpecialDay": 0,
         "OperatingSystems": 0.14285714285714285,
         "Browser": 0.08333333333333333,
         "Region": 0,
         "TrafficType": 0.05263157894736842,
         "Weekend": 0,
         "Month_Aug": 0,
         "Month_Dec": 0,
         "Month_Feb": 1,
         "Month_Jul": 0,
         "Month_June": 0,
         "Month_Mar": 0,
         "Month_May": 0,
         "Month_Nov": 0,
         "Month_Oct": 0,
         "Month_Sep": 0,
         "VisitorType_New_Visitor": 0,
         "VisitorType_Other": 0,
         "VisitorType_Returning_Visitor": 1,
         "_deepnote_index_column": 1
        },
        {
         "Administrative": 0,
         "Administrative_Duration": 0,
         "Informational": 0,
         "Informational_Duration": 0,
         "ProductRelated": 0.0014184397163120568,
         "ProductRelated_Duration": 0,
         "BounceRates": 1,
         "ExitRates": 1,
         "PageValues": 0,
         "SpecialDay": 0,
         "OperatingSystems": 0.42857142857142855,
         "Browser": 0,
         "Region": 1,
         "TrafficType": 0.10526315789473684,
         "Weekend": 0,
         "Month_Aug": 0,
         "Month_Dec": 0,
         "Month_Feb": 1,
         "Month_Jul": 0,
         "Month_June": 0,
         "Month_Mar": 0,
         "Month_May": 0,
         "Month_Nov": 0,
         "Month_Oct": 0,
         "Month_Sep": 0,
         "VisitorType_New_Visitor": 0,
         "VisitorType_Other": 0,
         "VisitorType_Returning_Visitor": 1,
         "_deepnote_index_column": 2
        },
        {
         "Administrative": 0,
         "Administrative_Duration": 0,
         "Informational": 0,
         "Informational_Duration": 0,
         "ProductRelated": 0.0028368794326241137,
         "ProductRelated_Duration": 0.00004168391193801554,
         "BounceRates": 0.25,
         "ExitRates": 0.7000000000000001,
         "PageValues": 0,
         "SpecialDay": 0,
         "OperatingSystems": 0.2857142857142857,
         "Browser": 0.08333333333333333,
         "Region": 0.125,
         "TrafficType": 0.15789473684210525,
         "Weekend": 0,
         "Month_Aug": 0,
         "Month_Dec": 0,
         "Month_Feb": 1,
         "Month_Jul": 0,
         "Month_June": 0,
         "Month_Mar": 0,
         "Month_May": 0,
         "Month_Nov": 0,
         "Month_Oct": 0,
         "Month_Sep": 0,
         "VisitorType_New_Visitor": 0,
         "VisitorType_Other": 0,
         "VisitorType_Returning_Visitor": 1,
         "_deepnote_index_column": 3
        },
        {
         "Administrative": 0,
         "Administrative_Duration": 0,
         "Informational": 0,
         "Informational_Duration": 0,
         "ProductRelated": 0.014184397163120569,
         "ProductRelated_Duration": 0.00980874552668819,
         "BounceRates": 0.1,
         "ExitRates": 0.25,
         "PageValues": 0,
         "SpecialDay": 0,
         "OperatingSystems": 0.2857142857142857,
         "Browser": 0.16666666666666669,
         "Region": 0,
         "TrafficType": 0.15789473684210525,
         "Weekend": 1,
         "Month_Aug": 0,
         "Month_Dec": 0,
         "Month_Feb": 1,
         "Month_Jul": 0,
         "Month_June": 0,
         "Month_Mar": 0,
         "Month_May": 0,
         "Month_Nov": 0,
         "Month_Oct": 0,
         "Month_Sep": 0,
         "VisitorType_New_Visitor": 0,
         "VisitorType_Other": 0,
         "VisitorType_Returning_Visitor": 1,
         "_deepnote_index_column": 4
        }
       ],
       "rows_bottom": null
      },
      "text/plain": "   Administrative  Administrative_Duration  Informational  \\\n0             0.0                      0.0            0.0   \n1             0.0                      0.0            0.0   \n2             0.0                      0.0            0.0   \n3             0.0                      0.0            0.0   \n4             0.0                      0.0            0.0   \n\n   Informational_Duration  ProductRelated  ProductRelated_Duration  \\\n0                     0.0        0.001418                 0.000000   \n1                     0.0        0.002837                 0.001000   \n2                     0.0        0.001418                 0.000000   \n3                     0.0        0.002837                 0.000042   \n4                     0.0        0.014184                 0.009809   \n\n   BounceRates  ExitRates  PageValues  SpecialDay  ...  Month_Jul  Month_June  \\\n0         1.00       1.00         0.0         0.0  ...          0           0   \n1         0.00       0.50         0.0         0.0  ...          0           0   \n2         1.00       1.00         0.0         0.0  ...          0           0   \n3         0.25       0.70         0.0         0.0  ...          0           0   \n4         0.10       0.25         0.0         0.0  ...          0           0   \n\n   Month_Mar  Month_May  Month_Nov  Month_Oct  Month_Sep  \\\n0          0          0          0          0          0   \n1          0          0          0          0          0   \n2          0          0          0          0          0   \n3          0          0          0          0          0   \n4          0          0          0          0          0   \n\n   VisitorType_New_Visitor  VisitorType_Other  VisitorType_Returning_Visitor  \n0                        0                  0                              1  \n1                        0                  0                              1  \n2                        0                  0                              1  \n3                        0                  0                              1  \n4                        0                  0                              1  \n\n[5 rows x 28 columns]",
      "text/html": "<div>\n<style scoped>\n    .dataframe tbody tr th:only-of-type {\n        vertical-align: middle;\n    }\n\n    .dataframe tbody tr th {\n        vertical-align: top;\n    }\n\n    .dataframe thead th {\n        text-align: right;\n    }\n</style>\n<table border=\"1\" class=\"dataframe\">\n  <thead>\n    <tr style=\"text-align: right;\">\n      <th></th>\n      <th>Administrative</th>\n      <th>Administrative_Duration</th>\n      <th>Informational</th>\n      <th>Informational_Duration</th>\n      <th>ProductRelated</th>\n      <th>ProductRelated_Duration</th>\n      <th>BounceRates</th>\n      <th>ExitRates</th>\n      <th>PageValues</th>\n      <th>SpecialDay</th>\n      <th>...</th>\n      <th>Month_Jul</th>\n      <th>Month_June</th>\n      <th>Month_Mar</th>\n      <th>Month_May</th>\n      <th>Month_Nov</th>\n      <th>Month_Oct</th>\n      <th>Month_Sep</th>\n      <th>VisitorType_New_Visitor</th>\n      <th>VisitorType_Other</th>\n      <th>VisitorType_Returning_Visitor</th>\n    </tr>\n  </thead>\n  <tbody>\n    <tr>\n      <th>0</th>\n      <td>0.0</td>\n      <td>0.0</td>\n      <td>0.0</td>\n      <td>0.0</td>\n      <td>0.001418</td>\n      <td>0.000000</td>\n      <td>1.00</td>\n      <td>1.00</td>\n      <td>0.0</td>\n      <td>0.0</td>\n      <td>...</td>\n      <td>0</td>\n      <td>0</td>\n      <td>0</td>\n      <td>0</td>\n      <td>0</td>\n      <td>0</td>\n      <td>0</td>\n      <td>0</td>\n      <td>0</td>\n      <td>1</td>\n    </tr>\n    <tr>\n      <th>1</th>\n      <td>0.0</td>\n      <td>0.0</td>\n      <td>0.0</td>\n      <td>0.0</td>\n      <td>0.002837</td>\n      <td>0.001000</td>\n      <td>0.00</td>\n      <td>0.50</td>\n      <td>0.0</td>\n      <td>0.0</td>\n      <td>...</td>\n      <td>0</td>\n      <td>0</td>\n      <td>0</td>\n      <td>0</td>\n      <td>0</td>\n      <td>0</td>\n      <td>0</td>\n      <td>0</td>\n      <td>0</td>\n      <td>1</td>\n    </tr>\n    <tr>\n      <th>2</th>\n      <td>0.0</td>\n      <td>0.0</td>\n      <td>0.0</td>\n      <td>0.0</td>\n      <td>0.001418</td>\n      <td>0.000000</td>\n      <td>1.00</td>\n      <td>1.00</td>\n      <td>0.0</td>\n      <td>0.0</td>\n      <td>...</td>\n      <td>0</td>\n      <td>0</td>\n      <td>0</td>\n      <td>0</td>\n      <td>0</td>\n      <td>0</td>\n      <td>0</td>\n      <td>0</td>\n      <td>0</td>\n      <td>1</td>\n    </tr>\n    <tr>\n      <th>3</th>\n      <td>0.0</td>\n      <td>0.0</td>\n      <td>0.0</td>\n      <td>0.0</td>\n      <td>0.002837</td>\n      <td>0.000042</td>\n      <td>0.25</td>\n      <td>0.70</td>\n      <td>0.0</td>\n      <td>0.0</td>\n      <td>...</td>\n      <td>0</td>\n      <td>0</td>\n      <td>0</td>\n      <td>0</td>\n      <td>0</td>\n      <td>0</td>\n      <td>0</td>\n      <td>0</td>\n      <td>0</td>\n      <td>1</td>\n    </tr>\n    <tr>\n      <th>4</th>\n      <td>0.0</td>\n      <td>0.0</td>\n      <td>0.0</td>\n      <td>0.0</td>\n      <td>0.014184</td>\n      <td>0.009809</td>\n      <td>0.10</td>\n      <td>0.25</td>\n      <td>0.0</td>\n      <td>0.0</td>\n      <td>...</td>\n      <td>0</td>\n      <td>0</td>\n      <td>0</td>\n      <td>0</td>\n      <td>0</td>\n      <td>0</td>\n      <td>0</td>\n      <td>0</td>\n      <td>0</td>\n      <td>1</td>\n    </tr>\n  </tbody>\n</table>\n<p>5 rows × 28 columns</p>\n</div>"
     },
     "metadata": {}
    }
   ]
  },
  {
   "cell_type": "code",
   "metadata": {
    "tags": [],
    "cell_id": "00020-082c7c2e-62bf-4afa-bf1e-308d4757d7f0",
    "deepnote_to_be_reexecuted": false,
    "source_hash": "169e77be",
    "execution_start": 1633352225989,
    "execution_millis": 148,
    "deepnote_cell_type": "code"
   },
   "source": "#splitting the data\nfrom sklearn.model_selection import train_test_split\nX_train, X_test, y_train,y_test = train_test_split(X_scaled_enc,Y,test_size=0.3,random_state=32)\nX_train.shape,X_test.shape",
   "execution_count": 17,
   "outputs": [
    {
     "output_type": "execute_result",
     "execution_count": 17,
     "data": {
      "text/plain": "((8631, 28), (3699, 28))"
     },
     "metadata": {}
    }
   ]
  },
  {
   "cell_type": "markdown",
   "source": "### Checking correlation for feature selection",
   "metadata": {
    "tags": [],
    "is_collapsed": false,
    "cell_id": "00020-2c77d038-d550-43ee-b91f-0de4a353d39e",
    "deepnote_cell_type": "text-cell-h3"
   }
  },
  {
   "cell_type": "code",
   "metadata": {
    "tags": [],
    "cell_id": "00019-fbe312ef-f636-46f9-83a0-6e1fadbdc398",
    "deepnote_to_be_reexecuted": false,
    "source_hash": "2175c87",
    "execution_start": 1633352226182,
    "execution_millis": 8,
    "deepnote_cell_type": "code"
   },
   "source": "X_train.columns",
   "execution_count": 18,
   "outputs": [
    {
     "output_type": "execute_result",
     "execution_count": 18,
     "data": {
      "text/plain": "Index(['Administrative', 'Administrative_Duration', 'Informational',\n       'Informational_Duration', 'ProductRelated', 'ProductRelated_Duration',\n       'BounceRates', 'ExitRates', 'PageValues', 'SpecialDay',\n       'OperatingSystems', 'Browser', 'Region', 'TrafficType', 'Weekend',\n       'Month_Aug', 'Month_Dec', 'Month_Feb', 'Month_Jul', 'Month_June',\n       'Month_Mar', 'Month_May', 'Month_Nov', 'Month_Oct', 'Month_Sep',\n       'VisitorType_New_Visitor', 'VisitorType_Other',\n       'VisitorType_Returning_Visitor'],\n      dtype='object')"
     },
     "metadata": {}
    }
   ]
  },
  {
   "cell_type": "code",
   "metadata": {
    "tags": [],
    "cell_id": "00022-53ba2dc3-f40c-41b0-9819-415a42bf2265",
    "deepnote_to_be_reexecuted": false,
    "source_hash": "c216d14f",
    "execution_start": 1633352226183,
    "execution_millis": 0,
    "deepnote_cell_type": "code"
   },
   "source": "X_corr = X_train[['Administrative', 'Administrative_Duration', 'Informational','Informational_Duration', 'ProductRelated', 'ProductRelated_Duration','BounceRates', 'ExitRates', 'PageValues', 'SpecialDay','OperatingSystems', 'Browser', 'Region', 'TrafficType', 'Weekend']]",
   "execution_count": 19,
   "outputs": []
  },
  {
   "cell_type": "code",
   "metadata": {
    "tags": [],
    "cell_id": "00023-fe95936b-0663-4366-9bb3-3aeae1276a5c",
    "deepnote_to_be_reexecuted": false,
    "source_hash": "cf9bbfa5",
    "execution_start": 1633352226184,
    "execution_millis": 1493,
    "deepnote_cell_type": "code"
   },
   "source": "import seaborn as sns\nimport matplotlib.pyplot as plt",
   "execution_count": 20,
   "outputs": []
  },
  {
   "cell_type": "code",
   "metadata": {
    "tags": [],
    "cell_id": "00025-cbfa2d71-345f-45ff-9e21-81589f444acf",
    "deepnote_to_be_reexecuted": false,
    "source_hash": "70ee840f",
    "execution_start": 1633352227694,
    "execution_millis": 3084,
    "deepnote_cell_type": "code"
   },
   "source": "plt.figure(figsize=(12,10))\ncor=X_corr.corr()\nsns.heatmap(cor, annot=True)\nplt.show()",
   "execution_count": 21,
   "outputs": [
    {
     "data": {
      "text/plain": "<Figure size 864x720 with 2 Axes>",
      "image/png": "[encoded data removed]"
     },
     "metadata": {
      "needs_background": "light",
      "image/png": {
       "width": 773,
       "height": 693
      }
     },
     "output_type": "display_data"
    }
   ]
  },
  {
   "cell_type": "markdown",
   "source": "### Feature Selection",
   "metadata": {
    "tags": [],
    "is_collapsed": false,
    "cell_id": "00026-f0bcde5e-f742-4892-951c-2548ead28737",
    "deepnote_cell_type": "text-cell-h3"
   }
  },
  {
   "cell_type": "code",
   "metadata": {
    "tags": [],
    "cell_id": "00026-c2cfb441-9961-4805-88b9-d42031e9cd73",
    "deepnote_to_be_reexecuted": false,
    "source_hash": "34cc98a2",
    "execution_start": 1633352230765,
    "execution_millis": 1,
    "deepnote_cell_type": "code"
   },
   "source": "#function to find columns correlated and to be removed\n# it will remove the first feature that is correlated with anything other feature\n\ndef correlation(dataset, threshold):\n    col_corr = set()  # Set of all the names of correlated columns\n    corr_matrix = dataset.corr()\n    for i in range(len(corr_matrix.columns)):\n        for j in range(i):\n            if abs(corr_matrix.iloc[i, j]) > threshold: # we are interested in absolute coeff value\n                colname = corr_matrix.columns[i]  # getting the name of column\n                col_corr.add(colname)\n    return col_corr",
   "execution_count": 22,
   "outputs": []
  },
  {
   "cell_type": "code",
   "metadata": {
    "tags": [],
    "cell_id": "00027-255c989a-893b-4a99-93a2-1af5d2ff7f83",
    "deepnote_to_be_reexecuted": false,
    "source_hash": "2f1e517",
    "execution_start": 1633352230766,
    "execution_millis": 31,
    "deepnote_cell_type": "code"
   },
   "source": "corr_feat = correlation(X_corr,0.85)\ncorr_feat",
   "execution_count": 23,
   "outputs": [
    {
     "output_type": "execute_result",
     "execution_count": 23,
     "data": {
      "text/plain": "{'ExitRates', 'ProductRelated_Duration'}"
     },
     "metadata": {}
    }
   ]
  },
  {
   "cell_type": "code",
   "metadata": {
    "tags": [],
    "cell_id": "00028-b64bf51d-9598-4a56-9f26-c4a03e290feb",
    "deepnote_to_be_reexecuted": false,
    "source_hash": "a564787a",
    "execution_start": 1633352230791,
    "execution_millis": 52,
    "deepnote_cell_type": "code"
   },
   "source": "corr_feat = list(corr_feat)\nX_train.drop(corr_feat,inplace=True,axis=1)",
   "execution_count": 24,
   "outputs": [
    {
     "name": "stderr",
     "text": "/shared-libs/python3.7/py/lib/python3.7/site-packages/pandas/core/frame.py:4315: SettingWithCopyWarning: \nA value is trying to be set on a copy of a slice from a DataFrame\n\nSee the caveats in the documentation: https://pandas.pydata.org/pandas-docs/stable/user_guide/indexing.html#returning-a-view-versus-a-copy\n  errors=errors,\n",
     "output_type": "stream"
    }
   ]
  },
  {
   "cell_type": "code",
   "metadata": {
    "tags": [],
    "cell_id": "00029-eb59a40c-7ca8-4f4a-b98b-4c2178255522",
    "deepnote_to_be_reexecuted": false,
    "source_hash": "d76625bb",
    "execution_start": 1633352230805,
    "execution_millis": 13,
    "deepnote_cell_type": "code"
   },
   "source": "X_test.drop(corr_feat,inplace=True,axis=1)",
   "execution_count": 25,
   "outputs": []
  },
  {
   "cell_type": "code",
   "metadata": {
    "tags": [],
    "cell_id": "00030-f0dcf9da-f83e-4cae-8f2a-896b8664d2f5",
    "deepnote_to_be_reexecuted": false,
    "source_hash": "cd93faef",
    "execution_start": 1633352230819,
    "execution_millis": 24,
    "deepnote_cell_type": "code"
   },
   "source": "X_train.shape,X_test.shape",
   "execution_count": 26,
   "outputs": [
    {
     "output_type": "execute_result",
     "execution_count": 26,
     "data": {
      "text/plain": "((8631, 26), (3699, 26))"
     },
     "metadata": {}
    }
   ]
  },
  {
   "cell_type": "code",
   "metadata": {
    "tags": [],
    "cell_id": "00032-674c1b94-ccc3-417c-a384-f3bafc20a257",
    "deepnote_to_be_reexecuted": false,
    "source_hash": "805eca3a",
    "execution_start": 1633352230830,
    "execution_millis": 15,
    "deepnote_cell_type": "code"
   },
   "source": "y_train.shape,y_test.shape",
   "execution_count": 27,
   "outputs": [
    {
     "output_type": "execute_result",
     "execution_count": 27,
     "data": {
      "text/plain": "((8631,), (3699,))"
     },
     "metadata": {}
    }
   ]
  },
  {
   "cell_type": "markdown",
   "source": "## KNN-Classifier",
   "metadata": {
    "tags": [],
    "is_collapsed": false,
    "cell_id": "00033-efa7f07f-00cc-4a7a-9786-f0df6f0bc15f",
    "deepnote_cell_type": "text-cell-h2"
   }
  },
  {
   "cell_type": "code",
   "metadata": {
    "tags": [],
    "cell_id": "00033-85a622bf-3517-4898-ae8f-ab06f5d24b90",
    "deepnote_to_be_reexecuted": false,
    "source_hash": "4e690cc3",
    "execution_start": 1633352230839,
    "execution_millis": 250,
    "deepnote_cell_type": "code"
   },
   "source": "from sklearn.neighbors import KNeighborsClassifier",
   "execution_count": 28,
   "outputs": []
  },
  {
   "cell_type": "code",
   "metadata": {
    "tags": [],
    "cell_id": "00035-1dae6451-4a0b-4d30-8c6e-1098add4bb88",
    "deepnote_to_be_reexecuted": false,
    "source_hash": "29fb65e3",
    "execution_start": 1633352231104,
    "execution_millis": 33,
    "deepnote_cell_type": "code"
   },
   "source": "knn = KNeighborsClassifier(n_neighbors=3)\nknn.fit(X_train,y_train)",
   "execution_count": 29,
   "outputs": [
    {
     "output_type": "execute_result",
     "execution_count": 29,
     "data": {
      "text/plain": "KNeighborsClassifier(n_neighbors=3)"
     },
     "metadata": {}
    }
   ]
  },
  {
   "cell_type": "code",
   "metadata": {
    "tags": [],
    "cell_id": "00036-26405674-0651-43ef-afc6-61d0a1939d5f",
    "deepnote_to_be_reexecuted": false,
    "source_hash": "450ee0c3",
    "execution_start": 1633352231134,
    "execution_millis": 1064,
    "deepnote_cell_type": "code"
   },
   "source": "pred = knn.predict(X_test)",
   "execution_count": 30,
   "outputs": []
  },
  {
   "cell_type": "code",
   "metadata": {
    "tags": [],
    "cell_id": "00036-a0220f72-0a28-4894-aa90-9f819bf56984",
    "deepnote_to_be_reexecuted": false,
    "source_hash": "b4c58884",
    "execution_start": 1633352232211,
    "execution_millis": 28,
    "deepnote_cell_type": "code"
   },
   "source": "# confusion matrix\nfrom sklearn.metrics import classification_report,confusion_matrix\nprint(confusion_matrix(y_test,pred))\nprint(classification_report(y_test,pred))\n",
   "execution_count": 31,
   "outputs": [
    {
     "name": "stdout",
     "text": "[[2977  135]\n [ 462  125]]\n              precision    recall  f1-score   support\n\n       False       0.87      0.96      0.91      3112\n        True       0.48      0.21      0.30       587\n\n    accuracy                           0.84      3699\n   macro avg       0.67      0.58      0.60      3699\nweighted avg       0.80      0.84      0.81      3699\n\n",
     "output_type": "stream"
    }
   ]
  },
  {
   "cell_type": "code",
   "metadata": {
    "tags": [],
    "cell_id": "00038-c3412e08-b78b-4717-a39e-b7290441d893",
    "deepnote_to_be_reexecuted": false,
    "source_hash": "6f597749",
    "execution_start": 1633352232242,
    "execution_millis": 2,
    "deepnote_cell_type": "code"
   },
   "source": "#exploring best value for k\n# error_rate = []\n# for i in range(1,40):\n#     knn = KNeighborsClassifier(n_neighbors=i)\n#     knn.fit(X_train,y_train)\n#     pred_i = knn.predict(X_test)\n#     error_rate.append(np.mean(pred_i!=y_test))",
   "execution_count": 32,
   "outputs": []
  },
  {
   "cell_type": "code",
   "metadata": {
    "tags": [],
    "cell_id": "00039-f746ec7c-1b11-4ed1-a2e6-d352a19b0b43",
    "deepnote_to_be_reexecuted": false,
    "source_hash": "97f95d18",
    "execution_start": 1633352232253,
    "execution_millis": 1,
    "deepnote_cell_type": "code"
   },
   "source": "# plt.figure(figsize=(10,6))\n# plt.plot(range(1,40),error_rate,color='blue', linestyle='dashed', marker='o',\n#          markerfacecolor='red', markersize=10)\n# plt.title('Error Rate vs. K Value')\n# plt.xlabel('K')\n# plt.ylabel('Error Rate')",
   "execution_count": 33,
   "outputs": []
  },
  {
   "cell_type": "code",
   "metadata": {
    "tags": [],
    "cell_id": "00040-e5e1cfb2-8916-4d25-b194-81aeb16c3db1",
    "deepnote_to_be_reexecuted": false,
    "source_hash": "4343a0f3",
    "execution_start": 1633352232262,
    "execution_millis": 934,
    "deepnote_cell_type": "code"
   },
   "source": "#so i should try with K val at 8\n# knn = KNeighborsClassifier(n_neighbors=8)\nknn.fit(X_train,y_train)\npred = knn.predict(X_test)\n\nprint(confusion_matrix(y_test,pred))\nprint(classification_report(y_test,pred))",
   "execution_count": 34,
   "outputs": [
    {
     "name": "stdout",
     "text": "[[2977  135]\n [ 462  125]]\n              precision    recall  f1-score   support\n\n       False       0.87      0.96      0.91      3112\n        True       0.48      0.21      0.30       587\n\n    accuracy                           0.84      3699\n   macro avg       0.67      0.58      0.60      3699\nweighted avg       0.80      0.84      0.81      3699\n\n",
     "output_type": "stream"
    }
   ]
  },
  {
   "cell_type": "markdown",
   "source": "We can clearly see f1-score for flase has increased but for true values has gone down",
   "metadata": {
    "tags": [],
    "is_collapsed": false,
    "cell_id": "00041-5c29d86d-116a-4bd6-8d93-94f9da04e2d3",
    "deepnote_cell_type": "text-cell-p"
   }
  },
  {
   "cell_type": "markdown",
   "source": "## SVM-Classifier",
   "metadata": {
    "tags": [],
    "is_collapsed": false,
    "cell_id": "00042-f7dbfbb2-15ce-4207-9a0a-0359cffab22b",
    "deepnote_cell_type": "text-cell-h2"
   }
  },
  {
   "cell_type": "code",
   "metadata": {
    "tags": [],
    "cell_id": "00041-534d7060-176d-45c0-966f-27f0231a44bd",
    "deepnote_to_be_reexecuted": false,
    "source_hash": "609127a2",
    "execution_start": 1633352233200,
    "execution_millis": 5,
    "deepnote_cell_type": "code"
   },
   "source": "from sklearn.svm import SVC",
   "execution_count": 35,
   "outputs": []
  },
  {
   "cell_type": "code",
   "metadata": {
    "tags": [],
    "cell_id": "00044-30f1785c-4f2e-482f-affd-1e28f8910411",
    "deepnote_to_be_reexecuted": false,
    "source_hash": "9f907a57",
    "execution_start": 1633352233207,
    "execution_millis": 3589,
    "deepnote_cell_type": "code"
   },
   "source": "SVMmodel = SVC()\nSVMmodel.fit(X_train,y_train)\nsvmpredictions= SVMmodel.predict(X_test)\n",
   "execution_count": 36,
   "outputs": []
  },
  {
   "cell_type": "code",
   "metadata": {
    "tags": [],
    "cell_id": "00045-7aa6dc93-cb77-47f0-96bd-f3952126f38f",
    "deepnote_to_be_reexecuted": false,
    "source_hash": "758bcc4e",
    "execution_start": 1633352236805,
    "execution_millis": 37,
    "deepnote_cell_type": "code"
   },
   "source": "print(confusion_matrix(y_test,svmpredictions))\nprint('\\n')\nprint(classification_report(y_test,svmpredictions))",
   "execution_count": 37,
   "outputs": [
    {
     "name": "stdout",
     "text": "[[3091   21]\n [ 473  114]]\n\n\n              precision    recall  f1-score   support\n\n       False       0.87      0.99      0.93      3112\n        True       0.84      0.19      0.32       587\n\n    accuracy                           0.87      3699\n   macro avg       0.86      0.59      0.62      3699\nweighted avg       0.86      0.87      0.83      3699\n\n",
     "output_type": "stream"
    }
   ]
  },
  {
   "cell_type": "markdown",
   "source": "## Decision Tree",
   "metadata": {
    "tags": [],
    "is_collapsed": false,
    "cell_id": "00046-36ba27c7-5fc6-497e-8221-89457fe68b75",
    "deepnote_cell_type": "text-cell-h2"
   }
  },
  {
   "cell_type": "code",
   "metadata": {
    "tags": [],
    "cell_id": "00046-c5d97918-2833-4d64-8422-018c2e8ce68c",
    "deepnote_to_be_reexecuted": false,
    "source_hash": "1f640c24",
    "execution_start": 1633352236840,
    "execution_millis": 47,
    "deepnote_cell_type": "code"
   },
   "source": "from sklearn.tree import DecisionTreeClassifier",
   "execution_count": 38,
   "outputs": []
  },
  {
   "cell_type": "code",
   "metadata": {
    "tags": [],
    "cell_id": "00046-240e94a9-d971-44a0-b395-78fa2c919ef1",
    "deepnote_to_be_reexecuted": false,
    "source_hash": "22cf383b",
    "execution_start": 1633353304504,
    "execution_millis": 57,
    "deepnote_cell_type": "code"
   },
   "source": "dtree = DecisionTreeClassifier()\ndtree.fit(X_train,y_train)\ndtpredictions = dtree.predict(X_test)",
   "execution_count": 59,
   "outputs": []
  },
  {
   "cell_type": "code",
   "metadata": {
    "tags": [],
    "cell_id": "00049-c006adfe-f420-4940-b013-274dfc2756ef",
    "deepnote_to_be_reexecuted": false,
    "source_hash": "ba016040",
    "execution_start": 1633353305777,
    "execution_millis": 42,
    "deepnote_cell_type": "code"
   },
   "source": "print(confusion_matrix(y_test,dtpredictions))\nprint(classification_report(y_test,dtpredictions))",
   "execution_count": 60,
   "outputs": [
    {
     "name": "stdout",
     "text": "[[2834  278]\n [ 240  347]]\n              precision    recall  f1-score   support\n\n       False       0.92      0.91      0.92      3112\n        True       0.56      0.59      0.57       587\n\n    accuracy                           0.86      3699\n   macro avg       0.74      0.75      0.74      3699\nweighted avg       0.86      0.86      0.86      3699\n\n",
     "output_type": "stream"
    }
   ]
  },
  {
   "cell_type": "markdown",
   "source": "We can see some improvment here in the true values but not satisfying enough",
   "metadata": {
    "tags": [],
    "is_collapsed": false,
    "cell_id": "00050-89f2558d-3698-4523-879c-9b7858a22133",
    "deepnote_cell_type": "text-cell-p"
   }
  },
  {
   "cell_type": "markdown",
   "source": "## Random Forest",
   "metadata": {
    "tags": [],
    "is_collapsed": false,
    "cell_id": "00051-ac5605bc-a200-4085-835f-c32f21c527f9",
    "deepnote_cell_type": "text-cell-h2"
   }
  },
  {
   "cell_type": "code",
   "metadata": {
    "tags": [],
    "cell_id": "00050-4cc358e7-9826-4b9a-a0a2-02d653af9d1b",
    "deepnote_to_be_reexecuted": false,
    "source_hash": "39ef4b5b",
    "execution_start": 1633352236991,
    "execution_millis": 43,
    "deepnote_cell_type": "code"
   },
   "source": "from sklearn.ensemble import RandomForestClassifier",
   "execution_count": 41,
   "outputs": []
  },
  {
   "cell_type": "code",
   "metadata": {
    "tags": [],
    "cell_id": "00053-1793ed4b-98d3-4d91-9c99-b288df63aa7e",
    "deepnote_to_be_reexecuted": false,
    "source_hash": "b713cec1",
    "execution_start": 1633352237045,
    "execution_millis": 1211,
    "deepnote_cell_type": "code"
   },
   "source": "rfc = RandomForestClassifier(n_estimators=100)\nrfc.fit(X_train, y_train)\nrfc_pred = rfc.predict(X_test)",
   "execution_count": 42,
   "outputs": []
  },
  {
   "cell_type": "code",
   "metadata": {
    "tags": [],
    "cell_id": "00054-d530cae8-886a-4c85-b3eb-e58765b799d0",
    "deepnote_to_be_reexecuted": false,
    "source_hash": "c699ab8b",
    "execution_start": 1633352238264,
    "execution_millis": 44,
    "deepnote_cell_type": "code"
   },
   "source": "print(confusion_matrix(y_test,rfc_pred))\nprint(classification_report(y_test,rfc_pred))",
   "execution_count": 43,
   "outputs": [
    {
     "name": "stdout",
     "text": "[[2998  114]\n [ 244  343]]\n              precision    recall  f1-score   support\n\n       False       0.92      0.96      0.94      3112\n        True       0.75      0.58      0.66       587\n\n    accuracy                           0.90      3699\n   macro avg       0.84      0.77      0.80      3699\nweighted avg       0.90      0.90      0.90      3699\n\n",
     "output_type": "stream"
    }
   ]
  },
  {
   "cell_type": "markdown",
   "source": "F-1 score for true has improved further bout not up to the mark",
   "metadata": {
    "tags": [],
    "is_collapsed": false,
    "cell_id": "00055-5cf15a90-872e-4acc-98d0-b8075a4c7854",
    "deepnote_cell_type": "text-cell-p"
   }
  },
  {
   "cell_type": "markdown",
   "source": "## ROC and AUC",
   "metadata": {
    "tags": [],
    "is_collapsed": false,
    "cell_id": "00056-20677be6-7a50-451e-8c7e-7212919f5107",
    "deepnote_cell_type": "text-cell-h2"
   }
  },
  {
   "cell_type": "code",
   "metadata": {
    "tags": [],
    "cell_id": "00055-4ec28015-923d-459d-b8d3-af736fd3059b",
    "deepnote_to_be_reexecuted": false,
    "source_hash": "8398890a",
    "execution_start": 1633352238294,
    "execution_millis": 2450,
    "deepnote_cell_type": "code"
   },
   "source": "from sklearn.metrics import plot_roc_curve\nimport matplotlib.pyplot as plt\nroc_SVM = plot_roc_curve(SVMmodel, X_test, y_test)\nroc_knn = plot_roc_curve(knn, X_test, y_test, ax=roc_SVM.ax_)\nroc_stree =plot_roc_curve(dtree, X_test, y_test,ax=roc_SVM.ax_)\nroc_rfc =plot_roc_curve(rfc, X_test, y_test, ax=roc_SVM.ax_)\n\nplt.show()",
   "execution_count": 44,
   "outputs": [
    {
     "data": {
      "text/plain": "<Figure size 432x288 with 1 Axes>",
      "image/png": "[encoded data removed]"
     },
     "metadata": {
      "needs_background": "light",
      "image/png": {
       "width": 386,
       "height": 262
      }
     },
     "output_type": "display_data"
    }
   ]
  },
  {
   "cell_type": "markdown",
   "source": "",
   "metadata": {
    "tags": [],
    "is_collapsed": false,
    "cell_id": "00058-b2c0f58e-be59-49d5-9135-667b0caf0d4c",
    "deepnote_cell_type": "text-cell-p"
   }
  },
  {
   "cell_type": "markdown",
   "source": "## OverSampling",
   "metadata": {
    "tags": [],
    "is_collapsed": false,
    "cell_id": "00059-e96c40b9-43f0-4dd0-bcaa-3e648fe01f41",
    "deepnote_cell_type": "text-cell-h2"
   }
  },
  {
   "cell_type": "code",
   "metadata": {
    "tags": [],
    "cell_id": "00060-0ad9d1bd-09dd-466d-b1e0-325ae10033a9",
    "deepnote_to_be_reexecuted": false,
    "source_hash": "73efdfa6",
    "execution_start": 1633352240640,
    "execution_millis": 5071,
    "deepnote_cell_type": "code"
   },
   "source": "!pip install imblearn",
   "execution_count": 45,
   "outputs": [
    {
     "name": "stdout",
     "text": "Requirement already satisfied: imblearn in /root/venv/lib/python3.7/site-packages (0.0)\nRequirement already satisfied: imbalanced-learn in /root/venv/lib/python3.7/site-packages (from imblearn) (0.8.1)\nRequirement already satisfied: numpy>=1.13.3 in /shared-libs/python3.7/py/lib/python3.7/site-packages (from imbalanced-learn->imblearn) (1.19.5)\nRequirement already satisfied: joblib>=0.11 in /shared-libs/python3.7/py/lib/python3.7/site-packages (from imbalanced-learn->imblearn) (1.0.1)\nRequirement already satisfied: scipy>=0.19.1 in /shared-libs/python3.7/py/lib/python3.7/site-packages (from imbalanced-learn->imblearn) (1.7.1)\nRequirement already satisfied: scikit-learn>=0.24 in /shared-libs/python3.7/py/lib/python3.7/site-packages (from imbalanced-learn->imblearn) (0.24.2)\nRequirement already satisfied: threadpoolctl>=2.0.0 in /shared-libs/python3.7/py/lib/python3.7/site-packages (from scikit-learn>=0.24->imbalanced-learn->imblearn) (2.2.0)\n",
     "output_type": "stream"
    }
   ]
  },
  {
   "cell_type": "code",
   "metadata": {
    "tags": [],
    "cell_id": "00060-d76b2d7c-e1cf-4292-95f9-ef6052c5b99d",
    "deepnote_to_be_reexecuted": false,
    "source_hash": "d9863740",
    "execution_start": 1633352245721,
    "execution_millis": 373,
    "deepnote_cell_type": "code"
   },
   "source": "from imblearn.over_sampling import RandomOverSampler",
   "execution_count": 46,
   "outputs": []
  },
  {
   "cell_type": "code",
   "metadata": {
    "tags": [],
    "cell_id": "00062-d68a63b4-5d9f-45bc-965f-d806e339aee3",
    "deepnote_to_be_reexecuted": false,
    "source_hash": "9a5e960",
    "execution_start": 1633352246100,
    "execution_millis": 9,
    "deepnote_cell_type": "code"
   },
   "source": "from collections import Counter",
   "execution_count": 47,
   "outputs": []
  },
  {
   "cell_type": "code",
   "metadata": {
    "tags": [],
    "cell_id": "00061-067b0a6a-ac86-4632-8c28-bfaa98ae7e0a",
    "deepnote_to_be_reexecuted": false,
    "source_hash": "62c044bd",
    "execution_start": 1633352246116,
    "execution_millis": 74,
    "deepnote_cell_type": "code"
   },
   "source": "oversample = RandomOverSampler(sampling_strategy='minority')\nX_t_over,y_t_over = oversample.fit_resample(X_train,y_train)\nCounter(y_t_over)",
   "execution_count": 48,
   "outputs": [
    {
     "output_type": "execute_result",
     "execution_count": 48,
     "data": {
      "text/plain": "Counter({False: 7310, True: 7310})"
     },
     "metadata": {}
    }
   ]
  },
  {
   "cell_type": "code",
   "metadata": {
    "tags": [],
    "cell_id": "00063-18f64286-d2ef-4412-a6d4-248a10f2326a",
    "deepnote_to_be_reexecuted": false,
    "source_hash": "3808f3c9",
    "execution_start": 1633352697762,
    "execution_millis": 1662,
    "deepnote_cell_type": "code"
   },
   "source": "#KNN\nknn_over = KNeighborsClassifier(n_neighbors=3)\nknn_over.fit(X_t_over,y_t_over)\npred = knn_over.predict(X_test)\nprint(confusion_matrix(y_test,pred))\nprint(classification_report(y_test,pred))\n\n\n",
   "execution_count": 51,
   "outputs": [
    {
     "name": "stdout",
     "text": "[[2569  543]\n [ 311  276]]\n              precision    recall  f1-score   support\n\n       False       0.89      0.83      0.86      3112\n        True       0.34      0.47      0.39       587\n\n    accuracy                           0.77      3699\n   macro avg       0.61      0.65      0.63      3699\nweighted avg       0.80      0.77      0.78      3699\n\n",
     "output_type": "stream"
    }
   ]
  },
  {
   "cell_type": "code",
   "metadata": {
    "tags": [],
    "cell_id": "00064-8d5543d2-efce-4992-b731-46ae084dcfde",
    "deepnote_to_be_reexecuted": false,
    "source_hash": "3aff4404",
    "execution_start": 1633352895126,
    "execution_millis": 18046,
    "deepnote_cell_type": "code"
   },
   "source": "#SVM\nSVMmodel_over = SVC()\nSVMmodel_over.fit(X_t_over,y_t_over)\nsvmpredictions= SVMmodel_over.predict(X_test)\n\nprint(confusion_matrix(y_test,svmpredictions))\nprint('\\n')\nprint(classification_report(y_test,svmpredictions))",
   "execution_count": 53,
   "outputs": [
    {
     "name": "stdout",
     "text": "[[2630  482]\n [ 169  418]]\n\n\n              precision    recall  f1-score   support\n\n       False       0.94      0.85      0.89      3112\n        True       0.46      0.71      0.56       587\n\n    accuracy                           0.82      3699\n   macro avg       0.70      0.78      0.73      3699\nweighted avg       0.86      0.82      0.84      3699\n\n",
     "output_type": "stream"
    }
   ]
  },
  {
   "cell_type": "code",
   "source": "#DecisionTree\ndtree_over = DecisionTreeClassifier()\ndtree_over.fit(X_t_over,y_t_over)\ndtpredictions = dtree_over.predict(X_test)\nprint(confusion_matrix(y_test,dtpredictions))\nprint(classification_report(y_test,dtpredictions))\n",
   "metadata": {
    "tags": [],
    "cell_id": "00066-463fb83f-8453-47af-8c40-e4b37fbc7b5c",
    "deepnote_to_be_reexecuted": false,
    "source_hash": "e38d24df",
    "execution_start": 1633353282637,
    "execution_millis": 131,
    "deepnote_cell_type": "code"
   },
   "outputs": [
    {
     "name": "stdout",
     "text": "[[2859  253]\n [ 260  327]]\n              precision    recall  f1-score   support\n\n       False       0.92      0.92      0.92      3112\n        True       0.56      0.56      0.56       587\n\n    accuracy                           0.86      3699\n   macro avg       0.74      0.74      0.74      3699\nweighted avg       0.86      0.86      0.86      3699\n\n",
     "output_type": "stream"
    }
   ],
   "execution_count": 58
  },
  {
   "cell_type": "code",
   "source": "#randomForest\nrfc_over = RandomForestClassifier(n_estimators=100)\nrfc_over.fit(X_t_over, y_t_over)\nrfc_pred = rfc_over.predict(X_test)\nprint(confusion_matrix(y_test,rfc_pred))\nprint(classification_report(y_test,rfc_pred))",
   "metadata": {
    "tags": [],
    "cell_id": "00067-aca85dd2-1589-4d6e-8621-481310efb487",
    "deepnote_to_be_reexecuted": false,
    "source_hash": "e27eb585",
    "execution_start": 1633353451722,
    "execution_millis": 2710,
    "deepnote_cell_type": "code"
   },
   "outputs": [
    {
     "name": "stdout",
     "text": "[[2921  191]\n [ 188  399]]\n              precision    recall  f1-score   support\n\n       False       0.94      0.94      0.94      3112\n        True       0.68      0.68      0.68       587\n\n    accuracy                           0.90      3699\n   macro avg       0.81      0.81      0.81      3699\nweighted avg       0.90      0.90      0.90      3699\n\n",
     "output_type": "stream"
    }
   ],
   "execution_count": 62
  },
  {
   "cell_type": "code",
   "source": "#ROC after OVersampling\nroc_SVM = plot_roc_curve(SVMmodel_over, X_test, y_test)\nroc_knn = plot_roc_curve(knn_over, X_test, y_test, ax=roc_SVM.ax_)\nroc_stree =plot_roc_curve(dtree_over, X_test, y_test,ax=roc_SVM.ax_)\nroc_rfc =plot_roc_curve(rfc_over, X_test, y_test, ax=roc_SVM.ax_)",
   "metadata": {
    "tags": [],
    "cell_id": "00068-0ea4db4e-ce28-4bd5-abd2-b1cdd5e7e666",
    "deepnote_to_be_reexecuted": false,
    "source_hash": "f8aff9b8",
    "execution_start": 1633353529687,
    "execution_millis": 5174,
    "deepnote_cell_type": "code"
   },
   "outputs": [
    {
     "data": {
      "text/plain": "<Figure size 432x288 with 1 Axes>",
      "image/png": "[encoded data removed]"
     },
     "metadata": {
      "needs_background": "light",
      "image/png": {
       "width": 386,
       "height": 262
      }
     },
     "output_type": "display_data"
    }
   ],
   "execution_count": 63
  },
  {
   "cell_type": "markdown",
   "source": "## Undersampling",
   "metadata": {
    "tags": [],
    "is_collapsed": false,
    "cell_id": "00069-b983bb4c-1424-4d64-a7e4-9b6fda28321d",
    "deepnote_cell_type": "text-cell-h2"
   }
  },
  {
   "cell_type": "code",
   "source": "from imblearn.under_sampling import RandomUnderSampler",
   "metadata": {
    "tags": [],
    "cell_id": "00069-cd5b11cc-7fa9-434c-b71e-d80ee47b21e5",
    "deepnote_to_be_reexecuted": false,
    "source_hash": "c9700c0a",
    "execution_start": 1633354610446,
    "execution_millis": 0,
    "deepnote_cell_type": "code"
   },
   "outputs": [],
   "execution_count": 64
  },
  {
   "cell_type": "code",
   "source": "undersample = RandomUnderSampler(random_state=42, sampling_strategy='not minority')\nX_t_under,y_t_under = undersample.fit_resample(X_train,y_train)\nCounter(y_t_under)",
   "metadata": {
    "tags": [],
    "cell_id": "00071-24a7840e-32c3-42e6-9b06-81235d9e69ec",
    "deepnote_to_be_reexecuted": false,
    "source_hash": "d8d14790",
    "execution_start": 1633356534758,
    "execution_millis": 14,
    "deepnote_cell_type": "code"
   },
   "outputs": [
    {
     "output_type": "execute_result",
     "execution_count": 65,
     "data": {
      "text/plain": "Counter({False: 1321, True: 1321})"
     },
     "metadata": {}
    }
   ],
   "execution_count": 65
  },
  {
   "cell_type": "code",
   "source": "#KNN\nknn_under = KNeighborsClassifier(n_neighbors=3)\nknn_under.fit(X_t_under,y_t_under)\npred = knn_under.predict(X_test)\nprint(confusion_matrix(y_test,pred))\nprint(classification_report(y_test,pred))\n\n\n",
   "metadata": {
    "tags": [],
    "cell_id": "00072-4c0dd56a-e6f6-4b4f-a975-e8868027e71d",
    "deepnote_to_be_reexecuted": false,
    "source_hash": "d840513b",
    "execution_start": 1633356603508,
    "execution_millis": 520,
    "deepnote_cell_type": "code"
   },
   "outputs": [
    {
     "name": "stdout",
     "text": "[[2059 1053]\n [ 214  373]]\n              precision    recall  f1-score   support\n\n       False       0.91      0.66      0.76      3112\n        True       0.26      0.64      0.37       587\n\n    accuracy                           0.66      3699\n   macro avg       0.58      0.65      0.57      3699\nweighted avg       0.80      0.66      0.70      3699\n\n",
     "output_type": "stream"
    }
   ],
   "execution_count": 66
  },
  {
   "cell_type": "code",
   "source": "#SVM\nSVMmodel_under = SVC()\nSVMmodel_under.fit(X_t_under,y_t_under)\nsvmpredictions= SVMmodel_under.predict(X_test)\n\nprint(confusion_matrix(y_test,svmpredictions))\nprint('\\n')\nprint(classification_report(y_test,svmpredictions))",
   "metadata": {
    "tags": [],
    "cell_id": "00073-453c3b81-f3ab-4ef9-a76f-3e89400a5730",
    "deepnote_to_be_reexecuted": false,
    "source_hash": "94766807",
    "execution_start": 1633356854978,
    "execution_millis": 1262,
    "deepnote_cell_type": "code"
   },
   "outputs": [
    {
     "name": "stdout",
     "text": "[[2246  866]\n [ 177  410]]\n\n\n              precision    recall  f1-score   support\n\n       False       0.93      0.72      0.81      3112\n        True       0.32      0.70      0.44       587\n\n    accuracy                           0.72      3699\n   macro avg       0.62      0.71      0.63      3699\nweighted avg       0.83      0.72      0.75      3699\n\n",
     "output_type": "stream"
    }
   ],
   "execution_count": 68
  },
  {
   "cell_type": "code",
   "source": "#DecisionTree\ndtree_under = DecisionTreeClassifier()\ndtree_under.fit(X_t_under,y_t_under)\ndtpredictions = dtree_under.predict(X_test)\nprint(confusion_matrix(y_test,dtpredictions))\nprint(classification_report(y_test,dtpredictions))\n",
   "metadata": {
    "tags": [],
    "cell_id": "00074-76773c5c-68f7-4776-a311-69e842eb8414",
    "deepnote_to_be_reexecuted": false,
    "source_hash": "ab982e6f",
    "execution_start": 1633358945014,
    "execution_millis": 57,
    "deepnote_cell_type": "code"
   },
   "outputs": [
    {
     "name": "stdout",
     "text": "[[2504  608]\n [ 127  460]]\n              precision    recall  f1-score   support\n\n       False       0.95      0.80      0.87      3112\n        True       0.43      0.78      0.56       587\n\n    accuracy                           0.80      3699\n   macro avg       0.69      0.79      0.71      3699\nweighted avg       0.87      0.80      0.82      3699\n\n",
     "output_type": "stream"
    }
   ],
   "execution_count": 70
  },
  {
   "cell_type": "code",
   "source": "#randomForest\nrfc_under = RandomForestClassifier(n_estimators=100)\nrfc_under.fit(X_t_under, y_t_under)\nrfc_pred = rfc_under.predict(X_test)\nprint(confusion_matrix(y_test,rfc_pred))\nprint(classification_report(y_test,rfc_pred))",
   "metadata": {
    "tags": [],
    "cell_id": "00075-a1bcb4f3-d14d-491a-b246-9bc3bfe783e5",
    "deepnote_to_be_reexecuted": false,
    "source_hash": "11a1fbab",
    "execution_start": 1633359439566,
    "execution_millis": 683,
    "deepnote_cell_type": "code"
   },
   "outputs": [
    {
     "name": "stdout",
     "text": "[[2625  487]\n [  81  506]]\n              precision    recall  f1-score   support\n\n       False       0.97      0.84      0.90      3112\n        True       0.51      0.86      0.64       587\n\n    accuracy                           0.85      3699\n   macro avg       0.74      0.85      0.77      3699\nweighted avg       0.90      0.85      0.86      3699\n\n",
     "output_type": "stream"
    }
   ],
   "execution_count": 72
  },
  {
   "cell_type": "code",
   "source": "#ROC after undersampling\nroc_SVM = plot_roc_curve(SVMmodel_under, X_test, y_test)\nroc_knn = plot_roc_curve(knn_under, X_test, y_test, ax=roc_SVM.ax_)\nroc_stree =plot_roc_curve(dtree_under, X_test, y_test,ax=roc_SVM.ax_)\nroc_rfc =plot_roc_curve(rfc_under, X_test, y_test, ax=roc_SVM.ax_)",
   "metadata": {
    "tags": [],
    "cell_id": "00076-5b6d6991-df00-4d32-a943-1cf550f4254d",
    "deepnote_to_be_reexecuted": false,
    "source_hash": "6833b451",
    "execution_start": 1633359485229,
    "execution_millis": 1656,
    "deepnote_cell_type": "code"
   },
   "outputs": [
    {
     "data": {
      "text/plain": "<Figure size 432x288 with 1 Axes>",
      "image/png": "[encoded data removed]"
     },
     "metadata": {
      "needs_background": "light",
      "image/png": {
       "width": 386,
       "height": 262
      }
     },
     "output_type": "display_data"
    }
   ],
   "execution_count": 73
  },
  {
   "cell_type": "code",
   "source": "",
   "metadata": {
    "tags": [],
    "cell_id": "00077-3a51a79f-804d-4647-b6f0-e7c63924ff00",
    "deepnote_cell_type": "code"
   },
   "outputs": [],
   "execution_count": null
  },
  {
   "cell_type": "markdown",
   "source": "<a style='text-decoration:none;line-height:16px;display:flex;color:#5B5B62;padding:10px;justify-content:end;' href='https://deepnote.com?utm_source=created-in-deepnote-cell&projectId=f6b64ae9-38ba-4e6f-91cb-44163f0a046c' target=\"_blank\">\n<img alt='Created in deepnote.com' style='display:inline;max-height:16px;margin:0px;margin-right:7.5px;' src='data:image/svg+xml;base64,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' > </img>\nCreated in <span style='font-weight:600;margin-left:4px;'>Deepnote</span></a>",
   "metadata": {
    "tags": [],
    "created_in_deepnote_cell": true,
    "deepnote_cell_type": "markdown"
   }
  }
 ],
 "nbformat": 4,
 "nbformat_minor": 2,
 "metadata": {
  "orig_nbformat": 2,
  "deepnote": {
   "is_reactive": false
  },
  "deepnote_notebook_id": "88ce0c11-de4d-4ab3-bea7-efa89a499411",
  "deepnote_execution_queue": []
 }
}