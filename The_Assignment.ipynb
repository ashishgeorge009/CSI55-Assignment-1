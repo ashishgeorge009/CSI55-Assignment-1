{
 "cells": [
  {
   "cell_type": "code",
   "metadata": {
    "tags": [],
    "cell_id": "00000-6d3ac233-8630-4cc5-bb46-956a323ccb9e",
    "deepnote_to_be_reexecuted": false,
    "source_hash": "c76c7c51",
    "execution_start": 1632779138174,
    "execution_millis": 2,
    "deepnote_cell_type": "code"
   },
   "source": "import pandas as pd\nimport numpy as np",
   "execution_count": 1,
   "outputs": []
  },
  {
   "cell_type": "markdown",
   "source": "# Data Manipulation",
   "metadata": {
    "tags": [],
    "is_collapsed": false,
    "cell_id": "00001-799d8a21-11fa-4ff0-95a4-3b3a1f2e4fb3",
    "deepnote_cell_type": "text-cell-h1"
   }
  },
  {
   "cell_type": "code",
   "metadata": {
    "tags": [],
    "cell_id": "00001-fb4eb0a8-086b-482c-b622-2df1192ae4a7",
    "deepnote_to_be_reexecuted": false,
    "source_hash": "6ab53f70",
    "execution_start": 1632779139832,
    "execution_millis": 43,
    "deepnote_cell_type": "code"
   },
   "source": "df = pd.read_csv('/work/online_shoppers_intention.csv')",
   "execution_count": 2,
   "outputs": []
  },
  {
   "cell_type": "markdown",
   "source": "### Reading the Data",
   "metadata": {
    "tags": [],
    "is_collapsed": false,
    "cell_id": "00003-6a608e01-1f1e-49ca-ba08-e434b3763076",
    "deepnote_cell_type": "text-cell-h3"
   }
  },
  {
   "cell_type": "code",
   "metadata": {
    "tags": [],
    "cell_id": "00002-d3f3fb22-d83e-4621-b610-1c05e2e8b9d4",
    "deepnote_to_be_reexecuted": false,
    "source_hash": "c085b6ba",
    "execution_start": 1632738446083,
    "execution_millis": 38,
    "deepnote_cell_type": "code"
   },
   "source": "df.head()",
   "execution_count": null,
   "outputs": [
    {
     "output_type": "execute_result",
     "execution_count": 30,
     "data": {
      "application/vnd.deepnote.dataframe.v2+json": {
       "row_count": 5,
       "column_count": 18,
       "columns": [
        {
         "name": "Administrative",
         "dtype": "int64",
         "stats": {
          "unique_count": 1,
          "nan_count": 0,
          "min": "0",
          "max": "0",
          "histogram": [
           {
            "bin_start": -0.5,
            "bin_end": -0.4,
            "count": 0
           },
           {
            "bin_start": -0.4,
            "bin_end": -0.3,
            "count": 0
           },
           {
            "bin_start": -0.3,
            "bin_end": -0.19999999999999996,
            "count": 0
           },
           {
            "bin_start": -0.19999999999999996,
            "bin_end": -0.09999999999999998,
            "count": 0
           },
           {
            "bin_start": -0.09999999999999998,
            "bin_end": 0,
            "count": 0
           },
           {
            "bin_start": 0,
            "bin_end": 0.10000000000000009,
            "count": 5
           },
           {
            "bin_start": 0.10000000000000009,
            "bin_end": 0.20000000000000007,
            "count": 0
           },
           {
            "bin_start": 0.20000000000000007,
            "bin_end": 0.30000000000000004,
            "count": 0
           },
           {
            "bin_start": 0.30000000000000004,
            "bin_end": 0.4,
            "count": 0
           },
           {
            "bin_start": 0.4,
            "bin_end": 0.5,
            "count": 0
           }
          ]
         }
        },
        {
         "name": "Administrative_Duration",
         "dtype": "float64",
         "stats": {
          "unique_count": 1,
          "nan_count": 0,
          "min": "0.0",
          "max": "0.0",
          "histogram": [
           {
            "bin_start": -0.5,
            "bin_end": -0.4,
            "count": 0
           },
           {
            "bin_start": -0.4,
            "bin_end": -0.3,
            "count": 0
           },
           {
            "bin_start": -0.3,
            "bin_end": -0.19999999999999996,
            "count": 0
           },
           {
            "bin_start": -0.19999999999999996,
            "bin_end": -0.09999999999999998,
            "count": 0
           },
           {
            "bin_start": -0.09999999999999998,
            "bin_end": 0,
            "count": 0
           },
           {
            "bin_start": 0,
            "bin_end": 0.10000000000000009,
            "count": 5
           },
           {
            "bin_start": 0.10000000000000009,
            "bin_end": 0.20000000000000007,
            "count": 0
           },
           {
            "bin_start": 0.20000000000000007,
            "bin_end": 0.30000000000000004,
            "count": 0
           },
           {
            "bin_start": 0.30000000000000004,
            "bin_end": 0.4,
            "count": 0
           },
           {
            "bin_start": 0.4,
            "bin_end": 0.5,
            "count": 0
           }
          ]
         }
        },
        {
         "name": "Informational",
         "dtype": "int64",
         "stats": {
          "unique_count": 1,
          "nan_count": 0,
          "min": "0",
          "max": "0",
          "histogram": [
           {
            "bin_start": -0.5,
            "bin_end": -0.4,
            "count": 0
           },
           {
            "bin_start": -0.4,
            "bin_end": -0.3,
            "count": 0
           },
           {
            "bin_start": -0.3,
            "bin_end": -0.19999999999999996,
            "count": 0
           },
           {
            "bin_start": -0.19999999999999996,
            "bin_end": -0.09999999999999998,
            "count": 0
           },
           {
            "bin_start": -0.09999999999999998,
            "bin_end": 0,
            "count": 0
           },
           {
            "bin_start": 0,
            "bin_end": 0.10000000000000009,
            "count": 5
           },
           {
            "bin_start": 0.10000000000000009,
            "bin_end": 0.20000000000000007,
            "count": 0
           },
           {
            "bin_start": 0.20000000000000007,
            "bin_end": 0.30000000000000004,
            "count": 0
           },
           {
            "bin_start": 0.30000000000000004,
            "bin_end": 0.4,
            "count": 0
           },
           {
            "bin_start": 0.4,
            "bin_end": 0.5,
            "count": 0
           }
          ]
         }
        },
        {
         "name": "Informational_Duration",
         "dtype": "float64",
         "stats": {
          "unique_count": 1,
          "nan_count": 0,
          "min": "0.0",
          "max": "0.0",
          "histogram": [
           {
            "bin_start": -0.5,
            "bin_end": -0.4,
            "count": 0
           },
           {
            "bin_start": -0.4,
            "bin_end": -0.3,
            "count": 0
           },
           {
            "bin_start": -0.3,
            "bin_end": -0.19999999999999996,
            "count": 0
           },
           {
            "bin_start": -0.19999999999999996,
            "bin_end": -0.09999999999999998,
            "count": 0
           },
           {
            "bin_start": -0.09999999999999998,
            "bin_end": 0,
            "count": 0
           },
           {
            "bin_start": 0,
            "bin_end": 0.10000000000000009,
            "count": 5
           },
           {
            "bin_start": 0.10000000000000009,
            "bin_end": 0.20000000000000007,
            "count": 0
           },
           {
            "bin_start": 0.20000000000000007,
            "bin_end": 0.30000000000000004,
            "count": 0
           },
           {
            "bin_start": 0.30000000000000004,
            "bin_end": 0.4,
            "count": 0
           },
           {
            "bin_start": 0.4,
            "bin_end": 0.5,
            "count": 0
           }
          ]
         }
        },
        {
         "name": "ProductRelated",
         "dtype": "int64",
         "stats": {
          "unique_count": 3,
          "nan_count": 0,
          "min": "1",
          "max": "10",
          "histogram": [
           {
            "bin_start": 1,
            "bin_end": 1.9,
            "count": 2
           },
           {
            "bin_start": 1.9,
            "bin_end": 2.8,
            "count": 2
           },
           {
            "bin_start": 2.8,
            "bin_end": 3.7,
            "count": 0
           },
           {
            "bin_start": 3.7,
            "bin_end": 4.6,
            "count": 0
           },
           {
            "bin_start": 4.6,
            "bin_end": 5.5,
            "count": 0
           },
           {
            "bin_start": 5.5,
            "bin_end": 6.4,
            "count": 0
           },
           {
            "bin_start": 6.4,
            "bin_end": 7.3,
            "count": 0
           },
           {
            "bin_start": 7.3,
            "bin_end": 8.2,
            "count": 0
           },
           {
            "bin_start": 8.2,
            "bin_end": 9.1,
            "count": 0
           },
           {
            "bin_start": 9.1,
            "bin_end": 10,
            "count": 1
           }
          ]
         }
        },
        {
         "name": "ProductRelated_Duration",
         "dtype": "float64",
         "stats": {
          "unique_count": 4,
          "nan_count": 0,
          "min": "0.0",
          "max": "627.5",
          "histogram": [
           {
            "bin_start": 0,
            "bin_end": 62.75,
            "count": 3
           },
           {
            "bin_start": 62.75,
            "bin_end": 125.5,
            "count": 1
           },
           {
            "bin_start": 125.5,
            "bin_end": 188.25,
            "count": 0
           },
           {
            "bin_start": 188.25,
            "bin_end": 251,
            "count": 0
           },
           {
            "bin_start": 251,
            "bin_end": 313.75,
            "count": 0
           },
           {
            "bin_start": 313.75,
            "bin_end": 376.5,
            "count": 0
           },
           {
            "bin_start": 376.5,
            "bin_end": 439.25,
            "count": 0
           },
           {
            "bin_start": 439.25,
            "bin_end": 502,
            "count": 0
           },
           {
            "bin_start": 502,
            "bin_end": 564.75,
            "count": 0
           },
           {
            "bin_start": 564.75,
            "bin_end": 627.5,
            "count": 1
           }
          ]
         }
        },
        {
         "name": "BounceRates",
         "dtype": "float64",
         "stats": {
          "unique_count": 4,
          "nan_count": 0,
          "min": "0.0",
          "max": "0.2",
          "histogram": [
           {
            "bin_start": 0,
            "bin_end": 0.02,
            "count": 1
           },
           {
            "bin_start": 0.02,
            "bin_end": 0.04,
            "count": 1
           },
           {
            "bin_start": 0.04,
            "bin_end": 0.06,
            "count": 1
           },
           {
            "bin_start": 0.06,
            "bin_end": 0.08,
            "count": 0
           },
           {
            "bin_start": 0.08,
            "bin_end": 0.1,
            "count": 0
           },
           {
            "bin_start": 0.1,
            "bin_end": 0.12,
            "count": 0
           },
           {
            "bin_start": 0.12,
            "bin_end": 0.14,
            "count": 0
           },
           {
            "bin_start": 0.14,
            "bin_end": 0.16,
            "count": 0
           },
           {
            "bin_start": 0.16,
            "bin_end": 0.18,
            "count": 0
           },
           {
            "bin_start": 0.18,
            "bin_end": 0.2,
            "count": 2
           }
          ]
         }
        },
        {
         "name": "ExitRates",
         "dtype": "float64",
         "stats": {
          "unique_count": 4,
          "nan_count": 0,
          "min": "0.05",
          "max": "0.2",
          "histogram": [
           {
            "bin_start": 0.05,
            "bin_end": 0.065,
            "count": 1
           },
           {
            "bin_start": 0.065,
            "bin_end": 0.08000000000000002,
            "count": 0
           },
           {
            "bin_start": 0.08000000000000002,
            "bin_end": 0.09500000000000001,
            "count": 0
           },
           {
            "bin_start": 0.09500000000000001,
            "bin_end": 0.11000000000000001,
            "count": 1
           },
           {
            "bin_start": 0.11000000000000001,
            "bin_end": 0.125,
            "count": 0
           },
           {
            "bin_start": 0.125,
            "bin_end": 0.14,
            "count": 0
           },
           {
            "bin_start": 0.14,
            "bin_end": 0.15500000000000003,
            "count": 1
           },
           {
            "bin_start": 0.15500000000000003,
            "bin_end": 0.17000000000000004,
            "count": 0
           },
           {
            "bin_start": 0.17000000000000004,
            "bin_end": 0.18500000000000005,
            "count": 0
           },
           {
            "bin_start": 0.18500000000000005,
            "bin_end": 0.2,
            "count": 2
           }
          ]
         }
        },
        {
         "name": "PageValues",
         "dtype": "float64",
         "stats": {
          "unique_count": 1,
          "nan_count": 0,
          "min": "0.0",
          "max": "0.0",
          "histogram": [
           {
            "bin_start": -0.5,
            "bin_end": -0.4,
            "count": 0
           },
           {
            "bin_start": -0.4,
            "bin_end": -0.3,
            "count": 0
           },
           {
            "bin_start": -0.3,
            "bin_end": -0.19999999999999996,
            "count": 0
           },
           {
            "bin_start": -0.19999999999999996,
            "bin_end": -0.09999999999999998,
            "count": 0
           },
           {
            "bin_start": -0.09999999999999998,
            "bin_end": 0,
            "count": 0
           },
           {
            "bin_start": 0,
            "bin_end": 0.10000000000000009,
            "count": 5
           },
           {
            "bin_start": 0.10000000000000009,
            "bin_end": 0.20000000000000007,
            "count": 0
           },
           {
            "bin_start": 0.20000000000000007,
            "bin_end": 0.30000000000000004,
            "count": 0
           },
           {
            "bin_start": 0.30000000000000004,
            "bin_end": 0.4,
            "count": 0
           },
           {
            "bin_start": 0.4,
            "bin_end": 0.5,
            "count": 0
           }
          ]
         }
        },
        {
         "name": "SpecialDay",
         "dtype": "float64",
         "stats": {
          "unique_count": 1,
          "nan_count": 0,
          "min": "0.0",
          "max": "0.0",
          "histogram": [
           {
            "bin_start": -0.5,
            "bin_end": -0.4,
            "count": 0
           },
           {
            "bin_start": -0.4,
            "bin_end": -0.3,
            "count": 0
           },
           {
            "bin_start": -0.3,
            "bin_end": -0.19999999999999996,
            "count": 0
           },
           {
            "bin_start": -0.19999999999999996,
            "bin_end": -0.09999999999999998,
            "count": 0
           },
           {
            "bin_start": -0.09999999999999998,
            "bin_end": 0,
            "count": 0
           },
           {
            "bin_start": 0,
            "bin_end": 0.10000000000000009,
            "count": 5
           },
           {
            "bin_start": 0.10000000000000009,
            "bin_end": 0.20000000000000007,
            "count": 0
           },
           {
            "bin_start": 0.20000000000000007,
            "bin_end": 0.30000000000000004,
            "count": 0
           },
           {
            "bin_start": 0.30000000000000004,
            "bin_end": 0.4,
            "count": 0
           },
           {
            "bin_start": 0.4,
            "bin_end": 0.5,
            "count": 0
           }
          ]
         }
        },
        {
         "name": "Month",
         "dtype": "object",
         "stats": {
          "unique_count": 1,
          "nan_count": 0,
          "categories": [
           {
            "name": "Feb",
            "count": 5
           }
          ]
         }
        },
        {
         "name": "OperatingSystems",
         "dtype": "int64",
         "stats": {
          "unique_count": 4,
          "nan_count": 0,
          "min": "1",
          "max": "4",
          "histogram": [
           {
            "bin_start": 1,
            "bin_end": 1.3,
            "count": 1
           },
           {
            "bin_start": 1.3,
            "bin_end": 1.6,
            "count": 0
           },
           {
            "bin_start": 1.6,
            "bin_end": 1.9,
            "count": 0
           },
           {
            "bin_start": 1.9,
            "bin_end": 2.2,
            "count": 1
           },
           {
            "bin_start": 2.2,
            "bin_end": 2.5,
            "count": 0
           },
           {
            "bin_start": 2.5,
            "bin_end": 2.8,
            "count": 0
           },
           {
            "bin_start": 2.8,
            "bin_end": 3.1,
            "count": 2
           },
           {
            "bin_start": 3.1,
            "bin_end": 3.4,
            "count": 0
           },
           {
            "bin_start": 3.4,
            "bin_end": 3.6999999999999997,
            "count": 0
           },
           {
            "bin_start": 3.6999999999999997,
            "bin_end": 4,
            "count": 1
           }
          ]
         }
        },
        {
         "name": "Browser",
         "dtype": "int64",
         "stats": {
          "unique_count": 3,
          "nan_count": 0,
          "min": "1",
          "max": "3",
          "histogram": [
           {
            "bin_start": 1,
            "bin_end": 1.2,
            "count": 2
           },
           {
            "bin_start": 1.2,
            "bin_end": 1.4,
            "count": 0
           },
           {
            "bin_start": 1.4,
            "bin_end": 1.6,
            "count": 0
           },
           {
            "bin_start": 1.6,
            "bin_end": 1.8,
            "count": 0
           },
           {
            "bin_start": 1.8,
            "bin_end": 2,
            "count": 0
           },
           {
            "bin_start": 2,
            "bin_end": 2.2,
            "count": 2
           },
           {
            "bin_start": 2.2,
            "bin_end": 2.4000000000000004,
            "count": 0
           },
           {
            "bin_start": 2.4000000000000004,
            "bin_end": 2.6,
            "count": 0
           },
           {
            "bin_start": 2.6,
            "bin_end": 2.8,
            "count": 0
           },
           {
            "bin_start": 2.8,
            "bin_end": 3,
            "count": 1
           }
          ]
         }
        },
        {
         "name": "Region",
         "dtype": "int64",
         "stats": {
          "unique_count": 3,
          "nan_count": 0,
          "min": "1",
          "max": "9",
          "histogram": [
           {
            "bin_start": 1,
            "bin_end": 1.8,
            "count": 3
           },
           {
            "bin_start": 1.8,
            "bin_end": 2.6,
            "count": 1
           },
           {
            "bin_start": 2.6,
            "bin_end": 3.4000000000000004,
            "count": 0
           },
           {
            "bin_start": 3.4000000000000004,
            "bin_end": 4.2,
            "count": 0
           },
           {
            "bin_start": 4.2,
            "bin_end": 5,
            "count": 0
           },
           {
            "bin_start": 5,
            "bin_end": 5.800000000000001,
            "count": 0
           },
           {
            "bin_start": 5.800000000000001,
            "bin_end": 6.6000000000000005,
            "count": 0
           },
           {
            "bin_start": 6.6000000000000005,
            "bin_end": 7.4,
            "count": 0
           },
           {
            "bin_start": 7.4,
            "bin_end": 8.2,
            "count": 0
           },
           {
            "bin_start": 8.2,
            "bin_end": 9,
            "count": 1
           }
          ]
         }
        },
        {
         "name": "TrafficType",
         "dtype": "int64",
         "stats": {
          "unique_count": 4,
          "nan_count": 0,
          "min": "1",
          "max": "4",
          "histogram": [
           {
            "bin_start": 1,
            "bin_end": 1.3,
            "count": 1
           },
           {
            "bin_start": 1.3,
            "bin_end": 1.6,
            "count": 0
           },
           {
            "bin_start": 1.6,
            "bin_end": 1.9,
            "count": 0
           },
           {
            "bin_start": 1.9,
            "bin_end": 2.2,
            "count": 1
           },
           {
            "bin_start": 2.2,
            "bin_end": 2.5,
            "count": 0
           },
           {
            "bin_start": 2.5,
            "bin_end": 2.8,
            "count": 0
           },
           {
            "bin_start": 2.8,
            "bin_end": 3.1,
            "count": 1
           },
           {
            "bin_start": 3.1,
            "bin_end": 3.4,
            "count": 0
           },
           {
            "bin_start": 3.4,
            "bin_end": 3.6999999999999997,
            "count": 0
           },
           {
            "bin_start": 3.6999999999999997,
            "bin_end": 4,
            "count": 2
           }
          ]
         }
        },
        {
         "name": "VisitorType",
         "dtype": "object",
         "stats": {
          "unique_count": 1,
          "nan_count": 0,
          "categories": [
           {
            "name": "Returning_Visitor",
            "count": 5
           }
          ]
         }
        },
        {
         "name": "Weekend",
         "dtype": "bool",
         "stats": {
          "unique_count": 2,
          "nan_count": 0,
          "categories": [
           {
            "name": "False",
            "count": 4
           },
           {
            "name": "True",
            "count": 1
           }
          ]
         }
        },
        {
         "name": "Revenue",
         "dtype": "bool",
         "stats": {
          "unique_count": 1,
          "nan_count": 0,
          "categories": [
           {
            "name": "False",
            "count": 5
           }
          ]
         }
        },
        {
         "name": "_deepnote_index_column",
         "dtype": "int64"
        }
       ],
       "rows_top": [
        {
         "Administrative": 0,
         "Administrative_Duration": 0,
         "Informational": 0,
         "Informational_Duration": 0,
         "ProductRelated": 1,
         "ProductRelated_Duration": 0,
         "BounceRates": 0.2,
         "ExitRates": 0.2,
         "PageValues": 0,
         "SpecialDay": 0,
         "Month": "Feb",
         "OperatingSystems": 1,
         "Browser": 1,
         "Region": 1,
         "TrafficType": 1,
         "VisitorType": "Returning_Visitor",
         "Weekend": "False",
         "Revenue": "False",
         "_deepnote_index_column": 0
        },
        {
         "Administrative": 0,
         "Administrative_Duration": 0,
         "Informational": 0,
         "Informational_Duration": 0,
         "ProductRelated": 2,
         "ProductRelated_Duration": 64,
         "BounceRates": 0,
         "ExitRates": 0.1,
         "PageValues": 0,
         "SpecialDay": 0,
         "Month": "Feb",
         "OperatingSystems": 2,
         "Browser": 2,
         "Region": 1,
         "TrafficType": 2,
         "VisitorType": "Returning_Visitor",
         "Weekend": "False",
         "Revenue": "False",
         "_deepnote_index_column": 1
        },
        {
         "Administrative": 0,
         "Administrative_Duration": 0,
         "Informational": 0,
         "Informational_Duration": 0,
         "ProductRelated": 1,
         "ProductRelated_Duration": 0,
         "BounceRates": 0.2,
         "ExitRates": 0.2,
         "PageValues": 0,
         "SpecialDay": 0,
         "Month": "Feb",
         "OperatingSystems": 4,
         "Browser": 1,
         "Region": 9,
         "TrafficType": 3,
         "VisitorType": "Returning_Visitor",
         "Weekend": "False",
         "Revenue": "False",
         "_deepnote_index_column": 2
        },
        {
         "Administrative": 0,
         "Administrative_Duration": 0,
         "Informational": 0,
         "Informational_Duration": 0,
         "ProductRelated": 2,
         "ProductRelated_Duration": 2.666666667,
         "BounceRates": 0.05,
         "ExitRates": 0.14,
         "PageValues": 0,
         "SpecialDay": 0,
         "Month": "Feb",
         "OperatingSystems": 3,
         "Browser": 2,
         "Region": 2,
         "TrafficType": 4,
         "VisitorType": "Returning_Visitor",
         "Weekend": "False",
         "Revenue": "False",
         "_deepnote_index_column": 3
        },
        {
         "Administrative": 0,
         "Administrative_Duration": 0,
         "Informational": 0,
         "Informational_Duration": 0,
         "ProductRelated": 10,
         "ProductRelated_Duration": 627.5,
         "BounceRates": 0.02,
         "ExitRates": 0.05,
         "PageValues": 0,
         "SpecialDay": 0,
         "Month": "Feb",
         "OperatingSystems": 3,
         "Browser": 3,
         "Region": 1,
         "TrafficType": 4,
         "VisitorType": "Returning_Visitor",
         "Weekend": "True",
         "Revenue": "False",
         "_deepnote_index_column": 4
        }
       ],
       "rows_bottom": null
      },
      "text/plain": "   Administrative  Administrative_Duration  Informational  \\\n0               0                      0.0              0   \n1               0                      0.0              0   \n2               0                      0.0              0   \n3               0                      0.0              0   \n4               0                      0.0              0   \n\n   Informational_Duration  ProductRelated  ProductRelated_Duration  \\\n0                     0.0               1                 0.000000   \n1                     0.0               2                64.000000   \n2                     0.0               1                 0.000000   \n3                     0.0               2                 2.666667   \n4                     0.0              10               627.500000   \n\n   BounceRates  ExitRates  PageValues  SpecialDay Month  OperatingSystems  \\\n0         0.20       0.20         0.0         0.0   Feb                 1   \n1         0.00       0.10         0.0         0.0   Feb                 2   \n2         0.20       0.20         0.0         0.0   Feb                 4   \n3         0.05       0.14         0.0         0.0   Feb                 3   \n4         0.02       0.05         0.0         0.0   Feb                 3   \n\n   Browser  Region  TrafficType        VisitorType  Weekend  Revenue  \n0        1       1            1  Returning_Visitor    False    False  \n1        2       1            2  Returning_Visitor    False    False  \n2        1       9            3  Returning_Visitor    False    False  \n3        2       2            4  Returning_Visitor    False    False  \n4        3       1            4  Returning_Visitor     True    False  ",
      "text/html": "<div>\n<style scoped>\n    .dataframe tbody tr th:only-of-type {\n        vertical-align: middle;\n    }\n\n    .dataframe tbody tr th {\n        vertical-align: top;\n    }\n\n    .dataframe thead th {\n        text-align: right;\n    }\n</style>\n<table border=\"1\" class=\"dataframe\">\n  <thead>\n    <tr style=\"text-align: right;\">\n      <th></th>\n      <th>Administrative</th>\n      <th>Administrative_Duration</th>\n      <th>Informational</th>\n      <th>Informational_Duration</th>\n      <th>ProductRelated</th>\n      <th>ProductRelated_Duration</th>\n      <th>BounceRates</th>\n      <th>ExitRates</th>\n      <th>PageValues</th>\n      <th>SpecialDay</th>\n      <th>Month</th>\n      <th>OperatingSystems</th>\n      <th>Browser</th>\n      <th>Region</th>\n      <th>TrafficType</th>\n      <th>VisitorType</th>\n      <th>Weekend</th>\n      <th>Revenue</th>\n    </tr>\n  </thead>\n  <tbody>\n    <tr>\n      <th>0</th>\n      <td>0</td>\n      <td>0.0</td>\n      <td>0</td>\n      <td>0.0</td>\n      <td>1</td>\n      <td>0.000000</td>\n      <td>0.20</td>\n      <td>0.20</td>\n      <td>0.0</td>\n      <td>0.0</td>\n      <td>Feb</td>\n      <td>1</td>\n      <td>1</td>\n      <td>1</td>\n      <td>1</td>\n      <td>Returning_Visitor</td>\n      <td>False</td>\n      <td>False</td>\n    </tr>\n    <tr>\n      <th>1</th>\n      <td>0</td>\n      <td>0.0</td>\n      <td>0</td>\n      <td>0.0</td>\n      <td>2</td>\n      <td>64.000000</td>\n      <td>0.00</td>\n      <td>0.10</td>\n      <td>0.0</td>\n      <td>0.0</td>\n      <td>Feb</td>\n      <td>2</td>\n      <td>2</td>\n      <td>1</td>\n      <td>2</td>\n      <td>Returning_Visitor</td>\n      <td>False</td>\n      <td>False</td>\n    </tr>\n    <tr>\n      <th>2</th>\n      <td>0</td>\n      <td>0.0</td>\n      <td>0</td>\n      <td>0.0</td>\n      <td>1</td>\n      <td>0.000000</td>\n      <td>0.20</td>\n      <td>0.20</td>\n      <td>0.0</td>\n      <td>0.0</td>\n      <td>Feb</td>\n      <td>4</td>\n      <td>1</td>\n      <td>9</td>\n      <td>3</td>\n      <td>Returning_Visitor</td>\n      <td>False</td>\n      <td>False</td>\n    </tr>\n    <tr>\n      <th>3</th>\n      <td>0</td>\n      <td>0.0</td>\n      <td>0</td>\n      <td>0.0</td>\n      <td>2</td>\n      <td>2.666667</td>\n      <td>0.05</td>\n      <td>0.14</td>\n      <td>0.0</td>\n      <td>0.0</td>\n      <td>Feb</td>\n      <td>3</td>\n      <td>2</td>\n      <td>2</td>\n      <td>4</td>\n      <td>Returning_Visitor</td>\n      <td>False</td>\n      <td>False</td>\n    </tr>\n    <tr>\n      <th>4</th>\n      <td>0</td>\n      <td>0.0</td>\n      <td>0</td>\n      <td>0.0</td>\n      <td>10</td>\n      <td>627.500000</td>\n      <td>0.02</td>\n      <td>0.05</td>\n      <td>0.0</td>\n      <td>0.0</td>\n      <td>Feb</td>\n      <td>3</td>\n      <td>3</td>\n      <td>1</td>\n      <td>4</td>\n      <td>Returning_Visitor</td>\n      <td>True</td>\n      <td>False</td>\n    </tr>\n  </tbody>\n</table>\n</div>"
     },
     "metadata": {}
    }
   ]
  },
  {
   "cell_type": "code",
   "metadata": {
    "tags": [],
    "cell_id": "00003-97825a52-6c59-4002-83d7-46f22c8d605d",
    "deepnote_to_be_reexecuted": false,
    "source_hash": "25d43fa0",
    "execution_start": 1632738448224,
    "execution_millis": 5,
    "deepnote_cell_type": "code"
   },
   "source": "df.columns",
   "execution_count": null,
   "outputs": [
    {
     "output_type": "execute_result",
     "execution_count": 31,
     "data": {
      "text/plain": "Index(['Administrative', 'Administrative_Duration', 'Informational',\n       'Informational_Duration', 'ProductRelated', 'ProductRelated_Duration',\n       'BounceRates', 'ExitRates', 'PageValues', 'SpecialDay', 'Month',\n       'OperatingSystems', 'Browser', 'Region', 'TrafficType', 'VisitorType',\n       'Weekend', 'Revenue'],\n      dtype='object')"
     },
     "metadata": {}
    }
   ]
  },
  {
   "cell_type": "code",
   "metadata": {
    "tags": [],
    "cell_id": "00004-534faf2f-9b3e-4ad6-b6f8-1a084d99273c",
    "deepnote_to_be_reexecuted": false,
    "source_hash": "de1e323c",
    "execution_start": 1632737877544,
    "execution_millis": 12,
    "deepnote_cell_type": "code"
   },
   "source": "df.info()",
   "execution_count": null,
   "outputs": [
    {
     "name": "stdout",
     "text": "<class 'pandas.core.frame.DataFrame'>\nRangeIndex: 12330 entries, 0 to 12329\nData columns (total 18 columns):\n #   Column                   Non-Null Count  Dtype  \n---  ------                   --------------  -----  \n 0   Administrative           12330 non-null  int64  \n 1   Administrative_Duration  12330 non-null  float64\n 2   Informational            12330 non-null  int64  \n 3   Informational_Duration   12330 non-null  float64\n 4   ProductRelated           12330 non-null  int64  \n 5   ProductRelated_Duration  12330 non-null  float64\n 6   BounceRates              12330 non-null  float64\n 7   ExitRates                12330 non-null  float64\n 8   PageValues               12330 non-null  float64\n 9   SpecialDay               12330 non-null  float64\n 10  Month                    12330 non-null  object \n 11  OperatingSystems         12330 non-null  int64  \n 12  Browser                  12330 non-null  int64  \n 13  Region                   12330 non-null  int64  \n 14  TrafficType              12330 non-null  int64  \n 15  VisitorType              12330 non-null  object \n 16  Weekend                  12330 non-null  bool   \n 17  Revenue                  12330 non-null  bool   \ndtypes: bool(2), float64(7), int64(7), object(2)\nmemory usage: 1.5+ MB\n",
     "output_type": "stream"
    }
   ]
  },
  {
   "cell_type": "code",
   "metadata": {
    "tags": [],
    "cell_id": "00004-c294193b-dbb6-4523-b85d-9a599ca53728",
    "deepnote_to_be_reexecuted": false,
    "source_hash": "cfdfa4bd",
    "execution_start": 1632779147181,
    "execution_millis": 20,
    "deepnote_cell_type": "code"
   },
   "source": "for i in df.columns:\n    k=df[i].nunique()\n    print(f'{i} : {k}')",
   "execution_count": 3,
   "outputs": [
    {
     "name": "stdout",
     "text": "Administrative : 27\nAdministrative_Duration : 3335\nInformational : 17\nInformational_Duration : 1258\nProductRelated : 311\nProductRelated_Duration : 9551\nBounceRates : 1872\nExitRates : 4777\nPageValues : 2704\nSpecialDay : 6\nMonth : 10\nOperatingSystems : 8\nBrowser : 13\nRegion : 9\nTrafficType : 20\nVisitorType : 3\nWeekend : 2\nRevenue : 2\n",
     "output_type": "stream"
    }
   ]
  },
  {
   "cell_type": "code",
   "source": "Y=df['Revenue']\nX=df.drop('Revenue',axis=1)",
   "metadata": {
    "tags": [],
    "cell_id": "00008-e651019f-ec2d-4569-8c3c-54915faee5f3",
    "deepnote_to_be_reexecuted": false,
    "source_hash": "23f1f7d9",
    "execution_start": 1632780037448,
    "execution_millis": 1,
    "deepnote_cell_type": "code"
   },
   "outputs": [],
   "execution_count": 9
  },
  {
   "cell_type": "markdown",
   "source": "## Data preprocesing",
   "metadata": {
    "tags": [],
    "is_collapsed": false,
    "cell_id": "00008-e144c5c3-2fbb-448c-914b-4e5b44f746f9",
    "deepnote_cell_type": "text-cell-h2"
   }
  },
  {
   "cell_type": "markdown",
   "source": "Splitting the Numercal and categorical data for standardization and 1-hot encoding ",
   "metadata": {
    "tags": [],
    "is_collapsed": false,
    "cell_id": "00010-b93db14e-f635-4b15-bf4c-92c47060b634",
    "deepnote_cell_type": "text-cell-p"
   }
  },
  {
   "cell_type": "code",
   "source": "X_numerical = X.drop(['Month','VisitorType'],axis=1)",
   "metadata": {
    "tags": [],
    "cell_id": "00010-6e6bfba9-cbe6-46e9-9d21-5d39a4d3c664",
    "deepnote_to_be_reexecuted": false,
    "source_hash": "7357e4f5",
    "execution_start": 1632780279070,
    "execution_millis": 1,
    "deepnote_cell_type": "code"
   },
   "outputs": [],
   "execution_count": 12
  },
  {
   "cell_type": "code",
   "source": "X_numerical.columns",
   "metadata": {
    "tags": [],
    "cell_id": "00011-ad04a16e-419f-4b15-ada3-ac9276edb75b",
    "deepnote_to_be_reexecuted": false,
    "source_hash": "d278d1ce",
    "execution_start": 1632780288842,
    "execution_millis": 8,
    "deepnote_cell_type": "code"
   },
   "outputs": [
    {
     "output_type": "execute_result",
     "execution_count": 13,
     "data": {
      "text/plain": "Index(['Administrative', 'Administrative_Duration', 'Informational',\n       'Informational_Duration', 'ProductRelated', 'ProductRelated_Duration',\n       'BounceRates', 'ExitRates', 'PageValues', 'SpecialDay',\n       'OperatingSystems', 'Browser', 'Region', 'TrafficType', 'Weekend'],\n      dtype='object')"
     },
     "metadata": {}
    }
   ],
   "execution_count": 13
  },
  {
   "cell_type": "code",
   "source": "from sklearn.preprocessing import MinMaxScaler\nscaler = MinMaxScaler()\nX_num_scaled = scaler.fit_transform(X_numerical)\nX_num_scaled.shape #zero mean unit variance standardization",
   "metadata": {
    "tags": [],
    "cell_id": "00012-f1085b97-1e68-4b72-b1b7-3351bd6a5246",
    "deepnote_to_be_reexecuted": false,
    "source_hash": "c0f1e9b6",
    "execution_start": 1632780927203,
    "execution_millis": 29,
    "deepnote_cell_type": "code"
   },
   "outputs": [
    {
     "output_type": "execute_result",
     "execution_count": 25,
     "data": {
      "text/plain": "(12330, 15)"
     },
     "metadata": {}
    }
   ],
   "execution_count": 25
  },
  {
   "cell_type": "code",
   "source": "X_num_sc=pd.DataFrame(X_num_scaled,columns=list(X_numerical.columns))",
   "metadata": {
    "tags": [],
    "cell_id": "00013-163931fe-8c1b-4d3c-b7b4-ad22339d0c0d",
    "deepnote_to_be_reexecuted": false,
    "source_hash": "2ac1fa4d",
    "execution_start": 1632781284508,
    "execution_millis": 3,
    "deepnote_cell_type": "code"
   },
   "outputs": [],
   "execution_count": 27
  },
  {
   "cell_type": "code",
   "source": "X_num_sc.head()",
   "metadata": {
    "tags": [],
    "cell_id": "00014-b503086c-f127-4cbb-9d86-10c08c80b8f6",
    "deepnote_to_be_reexecuted": false,
    "source_hash": "b1ca52f6",
    "execution_start": 1632781295336,
    "execution_millis": 32,
    "deepnote_cell_type": "code"
   },
   "outputs": [
    {
     "output_type": "execute_result",
     "execution_count": 28,
     "data": {
      "application/vnd.deepnote.dataframe.v2+json": {
       "row_count": 5,
       "column_count": 15,
       "columns": [
        {
         "name": "Administrative",
         "dtype": "float64",
         "stats": {
          "unique_count": 1,
          "nan_count": 0,
          "min": "0.0",
          "max": "0.0",
          "histogram": [
           {
            "bin_start": -0.5,
            "bin_end": -0.4,
            "count": 0
           },
           {
            "bin_start": -0.4,
            "bin_end": -0.3,
            "count": 0
           },
           {
            "bin_start": -0.3,
            "bin_end": -0.19999999999999996,
            "count": 0
           },
           {
            "bin_start": -0.19999999999999996,
            "bin_end": -0.09999999999999998,
            "count": 0
           },
           {
            "bin_start": -0.09999999999999998,
            "bin_end": 0,
            "count": 0
           },
           {
            "bin_start": 0,
            "bin_end": 0.10000000000000009,
            "count": 5
           },
           {
            "bin_start": 0.10000000000000009,
            "bin_end": 0.20000000000000007,
            "count": 0
           },
           {
            "bin_start": 0.20000000000000007,
            "bin_end": 0.30000000000000004,
            "count": 0
           },
           {
            "bin_start": 0.30000000000000004,
            "bin_end": 0.4,
            "count": 0
           },
           {
            "bin_start": 0.4,
            "bin_end": 0.5,
            "count": 0
           }
          ]
         }
        },
        {
         "name": "Administrative_Duration",
         "dtype": "float64",
         "stats": {
          "unique_count": 1,
          "nan_count": 0,
          "min": "0.0",
          "max": "0.0",
          "histogram": [
           {
            "bin_start": -0.5,
            "bin_end": -0.4,
            "count": 0
           },
           {
            "bin_start": -0.4,
            "bin_end": -0.3,
            "count": 0
           },
           {
            "bin_start": -0.3,
            "bin_end": -0.19999999999999996,
            "count": 0
           },
           {
            "bin_start": -0.19999999999999996,
            "bin_end": -0.09999999999999998,
            "count": 0
           },
           {
            "bin_start": -0.09999999999999998,
            "bin_end": 0,
            "count": 0
           },
           {
            "bin_start": 0,
            "bin_end": 0.10000000000000009,
            "count": 5
           },
           {
            "bin_start": 0.10000000000000009,
            "bin_end": 0.20000000000000007,
            "count": 0
           },
           {
            "bin_start": 0.20000000000000007,
            "bin_end": 0.30000000000000004,
            "count": 0
           },
           {
            "bin_start": 0.30000000000000004,
            "bin_end": 0.4,
            "count": 0
           },
           {
            "bin_start": 0.4,
            "bin_end": 0.5,
            "count": 0
           }
          ]
         }
        },
        {
         "name": "Informational",
         "dtype": "float64",
         "stats": {
          "unique_count": 1,
          "nan_count": 0,
          "min": "0.0",
          "max": "0.0",
          "histogram": [
           {
            "bin_start": -0.5,
            "bin_end": -0.4,
            "count": 0
           },
           {
            "bin_start": -0.4,
            "bin_end": -0.3,
            "count": 0
           },
           {
            "bin_start": -0.3,
            "bin_end": -0.19999999999999996,
            "count": 0
           },
           {
            "bin_start": -0.19999999999999996,
            "bin_end": -0.09999999999999998,
            "count": 0
           },
           {
            "bin_start": -0.09999999999999998,
            "bin_end": 0,
            "count": 0
           },
           {
            "bin_start": 0,
            "bin_end": 0.10000000000000009,
            "count": 5
           },
           {
            "bin_start": 0.10000000000000009,
            "bin_end": 0.20000000000000007,
            "count": 0
           },
           {
            "bin_start": 0.20000000000000007,
            "bin_end": 0.30000000000000004,
            "count": 0
           },
           {
            "bin_start": 0.30000000000000004,
            "bin_end": 0.4,
            "count": 0
           },
           {
            "bin_start": 0.4,
            "bin_end": 0.5,
            "count": 0
           }
          ]
         }
        },
        {
         "name": "Informational_Duration",
         "dtype": "float64",
         "stats": {
          "unique_count": 1,
          "nan_count": 0,
          "min": "0.0",
          "max": "0.0",
          "histogram": [
           {
            "bin_start": -0.5,
            "bin_end": -0.4,
            "count": 0
           },
           {
            "bin_start": -0.4,
            "bin_end": -0.3,
            "count": 0
           },
           {
            "bin_start": -0.3,
            "bin_end": -0.19999999999999996,
            "count": 0
           },
           {
            "bin_start": -0.19999999999999996,
            "bin_end": -0.09999999999999998,
            "count": 0
           },
           {
            "bin_start": -0.09999999999999998,
            "bin_end": 0,
            "count": 0
           },
           {
            "bin_start": 0,
            "bin_end": 0.10000000000000009,
            "count": 5
           },
           {
            "bin_start": 0.10000000000000009,
            "bin_end": 0.20000000000000007,
            "count": 0
           },
           {
            "bin_start": 0.20000000000000007,
            "bin_end": 0.30000000000000004,
            "count": 0
           },
           {
            "bin_start": 0.30000000000000004,
            "bin_end": 0.4,
            "count": 0
           },
           {
            "bin_start": 0.4,
            "bin_end": 0.5,
            "count": 0
           }
          ]
         }
        },
        {
         "name": "ProductRelated",
         "dtype": "float64",
         "stats": {
          "unique_count": 3,
          "nan_count": 0,
          "min": "0.0014184397163120568",
          "max": "0.014184397163120569",
          "histogram": [
           {
            "bin_start": 0.0014184397163120568,
            "bin_end": 0.002695035460992908,
            "count": 2
           },
           {
            "bin_start": 0.002695035460992908,
            "bin_end": 0.003971631205673759,
            "count": 2
           },
           {
            "bin_start": 0.003971631205673759,
            "bin_end": 0.005248226950354611,
            "count": 0
           },
           {
            "bin_start": 0.005248226950354611,
            "bin_end": 0.006524822695035462,
            "count": 0
           },
           {
            "bin_start": 0.006524822695035462,
            "bin_end": 0.007801418439716313,
            "count": 0
           },
           {
            "bin_start": 0.007801418439716313,
            "bin_end": 0.009078014184397165,
            "count": 0
           },
           {
            "bin_start": 0.009078014184397165,
            "bin_end": 0.010354609929078015,
            "count": 0
           },
           {
            "bin_start": 0.010354609929078015,
            "bin_end": 0.011631205673758867,
            "count": 0
           },
           {
            "bin_start": 0.011631205673758867,
            "bin_end": 0.012907801418439719,
            "count": 0
           },
           {
            "bin_start": 0.012907801418439719,
            "bin_end": 0.014184397163120569,
            "count": 1
           }
          ]
         }
        },
        {
         "name": "ProductRelated_Duration",
         "dtype": "float64",
         "stats": {
          "unique_count": 4,
          "nan_count": 0,
          "min": "0.0",
          "max": "0.00980874552668819",
          "histogram": [
           {
            "bin_start": 0,
            "bin_end": 0.000980874552668819,
            "count": 3
           },
           {
            "bin_start": 0.000980874552668819,
            "bin_end": 0.001961749105337638,
            "count": 1
           },
           {
            "bin_start": 0.001961749105337638,
            "bin_end": 0.0029426236580064567,
            "count": 0
           },
           {
            "bin_start": 0.0029426236580064567,
            "bin_end": 0.003923498210675276,
            "count": 0
           },
           {
            "bin_start": 0.003923498210675276,
            "bin_end": 0.004904372763344095,
            "count": 0
           },
           {
            "bin_start": 0.004904372763344095,
            "bin_end": 0.0058852473160129135,
            "count": 0
           },
           {
            "bin_start": 0.0058852473160129135,
            "bin_end": 0.006866121868681733,
            "count": 0
           },
           {
            "bin_start": 0.006866121868681733,
            "bin_end": 0.007846996421350552,
            "count": 0
           },
           {
            "bin_start": 0.007846996421350552,
            "bin_end": 0.00882787097401937,
            "count": 0
           },
           {
            "bin_start": 0.00882787097401937,
            "bin_end": 0.00980874552668819,
            "count": 1
           }
          ]
         }
        },
        {
         "name": "BounceRates",
         "dtype": "float64",
         "stats": {
          "unique_count": 4,
          "nan_count": 0,
          "min": "0.0",
          "max": "1.0",
          "histogram": [
           {
            "bin_start": 0,
            "bin_end": 0.1,
            "count": 1
           },
           {
            "bin_start": 0.1,
            "bin_end": 0.2,
            "count": 1
           },
           {
            "bin_start": 0.2,
            "bin_end": 0.30000000000000004,
            "count": 1
           },
           {
            "bin_start": 0.30000000000000004,
            "bin_end": 0.4,
            "count": 0
           },
           {
            "bin_start": 0.4,
            "bin_end": 0.5,
            "count": 0
           },
           {
            "bin_start": 0.5,
            "bin_end": 0.6000000000000001,
            "count": 0
           },
           {
            "bin_start": 0.6000000000000001,
            "bin_end": 0.7000000000000001,
            "count": 0
           },
           {
            "bin_start": 0.7000000000000001,
            "bin_end": 0.8,
            "count": 0
           },
           {
            "bin_start": 0.8,
            "bin_end": 0.9,
            "count": 0
           },
           {
            "bin_start": 0.9,
            "bin_end": 1,
            "count": 2
           }
          ]
         }
        },
        {
         "name": "ExitRates",
         "dtype": "float64",
         "stats": {
          "unique_count": 4,
          "nan_count": 0,
          "min": "0.25",
          "max": "1.0",
          "histogram": [
           {
            "bin_start": 0.25,
            "bin_end": 0.325,
            "count": 1
           },
           {
            "bin_start": 0.325,
            "bin_end": 0.4,
            "count": 0
           },
           {
            "bin_start": 0.4,
            "bin_end": 0.475,
            "count": 0
           },
           {
            "bin_start": 0.475,
            "bin_end": 0.55,
            "count": 1
           },
           {
            "bin_start": 0.55,
            "bin_end": 0.625,
            "count": 0
           },
           {
            "bin_start": 0.625,
            "bin_end": 0.7,
            "count": 0
           },
           {
            "bin_start": 0.7,
            "bin_end": 0.775,
            "count": 1
           },
           {
            "bin_start": 0.775,
            "bin_end": 0.85,
            "count": 0
           },
           {
            "bin_start": 0.85,
            "bin_end": 0.9249999999999999,
            "count": 0
           },
           {
            "bin_start": 0.9249999999999999,
            "bin_end": 1,
            "count": 2
           }
          ]
         }
        },
        {
         "name": "PageValues",
         "dtype": "float64",
         "stats": {
          "unique_count": 1,
          "nan_count": 0,
          "min": "0.0",
          "max": "0.0",
          "histogram": [
           {
            "bin_start": -0.5,
            "bin_end": -0.4,
            "count": 0
           },
           {
            "bin_start": -0.4,
            "bin_end": -0.3,
            "count": 0
           },
           {
            "bin_start": -0.3,
            "bin_end": -0.19999999999999996,
            "count": 0
           },
           {
            "bin_start": -0.19999999999999996,
            "bin_end": -0.09999999999999998,
            "count": 0
           },
           {
            "bin_start": -0.09999999999999998,
            "bin_end": 0,
            "count": 0
           },
           {
            "bin_start": 0,
            "bin_end": 0.10000000000000009,
            "count": 5
           },
           {
            "bin_start": 0.10000000000000009,
            "bin_end": 0.20000000000000007,
            "count": 0
           },
           {
            "bin_start": 0.20000000000000007,
            "bin_end": 0.30000000000000004,
            "count": 0
           },
           {
            "bin_start": 0.30000000000000004,
            "bin_end": 0.4,
            "count": 0
           },
           {
            "bin_start": 0.4,
            "bin_end": 0.5,
            "count": 0
           }
          ]
         }
        },
        {
         "name": "SpecialDay",
         "dtype": "float64",
         "stats": {
          "unique_count": 1,
          "nan_count": 0,
          "min": "0.0",
          "max": "0.0",
          "histogram": [
           {
            "bin_start": -0.5,
            "bin_end": -0.4,
            "count": 0
           },
           {
            "bin_start": -0.4,
            "bin_end": -0.3,
            "count": 0
           },
           {
            "bin_start": -0.3,
            "bin_end": -0.19999999999999996,
            "count": 0
           },
           {
            "bin_start": -0.19999999999999996,
            "bin_end": -0.09999999999999998,
            "count": 0
           },
           {
            "bin_start": -0.09999999999999998,
            "bin_end": 0,
            "count": 0
           },
           {
            "bin_start": 0,
            "bin_end": 0.10000000000000009,
            "count": 5
           },
           {
            "bin_start": 0.10000000000000009,
            "bin_end": 0.20000000000000007,
            "count": 0
           },
           {
            "bin_start": 0.20000000000000007,
            "bin_end": 0.30000000000000004,
            "count": 0
           },
           {
            "bin_start": 0.30000000000000004,
            "bin_end": 0.4,
            "count": 0
           },
           {
            "bin_start": 0.4,
            "bin_end": 0.5,
            "count": 0
           }
          ]
         }
        },
        {
         "name": "OperatingSystems",
         "dtype": "float64",
         "stats": {
          "unique_count": 4,
          "nan_count": 0,
          "min": "0.0",
          "max": "0.42857142857142855",
          "histogram": [
           {
            "bin_start": 0,
            "bin_end": 0.04285714285714286,
            "count": 1
           },
           {
            "bin_start": 0.04285714285714286,
            "bin_end": 0.08571428571428572,
            "count": 0
           },
           {
            "bin_start": 0.08571428571428572,
            "bin_end": 0.12857142857142856,
            "count": 0
           },
           {
            "bin_start": 0.12857142857142856,
            "bin_end": 0.17142857142857143,
            "count": 1
           },
           {
            "bin_start": 0.17142857142857143,
            "bin_end": 0.2142857142857143,
            "count": 0
           },
           {
            "bin_start": 0.2142857142857143,
            "bin_end": 0.2571428571428571,
            "count": 0
           },
           {
            "bin_start": 0.2571428571428571,
            "bin_end": 0.3,
            "count": 2
           },
           {
            "bin_start": 0.3,
            "bin_end": 0.34285714285714286,
            "count": 0
           },
           {
            "bin_start": 0.34285714285714286,
            "bin_end": 0.38571428571428573,
            "count": 0
           },
           {
            "bin_start": 0.38571428571428573,
            "bin_end": 0.42857142857142855,
            "count": 1
           }
          ]
         }
        },
        {
         "name": "Browser",
         "dtype": "float64",
         "stats": {
          "unique_count": 3,
          "nan_count": 0,
          "min": "0.0",
          "max": "0.16666666666666669",
          "histogram": [
           {
            "bin_start": 0,
            "bin_end": 0.01666666666666667,
            "count": 2
           },
           {
            "bin_start": 0.01666666666666667,
            "bin_end": 0.03333333333333334,
            "count": 0
           },
           {
            "bin_start": 0.03333333333333334,
            "bin_end": 0.05000000000000001,
            "count": 0
           },
           {
            "bin_start": 0.05000000000000001,
            "bin_end": 0.06666666666666668,
            "count": 0
           },
           {
            "bin_start": 0.06666666666666668,
            "bin_end": 0.08333333333333334,
            "count": 2
           },
           {
            "bin_start": 0.08333333333333334,
            "bin_end": 0.10000000000000002,
            "count": 0
           },
           {
            "bin_start": 0.10000000000000002,
            "bin_end": 0.1166666666666667,
            "count": 0
           },
           {
            "bin_start": 0.1166666666666667,
            "bin_end": 0.13333333333333336,
            "count": 0
           },
           {
            "bin_start": 0.13333333333333336,
            "bin_end": 0.15000000000000002,
            "count": 0
           },
           {
            "bin_start": 0.15000000000000002,
            "bin_end": 0.16666666666666669,
            "count": 1
           }
          ]
         }
        },
        {
         "name": "Region",
         "dtype": "float64",
         "stats": {
          "unique_count": 3,
          "nan_count": 0,
          "min": "0.0",
          "max": "1.0",
          "histogram": [
           {
            "bin_start": 0,
            "bin_end": 0.1,
            "count": 3
           },
           {
            "bin_start": 0.1,
            "bin_end": 0.2,
            "count": 1
           },
           {
            "bin_start": 0.2,
            "bin_end": 0.30000000000000004,
            "count": 0
           },
           {
            "bin_start": 0.30000000000000004,
            "bin_end": 0.4,
            "count": 0
           },
           {
            "bin_start": 0.4,
            "bin_end": 0.5,
            "count": 0
           },
           {
            "bin_start": 0.5,
            "bin_end": 0.6000000000000001,
            "count": 0
           },
           {
            "bin_start": 0.6000000000000001,
            "bin_end": 0.7000000000000001,
            "count": 0
           },
           {
            "bin_start": 0.7000000000000001,
            "bin_end": 0.8,
            "count": 0
           },
           {
            "bin_start": 0.8,
            "bin_end": 0.9,
            "count": 0
           },
           {
            "bin_start": 0.9,
            "bin_end": 1,
            "count": 1
           }
          ]
         }
        },
        {
         "name": "TrafficType",
         "dtype": "float64",
         "stats": {
          "unique_count": 4,
          "nan_count": 0,
          "min": "0.0",
          "max": "0.15789473684210525",
          "histogram": [
           {
            "bin_start": 0,
            "bin_end": 0.015789473684210527,
            "count": 1
           },
           {
            "bin_start": 0.015789473684210527,
            "bin_end": 0.031578947368421054,
            "count": 0
           },
           {
            "bin_start": 0.031578947368421054,
            "bin_end": 0.04736842105263158,
            "count": 0
           },
           {
            "bin_start": 0.04736842105263158,
            "bin_end": 0.06315789473684211,
            "count": 1
           },
           {
            "bin_start": 0.06315789473684211,
            "bin_end": 0.07894736842105263,
            "count": 0
           },
           {
            "bin_start": 0.07894736842105263,
            "bin_end": 0.09473684210526316,
            "count": 0
           },
           {
            "bin_start": 0.09473684210526316,
            "bin_end": 0.1105263157894737,
            "count": 1
           },
           {
            "bin_start": 0.1105263157894737,
            "bin_end": 0.12631578947368421,
            "count": 0
           },
           {
            "bin_start": 0.12631578947368421,
            "bin_end": 0.14210526315789473,
            "count": 0
           },
           {
            "bin_start": 0.14210526315789473,
            "bin_end": 0.15789473684210525,
            "count": 2
           }
          ]
         }
        },
        {
         "name": "Weekend",
         "dtype": "float64",
         "stats": {
          "unique_count": 2,
          "nan_count": 0,
          "min": "0.0",
          "max": "1.0",
          "histogram": [
           {
            "bin_start": 0,
            "bin_end": 0.1,
            "count": 4
           },
           {
            "bin_start": 0.1,
            "bin_end": 0.2,
            "count": 0
           },
           {
            "bin_start": 0.2,
            "bin_end": 0.30000000000000004,
            "count": 0
           },
           {
            "bin_start": 0.30000000000000004,
            "bin_end": 0.4,
            "count": 0
           },
           {
            "bin_start": 0.4,
            "bin_end": 0.5,
            "count": 0
           },
           {
            "bin_start": 0.5,
            "bin_end": 0.6000000000000001,
            "count": 0
           },
           {
            "bin_start": 0.6000000000000001,
            "bin_end": 0.7000000000000001,
            "count": 0
           },
           {
            "bin_start": 0.7000000000000001,
            "bin_end": 0.8,
            "count": 0
           },
           {
            "bin_start": 0.8,
            "bin_end": 0.9,
            "count": 0
           },
           {
            "bin_start": 0.9,
            "bin_end": 1,
            "count": 1
           }
          ]
         }
        },
        {
         "name": "_deepnote_index_column",
         "dtype": "int64"
        }
       ],
       "rows_top": [
        {
         "Administrative": 0,
         "Administrative_Duration": 0,
         "Informational": 0,
         "Informational_Duration": 0,
         "ProductRelated": 0.0014184397163120568,
         "ProductRelated_Duration": 0,
         "BounceRates": 1,
         "ExitRates": 1,
         "PageValues": 0,
         "SpecialDay": 0,
         "OperatingSystems": 0,
         "Browser": 0,
         "Region": 0,
         "TrafficType": 0,
         "Weekend": 0,
         "_deepnote_index_column": 0
        },
        {
         "Administrative": 0,
         "Administrative_Duration": 0,
         "Informational": 0,
         "Informational_Duration": 0,
         "ProductRelated": 0.0028368794326241137,
         "ProductRelated_Duration": 0.0010004138863873213,
         "BounceRates": 0,
         "ExitRates": 0.5,
         "PageValues": 0,
         "SpecialDay": 0,
         "OperatingSystems": 0.14285714285714285,
         "Browser": 0.08333333333333333,
         "Region": 0,
         "TrafficType": 0.05263157894736842,
         "Weekend": 0,
         "_deepnote_index_column": 1
        },
        {
         "Administrative": 0,
         "Administrative_Duration": 0,
         "Informational": 0,
         "Informational_Duration": 0,
         "ProductRelated": 0.0014184397163120568,
         "ProductRelated_Duration": 0,
         "BounceRates": 1,
         "ExitRates": 1,
         "PageValues": 0,
         "SpecialDay": 0,
         "OperatingSystems": 0.42857142857142855,
         "Browser": 0,
         "Region": 1,
         "TrafficType": 0.10526315789473684,
         "Weekend": 0,
         "_deepnote_index_column": 2
        },
        {
         "Administrative": 0,
         "Administrative_Duration": 0,
         "Informational": 0,
         "Informational_Duration": 0,
         "ProductRelated": 0.0028368794326241137,
         "ProductRelated_Duration": 0.00004168391193801554,
         "BounceRates": 0.25,
         "ExitRates": 0.7000000000000001,
         "PageValues": 0,
         "SpecialDay": 0,
         "OperatingSystems": 0.2857142857142857,
         "Browser": 0.08333333333333333,
         "Region": 0.125,
         "TrafficType": 0.15789473684210525,
         "Weekend": 0,
         "_deepnote_index_column": 3
        },
        {
         "Administrative": 0,
         "Administrative_Duration": 0,
         "Informational": 0,
         "Informational_Duration": 0,
         "ProductRelated": 0.014184397163120569,
         "ProductRelated_Duration": 0.00980874552668819,
         "BounceRates": 0.1,
         "ExitRates": 0.25,
         "PageValues": 0,
         "SpecialDay": 0,
         "OperatingSystems": 0.2857142857142857,
         "Browser": 0.16666666666666669,
         "Region": 0,
         "TrafficType": 0.15789473684210525,
         "Weekend": 1,
         "_deepnote_index_column": 4
        }
       ],
       "rows_bottom": null
      },
      "text/plain": "   Administrative  Administrative_Duration  Informational  \\\n0             0.0                      0.0            0.0   \n1             0.0                      0.0            0.0   \n2             0.0                      0.0            0.0   \n3             0.0                      0.0            0.0   \n4             0.0                      0.0            0.0   \n\n   Informational_Duration  ProductRelated  ProductRelated_Duration  \\\n0                     0.0        0.001418                 0.000000   \n1                     0.0        0.002837                 0.001000   \n2                     0.0        0.001418                 0.000000   \n3                     0.0        0.002837                 0.000042   \n4                     0.0        0.014184                 0.009809   \n\n   BounceRates  ExitRates  PageValues  SpecialDay  OperatingSystems   Browser  \\\n0         1.00       1.00         0.0         0.0          0.000000  0.000000   \n1         0.00       0.50         0.0         0.0          0.142857  0.083333   \n2         1.00       1.00         0.0         0.0          0.428571  0.000000   \n3         0.25       0.70         0.0         0.0          0.285714  0.083333   \n4         0.10       0.25         0.0         0.0          0.285714  0.166667   \n\n   Region  TrafficType  Weekend  \n0   0.000     0.000000      0.0  \n1   0.000     0.052632      0.0  \n2   1.000     0.105263      0.0  \n3   0.125     0.157895      0.0  \n4   0.000     0.157895      1.0  ",
      "text/html": "<div>\n<style scoped>\n    .dataframe tbody tr th:only-of-type {\n        vertical-align: middle;\n    }\n\n    .dataframe tbody tr th {\n        vertical-align: top;\n    }\n\n    .dataframe thead th {\n        text-align: right;\n    }\n</style>\n<table border=\"1\" class=\"dataframe\">\n  <thead>\n    <tr style=\"text-align: right;\">\n      <th></th>\n      <th>Administrative</th>\n      <th>Administrative_Duration</th>\n      <th>Informational</th>\n      <th>Informational_Duration</th>\n      <th>ProductRelated</th>\n      <th>ProductRelated_Duration</th>\n      <th>BounceRates</th>\n      <th>ExitRates</th>\n      <th>PageValues</th>\n      <th>SpecialDay</th>\n      <th>OperatingSystems</th>\n      <th>Browser</th>\n      <th>Region</th>\n      <th>TrafficType</th>\n      <th>Weekend</th>\n    </tr>\n  </thead>\n  <tbody>\n    <tr>\n      <th>0</th>\n      <td>0.0</td>\n      <td>0.0</td>\n      <td>0.0</td>\n      <td>0.0</td>\n      <td>0.001418</td>\n      <td>0.000000</td>\n      <td>1.00</td>\n      <td>1.00</td>\n      <td>0.0</td>\n      <td>0.0</td>\n      <td>0.000000</td>\n      <td>0.000000</td>\n      <td>0.000</td>\n      <td>0.000000</td>\n      <td>0.0</td>\n    </tr>\n    <tr>\n      <th>1</th>\n      <td>0.0</td>\n      <td>0.0</td>\n      <td>0.0</td>\n      <td>0.0</td>\n      <td>0.002837</td>\n      <td>0.001000</td>\n      <td>0.00</td>\n      <td>0.50</td>\n      <td>0.0</td>\n      <td>0.0</td>\n      <td>0.142857</td>\n      <td>0.083333</td>\n      <td>0.000</td>\n      <td>0.052632</td>\n      <td>0.0</td>\n    </tr>\n    <tr>\n      <th>2</th>\n      <td>0.0</td>\n      <td>0.0</td>\n      <td>0.0</td>\n      <td>0.0</td>\n      <td>0.001418</td>\n      <td>0.000000</td>\n      <td>1.00</td>\n      <td>1.00</td>\n      <td>0.0</td>\n      <td>0.0</td>\n      <td>0.428571</td>\n      <td>0.000000</td>\n      <td>1.000</td>\n      <td>0.105263</td>\n      <td>0.0</td>\n    </tr>\n    <tr>\n      <th>3</th>\n      <td>0.0</td>\n      <td>0.0</td>\n      <td>0.0</td>\n      <td>0.0</td>\n      <td>0.002837</td>\n      <td>0.000042</td>\n      <td>0.25</td>\n      <td>0.70</td>\n      <td>0.0</td>\n      <td>0.0</td>\n      <td>0.285714</td>\n      <td>0.083333</td>\n      <td>0.125</td>\n      <td>0.157895</td>\n      <td>0.0</td>\n    </tr>\n    <tr>\n      <th>4</th>\n      <td>0.0</td>\n      <td>0.0</td>\n      <td>0.0</td>\n      <td>0.0</td>\n      <td>0.014184</td>\n      <td>0.009809</td>\n      <td>0.10</td>\n      <td>0.25</td>\n      <td>0.0</td>\n      <td>0.0</td>\n      <td>0.285714</td>\n      <td>0.166667</td>\n      <td>0.000</td>\n      <td>0.157895</td>\n      <td>1.0</td>\n    </tr>\n  </tbody>\n</table>\n</div>"
     },
     "metadata": {}
    }
   ],
   "execution_count": 28
  },
  {
   "cell_type": "code",
   "source": "X_scaled = pd.concat([X_num_sc,X[['Month','VisitorType']]],axis=1)",
   "metadata": {
    "tags": [],
    "cell_id": "00015-bc576ed6-e8c0-487c-93e9-5a0f729f93a6",
    "deepnote_to_be_reexecuted": false,
    "source_hash": "a12a3b64",
    "execution_start": 1632781667011,
    "execution_millis": 2,
    "deepnote_cell_type": "code"
   },
   "outputs": [],
   "execution_count": 37
  },
  {
   "cell_type": "code",
   "source": "X_scaled.head()",
   "metadata": {
    "tags": [],
    "cell_id": "00016-609ba5e5-89a3-40e1-8e1b-28889a90c1e7",
    "deepnote_to_be_reexecuted": false,
    "source_hash": "48883400",
    "execution_start": 1632781679916,
    "execution_millis": 23,
    "deepnote_cell_type": "code"
   },
   "outputs": [
    {
     "output_type": "execute_result",
     "execution_count": 38,
     "data": {
      "application/vnd.deepnote.dataframe.v2+json": {
       "row_count": 5,
       "column_count": 17,
       "columns": [
        {
         "name": "Administrative",
         "dtype": "float64",
         "stats": {
          "unique_count": 1,
          "nan_count": 0,
          "min": "0.0",
          "max": "0.0",
          "histogram": [
           {
            "bin_start": -0.5,
            "bin_end": -0.4,
            "count": 0
           },
           {
            "bin_start": -0.4,
            "bin_end": -0.3,
            "count": 0
           },
           {
            "bin_start": -0.3,
            "bin_end": -0.19999999999999996,
            "count": 0
           },
           {
            "bin_start": -0.19999999999999996,
            "bin_end": -0.09999999999999998,
            "count": 0
           },
           {
            "bin_start": -0.09999999999999998,
            "bin_end": 0,
            "count": 0
           },
           {
            "bin_start": 0,
            "bin_end": 0.10000000000000009,
            "count": 5
           },
           {
            "bin_start": 0.10000000000000009,
            "bin_end": 0.20000000000000007,
            "count": 0
           },
           {
            "bin_start": 0.20000000000000007,
            "bin_end": 0.30000000000000004,
            "count": 0
           },
           {
            "bin_start": 0.30000000000000004,
            "bin_end": 0.4,
            "count": 0
           },
           {
            "bin_start": 0.4,
            "bin_end": 0.5,
            "count": 0
           }
          ]
         }
        },
        {
         "name": "Administrative_Duration",
         "dtype": "float64",
         "stats": {
          "unique_count": 1,
          "nan_count": 0,
          "min": "0.0",
          "max": "0.0",
          "histogram": [
           {
            "bin_start": -0.5,
            "bin_end": -0.4,
            "count": 0
           },
           {
            "bin_start": -0.4,
            "bin_end": -0.3,
            "count": 0
           },
           {
            "bin_start": -0.3,
            "bin_end": -0.19999999999999996,
            "count": 0
           },
           {
            "bin_start": -0.19999999999999996,
            "bin_end": -0.09999999999999998,
            "count": 0
           },
           {
            "bin_start": -0.09999999999999998,
            "bin_end": 0,
            "count": 0
           },
           {
            "bin_start": 0,
            "bin_end": 0.10000000000000009,
            "count": 5
           },
           {
            "bin_start": 0.10000000000000009,
            "bin_end": 0.20000000000000007,
            "count": 0
           },
           {
            "bin_start": 0.20000000000000007,
            "bin_end": 0.30000000000000004,
            "count": 0
           },
           {
            "bin_start": 0.30000000000000004,
            "bin_end": 0.4,
            "count": 0
           },
           {
            "bin_start": 0.4,
            "bin_end": 0.5,
            "count": 0
           }
          ]
         }
        },
        {
         "name": "Informational",
         "dtype": "float64",
         "stats": {
          "unique_count": 1,
          "nan_count": 0,
          "min": "0.0",
          "max": "0.0",
          "histogram": [
           {
            "bin_start": -0.5,
            "bin_end": -0.4,
            "count": 0
           },
           {
            "bin_start": -0.4,
            "bin_end": -0.3,
            "count": 0
           },
           {
            "bin_start": -0.3,
            "bin_end": -0.19999999999999996,
            "count": 0
           },
           {
            "bin_start": -0.19999999999999996,
            "bin_end": -0.09999999999999998,
            "count": 0
           },
           {
            "bin_start": -0.09999999999999998,
            "bin_end": 0,
            "count": 0
           },
           {
            "bin_start": 0,
            "bin_end": 0.10000000000000009,
            "count": 5
           },
           {
            "bin_start": 0.10000000000000009,
            "bin_end": 0.20000000000000007,
            "count": 0
           },
           {
            "bin_start": 0.20000000000000007,
            "bin_end": 0.30000000000000004,
            "count": 0
           },
           {
            "bin_start": 0.30000000000000004,
            "bin_end": 0.4,
            "count": 0
           },
           {
            "bin_start": 0.4,
            "bin_end": 0.5,
            "count": 0
           }
          ]
         }
        },
        {
         "name": "Informational_Duration",
         "dtype": "float64",
         "stats": {
          "unique_count": 1,
          "nan_count": 0,
          "min": "0.0",
          "max": "0.0",
          "histogram": [
           {
            "bin_start": -0.5,
            "bin_end": -0.4,
            "count": 0
           },
           {
            "bin_start": -0.4,
            "bin_end": -0.3,
            "count": 0
           },
           {
            "bin_start": -0.3,
            "bin_end": -0.19999999999999996,
            "count": 0
           },
           {
            "bin_start": -0.19999999999999996,
            "bin_end": -0.09999999999999998,
            "count": 0
           },
           {
            "bin_start": -0.09999999999999998,
            "bin_end": 0,
            "count": 0
           },
           {
            "bin_start": 0,
            "bin_end": 0.10000000000000009,
            "count": 5
           },
           {
            "bin_start": 0.10000000000000009,
            "bin_end": 0.20000000000000007,
            "count": 0
           },
           {
            "bin_start": 0.20000000000000007,
            "bin_end": 0.30000000000000004,
            "count": 0
           },
           {
            "bin_start": 0.30000000000000004,
            "bin_end": 0.4,
            "count": 0
           },
           {
            "bin_start": 0.4,
            "bin_end": 0.5,
            "count": 0
           }
          ]
         }
        },
        {
         "name": "ProductRelated",
         "dtype": "float64",
         "stats": {
          "unique_count": 3,
          "nan_count": 0,
          "min": "0.0014184397163120568",
          "max": "0.014184397163120569",
          "histogram": [
           {
            "bin_start": 0.0014184397163120568,
            "bin_end": 0.002695035460992908,
            "count": 2
           },
           {
            "bin_start": 0.002695035460992908,
            "bin_end": 0.003971631205673759,
            "count": 2
           },
           {
            "bin_start": 0.003971631205673759,
            "bin_end": 0.005248226950354611,
            "count": 0
           },
           {
            "bin_start": 0.005248226950354611,
            "bin_end": 0.006524822695035462,
            "count": 0
           },
           {
            "bin_start": 0.006524822695035462,
            "bin_end": 0.007801418439716313,
            "count": 0
           },
           {
            "bin_start": 0.007801418439716313,
            "bin_end": 0.009078014184397165,
            "count": 0
           },
           {
            "bin_start": 0.009078014184397165,
            "bin_end": 0.010354609929078015,
            "count": 0
           },
           {
            "bin_start": 0.010354609929078015,
            "bin_end": 0.011631205673758867,
            "count": 0
           },
           {
            "bin_start": 0.011631205673758867,
            "bin_end": 0.012907801418439719,
            "count": 0
           },
           {
            "bin_start": 0.012907801418439719,
            "bin_end": 0.014184397163120569,
            "count": 1
           }
          ]
         }
        },
        {
         "name": "ProductRelated_Duration",
         "dtype": "float64",
         "stats": {
          "unique_count": 4,
          "nan_count": 0,
          "min": "0.0",
          "max": "0.00980874552668819",
          "histogram": [
           {
            "bin_start": 0,
            "bin_end": 0.000980874552668819,
            "count": 3
           },
           {
            "bin_start": 0.000980874552668819,
            "bin_end": 0.001961749105337638,
            "count": 1
           },
           {
            "bin_start": 0.001961749105337638,
            "bin_end": 0.0029426236580064567,
            "count": 0
           },
           {
            "bin_start": 0.0029426236580064567,
            "bin_end": 0.003923498210675276,
            "count": 0
           },
           {
            "bin_start": 0.003923498210675276,
            "bin_end": 0.004904372763344095,
            "count": 0
           },
           {
            "bin_start": 0.004904372763344095,
            "bin_end": 0.0058852473160129135,
            "count": 0
           },
           {
            "bin_start": 0.0058852473160129135,
            "bin_end": 0.006866121868681733,
            "count": 0
           },
           {
            "bin_start": 0.006866121868681733,
            "bin_end": 0.007846996421350552,
            "count": 0
           },
           {
            "bin_start": 0.007846996421350552,
            "bin_end": 0.00882787097401937,
            "count": 0
           },
           {
            "bin_start": 0.00882787097401937,
            "bin_end": 0.00980874552668819,
            "count": 1
           }
          ]
         }
        },
        {
         "name": "BounceRates",
         "dtype": "float64",
         "stats": {
          "unique_count": 4,
          "nan_count": 0,
          "min": "0.0",
          "max": "1.0",
          "histogram": [
           {
            "bin_start": 0,
            "bin_end": 0.1,
            "count": 1
           },
           {
            "bin_start": 0.1,
            "bin_end": 0.2,
            "count": 1
           },
           {
            "bin_start": 0.2,
            "bin_end": 0.30000000000000004,
            "count": 1
           },
           {
            "bin_start": 0.30000000000000004,
            "bin_end": 0.4,
            "count": 0
           },
           {
            "bin_start": 0.4,
            "bin_end": 0.5,
            "count": 0
           },
           {
            "bin_start": 0.5,
            "bin_end": 0.6000000000000001,
            "count": 0
           },
           {
            "bin_start": 0.6000000000000001,
            "bin_end": 0.7000000000000001,
            "count": 0
           },
           {
            "bin_start": 0.7000000000000001,
            "bin_end": 0.8,
            "count": 0
           },
           {
            "bin_start": 0.8,
            "bin_end": 0.9,
            "count": 0
           },
           {
            "bin_start": 0.9,
            "bin_end": 1,
            "count": 2
           }
          ]
         }
        },
        {
         "name": "ExitRates",
         "dtype": "float64",
         "stats": {
          "unique_count": 4,
          "nan_count": 0,
          "min": "0.25",
          "max": "1.0",
          "histogram": [
           {
            "bin_start": 0.25,
            "bin_end": 0.325,
            "count": 1
           },
           {
            "bin_start": 0.325,
            "bin_end": 0.4,
            "count": 0
           },
           {
            "bin_start": 0.4,
            "bin_end": 0.475,
            "count": 0
           },
           {
            "bin_start": 0.475,
            "bin_end": 0.55,
            "count": 1
           },
           {
            "bin_start": 0.55,
            "bin_end": 0.625,
            "count": 0
           },
           {
            "bin_start": 0.625,
            "bin_end": 0.7,
            "count": 0
           },
           {
            "bin_start": 0.7,
            "bin_end": 0.775,
            "count": 1
           },
           {
            "bin_start": 0.775,
            "bin_end": 0.85,
            "count": 0
           },
           {
            "bin_start": 0.85,
            "bin_end": 0.9249999999999999,
            "count": 0
           },
           {
            "bin_start": 0.9249999999999999,
            "bin_end": 1,
            "count": 2
           }
          ]
         }
        },
        {
         "name": "PageValues",
         "dtype": "float64",
         "stats": {
          "unique_count": 1,
          "nan_count": 0,
          "min": "0.0",
          "max": "0.0",
          "histogram": [
           {
            "bin_start": -0.5,
            "bin_end": -0.4,
            "count": 0
           },
           {
            "bin_start": -0.4,
            "bin_end": -0.3,
            "count": 0
           },
           {
            "bin_start": -0.3,
            "bin_end": -0.19999999999999996,
            "count": 0
           },
           {
            "bin_start": -0.19999999999999996,
            "bin_end": -0.09999999999999998,
            "count": 0
           },
           {
            "bin_start": -0.09999999999999998,
            "bin_end": 0,
            "count": 0
           },
           {
            "bin_start": 0,
            "bin_end": 0.10000000000000009,
            "count": 5
           },
           {
            "bin_start": 0.10000000000000009,
            "bin_end": 0.20000000000000007,
            "count": 0
           },
           {
            "bin_start": 0.20000000000000007,
            "bin_end": 0.30000000000000004,
            "count": 0
           },
           {
            "bin_start": 0.30000000000000004,
            "bin_end": 0.4,
            "count": 0
           },
           {
            "bin_start": 0.4,
            "bin_end": 0.5,
            "count": 0
           }
          ]
         }
        },
        {
         "name": "SpecialDay",
         "dtype": "float64",
         "stats": {
          "unique_count": 1,
          "nan_count": 0,
          "min": "0.0",
          "max": "0.0",
          "histogram": [
           {
            "bin_start": -0.5,
            "bin_end": -0.4,
            "count": 0
           },
           {
            "bin_start": -0.4,
            "bin_end": -0.3,
            "count": 0
           },
           {
            "bin_start": -0.3,
            "bin_end": -0.19999999999999996,
            "count": 0
           },
           {
            "bin_start": -0.19999999999999996,
            "bin_end": -0.09999999999999998,
            "count": 0
           },
           {
            "bin_start": -0.09999999999999998,
            "bin_end": 0,
            "count": 0
           },
           {
            "bin_start": 0,
            "bin_end": 0.10000000000000009,
            "count": 5
           },
           {
            "bin_start": 0.10000000000000009,
            "bin_end": 0.20000000000000007,
            "count": 0
           },
           {
            "bin_start": 0.20000000000000007,
            "bin_end": 0.30000000000000004,
            "count": 0
           },
           {
            "bin_start": 0.30000000000000004,
            "bin_end": 0.4,
            "count": 0
           },
           {
            "bin_start": 0.4,
            "bin_end": 0.5,
            "count": 0
           }
          ]
         }
        },
        {
         "name": "OperatingSystems",
         "dtype": "float64",
         "stats": {
          "unique_count": 4,
          "nan_count": 0,
          "min": "0.0",
          "max": "0.42857142857142855",
          "histogram": [
           {
            "bin_start": 0,
            "bin_end": 0.04285714285714286,
            "count": 1
           },
           {
            "bin_start": 0.04285714285714286,
            "bin_end": 0.08571428571428572,
            "count": 0
           },
           {
            "bin_start": 0.08571428571428572,
            "bin_end": 0.12857142857142856,
            "count": 0
           },
           {
            "bin_start": 0.12857142857142856,
            "bin_end": 0.17142857142857143,
            "count": 1
           },
           {
            "bin_start": 0.17142857142857143,
            "bin_end": 0.2142857142857143,
            "count": 0
           },
           {
            "bin_start": 0.2142857142857143,
            "bin_end": 0.2571428571428571,
            "count": 0
           },
           {
            "bin_start": 0.2571428571428571,
            "bin_end": 0.3,
            "count": 2
           },
           {
            "bin_start": 0.3,
            "bin_end": 0.34285714285714286,
            "count": 0
           },
           {
            "bin_start": 0.34285714285714286,
            "bin_end": 0.38571428571428573,
            "count": 0
           },
           {
            "bin_start": 0.38571428571428573,
            "bin_end": 0.42857142857142855,
            "count": 1
           }
          ]
         }
        },
        {
         "name": "Browser",
         "dtype": "float64",
         "stats": {
          "unique_count": 3,
          "nan_count": 0,
          "min": "0.0",
          "max": "0.16666666666666669",
          "histogram": [
           {
            "bin_start": 0,
            "bin_end": 0.01666666666666667,
            "count": 2
           },
           {
            "bin_start": 0.01666666666666667,
            "bin_end": 0.03333333333333334,
            "count": 0
           },
           {
            "bin_start": 0.03333333333333334,
            "bin_end": 0.05000000000000001,
            "count": 0
           },
           {
            "bin_start": 0.05000000000000001,
            "bin_end": 0.06666666666666668,
            "count": 0
           },
           {
            "bin_start": 0.06666666666666668,
            "bin_end": 0.08333333333333334,
            "count": 2
           },
           {
            "bin_start": 0.08333333333333334,
            "bin_end": 0.10000000000000002,
            "count": 0
           },
           {
            "bin_start": 0.10000000000000002,
            "bin_end": 0.1166666666666667,
            "count": 0
           },
           {
            "bin_start": 0.1166666666666667,
            "bin_end": 0.13333333333333336,
            "count": 0
           },
           {
            "bin_start": 0.13333333333333336,
            "bin_end": 0.15000000000000002,
            "count": 0
           },
           {
            "bin_start": 0.15000000000000002,
            "bin_end": 0.16666666666666669,
            "count": 1
           }
          ]
         }
        },
        {
         "name": "Region",
         "dtype": "float64",
         "stats": {
          "unique_count": 3,
          "nan_count": 0,
          "min": "0.0",
          "max": "1.0",
          "histogram": [
           {
            "bin_start": 0,
            "bin_end": 0.1,
            "count": 3
           },
           {
            "bin_start": 0.1,
            "bin_end": 0.2,
            "count": 1
           },
           {
            "bin_start": 0.2,
            "bin_end": 0.30000000000000004,
            "count": 0
           },
           {
            "bin_start": 0.30000000000000004,
            "bin_end": 0.4,
            "count": 0
           },
           {
            "bin_start": 0.4,
            "bin_end": 0.5,
            "count": 0
           },
           {
            "bin_start": 0.5,
            "bin_end": 0.6000000000000001,
            "count": 0
           },
           {
            "bin_start": 0.6000000000000001,
            "bin_end": 0.7000000000000001,
            "count": 0
           },
           {
            "bin_start": 0.7000000000000001,
            "bin_end": 0.8,
            "count": 0
           },
           {
            "bin_start": 0.8,
            "bin_end": 0.9,
            "count": 0
           },
           {
            "bin_start": 0.9,
            "bin_end": 1,
            "count": 1
           }
          ]
         }
        },
        {
         "name": "TrafficType",
         "dtype": "float64",
         "stats": {
          "unique_count": 4,
          "nan_count": 0,
          "min": "0.0",
          "max": "0.15789473684210525",
          "histogram": [
           {
            "bin_start": 0,
            "bin_end": 0.015789473684210527,
            "count": 1
           },
           {
            "bin_start": 0.015789473684210527,
            "bin_end": 0.031578947368421054,
            "count": 0
           },
           {
            "bin_start": 0.031578947368421054,
            "bin_end": 0.04736842105263158,
            "count": 0
           },
           {
            "bin_start": 0.04736842105263158,
            "bin_end": 0.06315789473684211,
            "count": 1
           },
           {
            "bin_start": 0.06315789473684211,
            "bin_end": 0.07894736842105263,
            "count": 0
           },
           {
            "bin_start": 0.07894736842105263,
            "bin_end": 0.09473684210526316,
            "count": 0
           },
           {
            "bin_start": 0.09473684210526316,
            "bin_end": 0.1105263157894737,
            "count": 1
           },
           {
            "bin_start": 0.1105263157894737,
            "bin_end": 0.12631578947368421,
            "count": 0
           },
           {
            "bin_start": 0.12631578947368421,
            "bin_end": 0.14210526315789473,
            "count": 0
           },
           {
            "bin_start": 0.14210526315789473,
            "bin_end": 0.15789473684210525,
            "count": 2
           }
          ]
         }
        },
        {
         "name": "Weekend",
         "dtype": "float64",
         "stats": {
          "unique_count": 2,
          "nan_count": 0,
          "min": "0.0",
          "max": "1.0",
          "histogram": [
           {
            "bin_start": 0,
            "bin_end": 0.1,
            "count": 4
           },
           {
            "bin_start": 0.1,
            "bin_end": 0.2,
            "count": 0
           },
           {
            "bin_start": 0.2,
            "bin_end": 0.30000000000000004,
            "count": 0
           },
           {
            "bin_start": 0.30000000000000004,
            "bin_end": 0.4,
            "count": 0
           },
           {
            "bin_start": 0.4,
            "bin_end": 0.5,
            "count": 0
           },
           {
            "bin_start": 0.5,
            "bin_end": 0.6000000000000001,
            "count": 0
           },
           {
            "bin_start": 0.6000000000000001,
            "bin_end": 0.7000000000000001,
            "count": 0
           },
           {
            "bin_start": 0.7000000000000001,
            "bin_end": 0.8,
            "count": 0
           },
           {
            "bin_start": 0.8,
            "bin_end": 0.9,
            "count": 0
           },
           {
            "bin_start": 0.9,
            "bin_end": 1,
            "count": 1
           }
          ]
         }
        },
        {
         "name": "Month",
         "dtype": "object",
         "stats": {
          "unique_count": 1,
          "nan_count": 0,
          "categories": [
           {
            "name": "Feb",
            "count": 5
           }
          ]
         }
        },
        {
         "name": "VisitorType",
         "dtype": "object",
         "stats": {
          "unique_count": 1,
          "nan_count": 0,
          "categories": [
           {
            "name": "Returning_Visitor",
            "count": 5
           }
          ]
         }
        },
        {
         "name": "_deepnote_index_column",
         "dtype": "int64"
        }
       ],
       "rows_top": [
        {
         "Administrative": 0,
         "Administrative_Duration": 0,
         "Informational": 0,
         "Informational_Duration": 0,
         "ProductRelated": 0.0014184397163120568,
         "ProductRelated_Duration": 0,
         "BounceRates": 1,
         "ExitRates": 1,
         "PageValues": 0,
         "SpecialDay": 0,
         "OperatingSystems": 0,
         "Browser": 0,
         "Region": 0,
         "TrafficType": 0,
         "Weekend": 0,
         "Month": "Feb",
         "VisitorType": "Returning_Visitor",
         "_deepnote_index_column": 0
        },
        {
         "Administrative": 0,
         "Administrative_Duration": 0,
         "Informational": 0,
         "Informational_Duration": 0,
         "ProductRelated": 0.0028368794326241137,
         "ProductRelated_Duration": 0.0010004138863873213,
         "BounceRates": 0,
         "ExitRates": 0.5,
         "PageValues": 0,
         "SpecialDay": 0,
         "OperatingSystems": 0.14285714285714285,
         "Browser": 0.08333333333333333,
         "Region": 0,
         "TrafficType": 0.05263157894736842,
         "Weekend": 0,
         "Month": "Feb",
         "VisitorType": "Returning_Visitor",
         "_deepnote_index_column": 1
        },
        {
         "Administrative": 0,
         "Administrative_Duration": 0,
         "Informational": 0,
         "Informational_Duration": 0,
         "ProductRelated": 0.0014184397163120568,
         "ProductRelated_Duration": 0,
         "BounceRates": 1,
         "ExitRates": 1,
         "PageValues": 0,
         "SpecialDay": 0,
         "OperatingSystems": 0.42857142857142855,
         "Browser": 0,
         "Region": 1,
         "TrafficType": 0.10526315789473684,
         "Weekend": 0,
         "Month": "Feb",
         "VisitorType": "Returning_Visitor",
         "_deepnote_index_column": 2
        },
        {
         "Administrative": 0,
         "Administrative_Duration": 0,
         "Informational": 0,
         "Informational_Duration": 0,
         "ProductRelated": 0.0028368794326241137,
         "ProductRelated_Duration": 0.00004168391193801554,
         "BounceRates": 0.25,
         "ExitRates": 0.7000000000000001,
         "PageValues": 0,
         "SpecialDay": 0,
         "OperatingSystems": 0.2857142857142857,
         "Browser": 0.08333333333333333,
         "Region": 0.125,
         "TrafficType": 0.15789473684210525,
         "Weekend": 0,
         "Month": "Feb",
         "VisitorType": "Returning_Visitor",
         "_deepnote_index_column": 3
        },
        {
         "Administrative": 0,
         "Administrative_Duration": 0,
         "Informational": 0,
         "Informational_Duration": 0,
         "ProductRelated": 0.014184397163120569,
         "ProductRelated_Duration": 0.00980874552668819,
         "BounceRates": 0.1,
         "ExitRates": 0.25,
         "PageValues": 0,
         "SpecialDay": 0,
         "OperatingSystems": 0.2857142857142857,
         "Browser": 0.16666666666666669,
         "Region": 0,
         "TrafficType": 0.15789473684210525,
         "Weekend": 1,
         "Month": "Feb",
         "VisitorType": "Returning_Visitor",
         "_deepnote_index_column": 4
        }
       ],
       "rows_bottom": null
      },
      "text/plain": "   Administrative  Administrative_Duration  Informational  \\\n0             0.0                      0.0            0.0   \n1             0.0                      0.0            0.0   \n2             0.0                      0.0            0.0   \n3             0.0                      0.0            0.0   \n4             0.0                      0.0            0.0   \n\n   Informational_Duration  ProductRelated  ProductRelated_Duration  \\\n0                     0.0        0.001418                 0.000000   \n1                     0.0        0.002837                 0.001000   \n2                     0.0        0.001418                 0.000000   \n3                     0.0        0.002837                 0.000042   \n4                     0.0        0.014184                 0.009809   \n\n   BounceRates  ExitRates  PageValues  SpecialDay  OperatingSystems   Browser  \\\n0         1.00       1.00         0.0         0.0          0.000000  0.000000   \n1         0.00       0.50         0.0         0.0          0.142857  0.083333   \n2         1.00       1.00         0.0         0.0          0.428571  0.000000   \n3         0.25       0.70         0.0         0.0          0.285714  0.083333   \n4         0.10       0.25         0.0         0.0          0.285714  0.166667   \n\n   Region  TrafficType  Weekend Month        VisitorType  \n0   0.000     0.000000      0.0   Feb  Returning_Visitor  \n1   0.000     0.052632      0.0   Feb  Returning_Visitor  \n2   1.000     0.105263      0.0   Feb  Returning_Visitor  \n3   0.125     0.157895      0.0   Feb  Returning_Visitor  \n4   0.000     0.157895      1.0   Feb  Returning_Visitor  ",
      "text/html": "<div>\n<style scoped>\n    .dataframe tbody tr th:only-of-type {\n        vertical-align: middle;\n    }\n\n    .dataframe tbody tr th {\n        vertical-align: top;\n    }\n\n    .dataframe thead th {\n        text-align: right;\n    }\n</style>\n<table border=\"1\" class=\"dataframe\">\n  <thead>\n    <tr style=\"text-align: right;\">\n      <th></th>\n      <th>Administrative</th>\n      <th>Administrative_Duration</th>\n      <th>Informational</th>\n      <th>Informational_Duration</th>\n      <th>ProductRelated</th>\n      <th>ProductRelated_Duration</th>\n      <th>BounceRates</th>\n      <th>ExitRates</th>\n      <th>PageValues</th>\n      <th>SpecialDay</th>\n      <th>OperatingSystems</th>\n      <th>Browser</th>\n      <th>Region</th>\n      <th>TrafficType</th>\n      <th>Weekend</th>\n      <th>Month</th>\n      <th>VisitorType</th>\n    </tr>\n  </thead>\n  <tbody>\n    <tr>\n      <th>0</th>\n      <td>0.0</td>\n      <td>0.0</td>\n      <td>0.0</td>\n      <td>0.0</td>\n      <td>0.001418</td>\n      <td>0.000000</td>\n      <td>1.00</td>\n      <td>1.00</td>\n      <td>0.0</td>\n      <td>0.0</td>\n      <td>0.000000</td>\n      <td>0.000000</td>\n      <td>0.000</td>\n      <td>0.000000</td>\n      <td>0.0</td>\n      <td>Feb</td>\n      <td>Returning_Visitor</td>\n    </tr>\n    <tr>\n      <th>1</th>\n      <td>0.0</td>\n      <td>0.0</td>\n      <td>0.0</td>\n      <td>0.0</td>\n      <td>0.002837</td>\n      <td>0.001000</td>\n      <td>0.00</td>\n      <td>0.50</td>\n      <td>0.0</td>\n      <td>0.0</td>\n      <td>0.142857</td>\n      <td>0.083333</td>\n      <td>0.000</td>\n      <td>0.052632</td>\n      <td>0.0</td>\n      <td>Feb</td>\n      <td>Returning_Visitor</td>\n    </tr>\n    <tr>\n      <th>2</th>\n      <td>0.0</td>\n      <td>0.0</td>\n      <td>0.0</td>\n      <td>0.0</td>\n      <td>0.001418</td>\n      <td>0.000000</td>\n      <td>1.00</td>\n      <td>1.00</td>\n      <td>0.0</td>\n      <td>0.0</td>\n      <td>0.428571</td>\n      <td>0.000000</td>\n      <td>1.000</td>\n      <td>0.105263</td>\n      <td>0.0</td>\n      <td>Feb</td>\n      <td>Returning_Visitor</td>\n    </tr>\n    <tr>\n      <th>3</th>\n      <td>0.0</td>\n      <td>0.0</td>\n      <td>0.0</td>\n      <td>0.0</td>\n      <td>0.002837</td>\n      <td>0.000042</td>\n      <td>0.25</td>\n      <td>0.70</td>\n      <td>0.0</td>\n      <td>0.0</td>\n      <td>0.285714</td>\n      <td>0.083333</td>\n      <td>0.125</td>\n      <td>0.157895</td>\n      <td>0.0</td>\n      <td>Feb</td>\n      <td>Returning_Visitor</td>\n    </tr>\n    <tr>\n      <th>4</th>\n      <td>0.0</td>\n      <td>0.0</td>\n      <td>0.0</td>\n      <td>0.0</td>\n      <td>0.014184</td>\n      <td>0.009809</td>\n      <td>0.10</td>\n      <td>0.25</td>\n      <td>0.0</td>\n      <td>0.0</td>\n      <td>0.285714</td>\n      <td>0.166667</td>\n      <td>0.000</td>\n      <td>0.157895</td>\n      <td>1.0</td>\n      <td>Feb</td>\n      <td>Returning_Visitor</td>\n    </tr>\n  </tbody>\n</table>\n</div>"
     },
     "metadata": {}
    }
   ],
   "execution_count": 38
  },
  {
   "cell_type": "code",
   "source": "X_scaled_enc=X_scaled #made another variable just to preserve the above one\nfor i in ('Month','VisitorType'):\n    dummies = pd.get_dummies(X_scaled[i]) #1-hot encoding\n    dummies.columns=str(i)+'_'+dummies.columns \n    X_scaled_enc = pd.concat([X_scaled_enc,dummies],axis=1)\n    X_scaled_enc.drop(i,inplace=True,axis=1)\n    \n",
   "metadata": {
    "tags": [],
    "cell_id": "00017-2aa2c9fc-9bef-4731-8414-89abaf318217",
    "deepnote_to_be_reexecuted": false,
    "source_hash": "c17d71c3",
    "execution_start": 1632782457081,
    "execution_millis": 16,
    "deepnote_cell_type": "code"
   },
   "outputs": [],
   "execution_count": 56
  },
  {
   "cell_type": "code",
   "source": "X_scaled_enc.head()\n",
   "metadata": {
    "tags": [],
    "cell_id": "00018-88f307c0-1a3b-45e7-811d-cdb48a338eee",
    "deepnote_to_be_reexecuted": false,
    "source_hash": "ac63be9",
    "execution_start": 1632782461609,
    "execution_millis": 118,
    "deepnote_cell_type": "code"
   },
   "outputs": [
    {
     "output_type": "execute_result",
     "execution_count": 57,
     "data": {
      "application/vnd.deepnote.dataframe.v2+json": {
       "row_count": 5,
       "column_count": 28,
       "columns": [
        {
         "name": "Administrative",
         "dtype": "float64",
         "stats": {
          "unique_count": 1,
          "nan_count": 0,
          "min": "0.0",
          "max": "0.0",
          "histogram": [
           {
            "bin_start": -0.5,
            "bin_end": -0.4,
            "count": 0
           },
           {
            "bin_start": -0.4,
            "bin_end": -0.3,
            "count": 0
           },
           {
            "bin_start": -0.3,
            "bin_end": -0.19999999999999996,
            "count": 0
           },
           {
            "bin_start": -0.19999999999999996,
            "bin_end": -0.09999999999999998,
            "count": 0
           },
           {
            "bin_start": -0.09999999999999998,
            "bin_end": 0,
            "count": 0
           },
           {
            "bin_start": 0,
            "bin_end": 0.10000000000000009,
            "count": 5
           },
           {
            "bin_start": 0.10000000000000009,
            "bin_end": 0.20000000000000007,
            "count": 0
           },
           {
            "bin_start": 0.20000000000000007,
            "bin_end": 0.30000000000000004,
            "count": 0
           },
           {
            "bin_start": 0.30000000000000004,
            "bin_end": 0.4,
            "count": 0
           },
           {
            "bin_start": 0.4,
            "bin_end": 0.5,
            "count": 0
           }
          ]
         }
        },
        {
         "name": "Administrative_Duration",
         "dtype": "float64",
         "stats": {
          "unique_count": 1,
          "nan_count": 0,
          "min": "0.0",
          "max": "0.0",
          "histogram": [
           {
            "bin_start": -0.5,
            "bin_end": -0.4,
            "count": 0
           },
           {
            "bin_start": -0.4,
            "bin_end": -0.3,
            "count": 0
           },
           {
            "bin_start": -0.3,
            "bin_end": -0.19999999999999996,
            "count": 0
           },
           {
            "bin_start": -0.19999999999999996,
            "bin_end": -0.09999999999999998,
            "count": 0
           },
           {
            "bin_start": -0.09999999999999998,
            "bin_end": 0,
            "count": 0
           },
           {
            "bin_start": 0,
            "bin_end": 0.10000000000000009,
            "count": 5
           },
           {
            "bin_start": 0.10000000000000009,
            "bin_end": 0.20000000000000007,
            "count": 0
           },
           {
            "bin_start": 0.20000000000000007,
            "bin_end": 0.30000000000000004,
            "count": 0
           },
           {
            "bin_start": 0.30000000000000004,
            "bin_end": 0.4,
            "count": 0
           },
           {
            "bin_start": 0.4,
            "bin_end": 0.5,
            "count": 0
           }
          ]
         }
        },
        {
         "name": "Informational",
         "dtype": "float64",
         "stats": {
          "unique_count": 1,
          "nan_count": 0,
          "min": "0.0",
          "max": "0.0",
          "histogram": [
           {
            "bin_start": -0.5,
            "bin_end": -0.4,
            "count": 0
           },
           {
            "bin_start": -0.4,
            "bin_end": -0.3,
            "count": 0
           },
           {
            "bin_start": -0.3,
            "bin_end": -0.19999999999999996,
            "count": 0
           },
           {
            "bin_start": -0.19999999999999996,
            "bin_end": -0.09999999999999998,
            "count": 0
           },
           {
            "bin_start": -0.09999999999999998,
            "bin_end": 0,
            "count": 0
           },
           {
            "bin_start": 0,
            "bin_end": 0.10000000000000009,
            "count": 5
           },
           {
            "bin_start": 0.10000000000000009,
            "bin_end": 0.20000000000000007,
            "count": 0
           },
           {
            "bin_start": 0.20000000000000007,
            "bin_end": 0.30000000000000004,
            "count": 0
           },
           {
            "bin_start": 0.30000000000000004,
            "bin_end": 0.4,
            "count": 0
           },
           {
            "bin_start": 0.4,
            "bin_end": 0.5,
            "count": 0
           }
          ]
         }
        },
        {
         "name": "Informational_Duration",
         "dtype": "float64",
         "stats": {
          "unique_count": 1,
          "nan_count": 0,
          "min": "0.0",
          "max": "0.0",
          "histogram": [
           {
            "bin_start": -0.5,
            "bin_end": -0.4,
            "count": 0
           },
           {
            "bin_start": -0.4,
            "bin_end": -0.3,
            "count": 0
           },
           {
            "bin_start": -0.3,
            "bin_end": -0.19999999999999996,
            "count": 0
           },
           {
            "bin_start": -0.19999999999999996,
            "bin_end": -0.09999999999999998,
            "count": 0
           },
           {
            "bin_start": -0.09999999999999998,
            "bin_end": 0,
            "count": 0
           },
           {
            "bin_start": 0,
            "bin_end": 0.10000000000000009,
            "count": 5
           },
           {
            "bin_start": 0.10000000000000009,
            "bin_end": 0.20000000000000007,
            "count": 0
           },
           {
            "bin_start": 0.20000000000000007,
            "bin_end": 0.30000000000000004,
            "count": 0
           },
           {
            "bin_start": 0.30000000000000004,
            "bin_end": 0.4,
            "count": 0
           },
           {
            "bin_start": 0.4,
            "bin_end": 0.5,
            "count": 0
           }
          ]
         }
        },
        {
         "name": "ProductRelated",
         "dtype": "float64",
         "stats": {
          "unique_count": 3,
          "nan_count": 0,
          "min": "0.0014184397163120568",
          "max": "0.014184397163120569",
          "histogram": [
           {
            "bin_start": 0.0014184397163120568,
            "bin_end": 0.002695035460992908,
            "count": 2
           },
           {
            "bin_start": 0.002695035460992908,
            "bin_end": 0.003971631205673759,
            "count": 2
           },
           {
            "bin_start": 0.003971631205673759,
            "bin_end": 0.005248226950354611,
            "count": 0
           },
           {
            "bin_start": 0.005248226950354611,
            "bin_end": 0.006524822695035462,
            "count": 0
           },
           {
            "bin_start": 0.006524822695035462,
            "bin_end": 0.007801418439716313,
            "count": 0
           },
           {
            "bin_start": 0.007801418439716313,
            "bin_end": 0.009078014184397165,
            "count": 0
           },
           {
            "bin_start": 0.009078014184397165,
            "bin_end": 0.010354609929078015,
            "count": 0
           },
           {
            "bin_start": 0.010354609929078015,
            "bin_end": 0.011631205673758867,
            "count": 0
           },
           {
            "bin_start": 0.011631205673758867,
            "bin_end": 0.012907801418439719,
            "count": 0
           },
           {
            "bin_start": 0.012907801418439719,
            "bin_end": 0.014184397163120569,
            "count": 1
           }
          ]
         }
        },
        {
         "name": "ProductRelated_Duration",
         "dtype": "float64",
         "stats": {
          "unique_count": 4,
          "nan_count": 0,
          "min": "0.0",
          "max": "0.00980874552668819",
          "histogram": [
           {
            "bin_start": 0,
            "bin_end": 0.000980874552668819,
            "count": 3
           },
           {
            "bin_start": 0.000980874552668819,
            "bin_end": 0.001961749105337638,
            "count": 1
           },
           {
            "bin_start": 0.001961749105337638,
            "bin_end": 0.0029426236580064567,
            "count": 0
           },
           {
            "bin_start": 0.0029426236580064567,
            "bin_end": 0.003923498210675276,
            "count": 0
           },
           {
            "bin_start": 0.003923498210675276,
            "bin_end": 0.004904372763344095,
            "count": 0
           },
           {
            "bin_start": 0.004904372763344095,
            "bin_end": 0.0058852473160129135,
            "count": 0
           },
           {
            "bin_start": 0.0058852473160129135,
            "bin_end": 0.006866121868681733,
            "count": 0
           },
           {
            "bin_start": 0.006866121868681733,
            "bin_end": 0.007846996421350552,
            "count": 0
           },
           {
            "bin_start": 0.007846996421350552,
            "bin_end": 0.00882787097401937,
            "count": 0
           },
           {
            "bin_start": 0.00882787097401937,
            "bin_end": 0.00980874552668819,
            "count": 1
           }
          ]
         }
        },
        {
         "name": "BounceRates",
         "dtype": "float64",
         "stats": {
          "unique_count": 4,
          "nan_count": 0,
          "min": "0.0",
          "max": "1.0",
          "histogram": [
           {
            "bin_start": 0,
            "bin_end": 0.1,
            "count": 1
           },
           {
            "bin_start": 0.1,
            "bin_end": 0.2,
            "count": 1
           },
           {
            "bin_start": 0.2,
            "bin_end": 0.30000000000000004,
            "count": 1
           },
           {
            "bin_start": 0.30000000000000004,
            "bin_end": 0.4,
            "count": 0
           },
           {
            "bin_start": 0.4,
            "bin_end": 0.5,
            "count": 0
           },
           {
            "bin_start": 0.5,
            "bin_end": 0.6000000000000001,
            "count": 0
           },
           {
            "bin_start": 0.6000000000000001,
            "bin_end": 0.7000000000000001,
            "count": 0
           },
           {
            "bin_start": 0.7000000000000001,
            "bin_end": 0.8,
            "count": 0
           },
           {
            "bin_start": 0.8,
            "bin_end": 0.9,
            "count": 0
           },
           {
            "bin_start": 0.9,
            "bin_end": 1,
            "count": 2
           }
          ]
         }
        },
        {
         "name": "ExitRates",
         "dtype": "float64",
         "stats": {
          "unique_count": 4,
          "nan_count": 0,
          "min": "0.25",
          "max": "1.0",
          "histogram": [
           {
            "bin_start": 0.25,
            "bin_end": 0.325,
            "count": 1
           },
           {
            "bin_start": 0.325,
            "bin_end": 0.4,
            "count": 0
           },
           {
            "bin_start": 0.4,
            "bin_end": 0.475,
            "count": 0
           },
           {
            "bin_start": 0.475,
            "bin_end": 0.55,
            "count": 1
           },
           {
            "bin_start": 0.55,
            "bin_end": 0.625,
            "count": 0
           },
           {
            "bin_start": 0.625,
            "bin_end": 0.7,
            "count": 0
           },
           {
            "bin_start": 0.7,
            "bin_end": 0.775,
            "count": 1
           },
           {
            "bin_start": 0.775,
            "bin_end": 0.85,
            "count": 0
           },
           {
            "bin_start": 0.85,
            "bin_end": 0.9249999999999999,
            "count": 0
           },
           {
            "bin_start": 0.9249999999999999,
            "bin_end": 1,
            "count": 2
           }
          ]
         }
        },
        {
         "name": "PageValues",
         "dtype": "float64",
         "stats": {
          "unique_count": 1,
          "nan_count": 0,
          "min": "0.0",
          "max": "0.0",
          "histogram": [
           {
            "bin_start": -0.5,
            "bin_end": -0.4,
            "count": 0
           },
           {
            "bin_start": -0.4,
            "bin_end": -0.3,
            "count": 0
           },
           {
            "bin_start": -0.3,
            "bin_end": -0.19999999999999996,
            "count": 0
           },
           {
            "bin_start": -0.19999999999999996,
            "bin_end": -0.09999999999999998,
            "count": 0
           },
           {
            "bin_start": -0.09999999999999998,
            "bin_end": 0,
            "count": 0
           },
           {
            "bin_start": 0,
            "bin_end": 0.10000000000000009,
            "count": 5
           },
           {
            "bin_start": 0.10000000000000009,
            "bin_end": 0.20000000000000007,
            "count": 0
           },
           {
            "bin_start": 0.20000000000000007,
            "bin_end": 0.30000000000000004,
            "count": 0
           },
           {
            "bin_start": 0.30000000000000004,
            "bin_end": 0.4,
            "count": 0
           },
           {
            "bin_start": 0.4,
            "bin_end": 0.5,
            "count": 0
           }
          ]
         }
        },
        {
         "name": "SpecialDay",
         "dtype": "float64",
         "stats": {
          "unique_count": 1,
          "nan_count": 0,
          "min": "0.0",
          "max": "0.0",
          "histogram": [
           {
            "bin_start": -0.5,
            "bin_end": -0.4,
            "count": 0
           },
           {
            "bin_start": -0.4,
            "bin_end": -0.3,
            "count": 0
           },
           {
            "bin_start": -0.3,
            "bin_end": -0.19999999999999996,
            "count": 0
           },
           {
            "bin_start": -0.19999999999999996,
            "bin_end": -0.09999999999999998,
            "count": 0
           },
           {
            "bin_start": -0.09999999999999998,
            "bin_end": 0,
            "count": 0
           },
           {
            "bin_start": 0,
            "bin_end": 0.10000000000000009,
            "count": 5
           },
           {
            "bin_start": 0.10000000000000009,
            "bin_end": 0.20000000000000007,
            "count": 0
           },
           {
            "bin_start": 0.20000000000000007,
            "bin_end": 0.30000000000000004,
            "count": 0
           },
           {
            "bin_start": 0.30000000000000004,
            "bin_end": 0.4,
            "count": 0
           },
           {
            "bin_start": 0.4,
            "bin_end": 0.5,
            "count": 0
           }
          ]
         }
        },
        {
         "name": "OperatingSystems",
         "dtype": "float64",
         "stats": {
          "unique_count": 4,
          "nan_count": 0,
          "min": "0.0",
          "max": "0.42857142857142855",
          "histogram": [
           {
            "bin_start": 0,
            "bin_end": 0.04285714285714286,
            "count": 1
           },
           {
            "bin_start": 0.04285714285714286,
            "bin_end": 0.08571428571428572,
            "count": 0
           },
           {
            "bin_start": 0.08571428571428572,
            "bin_end": 0.12857142857142856,
            "count": 0
           },
           {
            "bin_start": 0.12857142857142856,
            "bin_end": 0.17142857142857143,
            "count": 1
           },
           {
            "bin_start": 0.17142857142857143,
            "bin_end": 0.2142857142857143,
            "count": 0
           },
           {
            "bin_start": 0.2142857142857143,
            "bin_end": 0.2571428571428571,
            "count": 0
           },
           {
            "bin_start": 0.2571428571428571,
            "bin_end": 0.3,
            "count": 2
           },
           {
            "bin_start": 0.3,
            "bin_end": 0.34285714285714286,
            "count": 0
           },
           {
            "bin_start": 0.34285714285714286,
            "bin_end": 0.38571428571428573,
            "count": 0
           },
           {
            "bin_start": 0.38571428571428573,
            "bin_end": 0.42857142857142855,
            "count": 1
           }
          ]
         }
        },
        {
         "name": "Browser",
         "dtype": "float64",
         "stats": {
          "unique_count": 3,
          "nan_count": 0,
          "min": "0.0",
          "max": "0.16666666666666669",
          "histogram": [
           {
            "bin_start": 0,
            "bin_end": 0.01666666666666667,
            "count": 2
           },
           {
            "bin_start": 0.01666666666666667,
            "bin_end": 0.03333333333333334,
            "count": 0
           },
           {
            "bin_start": 0.03333333333333334,
            "bin_end": 0.05000000000000001,
            "count": 0
           },
           {
            "bin_start": 0.05000000000000001,
            "bin_end": 0.06666666666666668,
            "count": 0
           },
           {
            "bin_start": 0.06666666666666668,
            "bin_end": 0.08333333333333334,
            "count": 2
           },
           {
            "bin_start": 0.08333333333333334,
            "bin_end": 0.10000000000000002,
            "count": 0
           },
           {
            "bin_start": 0.10000000000000002,
            "bin_end": 0.1166666666666667,
            "count": 0
           },
           {
            "bin_start": 0.1166666666666667,
            "bin_end": 0.13333333333333336,
            "count": 0
           },
           {
            "bin_start": 0.13333333333333336,
            "bin_end": 0.15000000000000002,
            "count": 0
           },
           {
            "bin_start": 0.15000000000000002,
            "bin_end": 0.16666666666666669,
            "count": 1
           }
          ]
         }
        },
        {
         "name": "Region",
         "dtype": "float64",
         "stats": {
          "unique_count": 3,
          "nan_count": 0,
          "min": "0.0",
          "max": "1.0",
          "histogram": [
           {
            "bin_start": 0,
            "bin_end": 0.1,
            "count": 3
           },
           {
            "bin_start": 0.1,
            "bin_end": 0.2,
            "count": 1
           },
           {
            "bin_start": 0.2,
            "bin_end": 0.30000000000000004,
            "count": 0
           },
           {
            "bin_start": 0.30000000000000004,
            "bin_end": 0.4,
            "count": 0
           },
           {
            "bin_start": 0.4,
            "bin_end": 0.5,
            "count": 0
           },
           {
            "bin_start": 0.5,
            "bin_end": 0.6000000000000001,
            "count": 0
           },
           {
            "bin_start": 0.6000000000000001,
            "bin_end": 0.7000000000000001,
            "count": 0
           },
           {
            "bin_start": 0.7000000000000001,
            "bin_end": 0.8,
            "count": 0
           },
           {
            "bin_start": 0.8,
            "bin_end": 0.9,
            "count": 0
           },
           {
            "bin_start": 0.9,
            "bin_end": 1,
            "count": 1
           }
          ]
         }
        },
        {
         "name": "TrafficType",
         "dtype": "float64",
         "stats": {
          "unique_count": 4,
          "nan_count": 0,
          "min": "0.0",
          "max": "0.15789473684210525",
          "histogram": [
           {
            "bin_start": 0,
            "bin_end": 0.015789473684210527,
            "count": 1
           },
           {
            "bin_start": 0.015789473684210527,
            "bin_end": 0.031578947368421054,
            "count": 0
           },
           {
            "bin_start": 0.031578947368421054,
            "bin_end": 0.04736842105263158,
            "count": 0
           },
           {
            "bin_start": 0.04736842105263158,
            "bin_end": 0.06315789473684211,
            "count": 1
           },
           {
            "bin_start": 0.06315789473684211,
            "bin_end": 0.07894736842105263,
            "count": 0
           },
           {
            "bin_start": 0.07894736842105263,
            "bin_end": 0.09473684210526316,
            "count": 0
           },
           {
            "bin_start": 0.09473684210526316,
            "bin_end": 0.1105263157894737,
            "count": 1
           },
           {
            "bin_start": 0.1105263157894737,
            "bin_end": 0.12631578947368421,
            "count": 0
           },
           {
            "bin_start": 0.12631578947368421,
            "bin_end": 0.14210526315789473,
            "count": 0
           },
           {
            "bin_start": 0.14210526315789473,
            "bin_end": 0.15789473684210525,
            "count": 2
           }
          ]
         }
        },
        {
         "name": "Weekend",
         "dtype": "float64",
         "stats": {
          "unique_count": 2,
          "nan_count": 0,
          "min": "0.0",
          "max": "1.0",
          "histogram": [
           {
            "bin_start": 0,
            "bin_end": 0.1,
            "count": 4
           },
           {
            "bin_start": 0.1,
            "bin_end": 0.2,
            "count": 0
           },
           {
            "bin_start": 0.2,
            "bin_end": 0.30000000000000004,
            "count": 0
           },
           {
            "bin_start": 0.30000000000000004,
            "bin_end": 0.4,
            "count": 0
           },
           {
            "bin_start": 0.4,
            "bin_end": 0.5,
            "count": 0
           },
           {
            "bin_start": 0.5,
            "bin_end": 0.6000000000000001,
            "count": 0
           },
           {
            "bin_start": 0.6000000000000001,
            "bin_end": 0.7000000000000001,
            "count": 0
           },
           {
            "bin_start": 0.7000000000000001,
            "bin_end": 0.8,
            "count": 0
           },
           {
            "bin_start": 0.8,
            "bin_end": 0.9,
            "count": 0
           },
           {
            "bin_start": 0.9,
            "bin_end": 1,
            "count": 1
           }
          ]
         }
        },
        {
         "name": "Month_Aug",
         "dtype": "uint8",
         "stats": {
          "unique_count": 1,
          "nan_count": 0,
          "min": "0",
          "max": "0",
          "histogram": [
           {
            "bin_start": -0.5,
            "bin_end": -0.4,
            "count": 0
           },
           {
            "bin_start": -0.4,
            "bin_end": -0.3,
            "count": 0
           },
           {
            "bin_start": -0.3,
            "bin_end": -0.19999999999999996,
            "count": 0
           },
           {
            "bin_start": -0.19999999999999996,
            "bin_end": -0.09999999999999998,
            "count": 0
           },
           {
            "bin_start": -0.09999999999999998,
            "bin_end": 0,
            "count": 0
           },
           {
            "bin_start": 0,
            "bin_end": 0.10000000000000009,
            "count": 5
           },
           {
            "bin_start": 0.10000000000000009,
            "bin_end": 0.20000000000000007,
            "count": 0
           },
           {
            "bin_start": 0.20000000000000007,
            "bin_end": 0.30000000000000004,
            "count": 0
           },
           {
            "bin_start": 0.30000000000000004,
            "bin_end": 0.4,
            "count": 0
           },
           {
            "bin_start": 0.4,
            "bin_end": 0.5,
            "count": 0
           }
          ]
         }
        },
        {
         "name": "Month_Dec",
         "dtype": "uint8",
         "stats": {
          "unique_count": 1,
          "nan_count": 0,
          "min": "0",
          "max": "0",
          "histogram": [
           {
            "bin_start": -0.5,
            "bin_end": -0.4,
            "count": 0
           },
           {
            "bin_start": -0.4,
            "bin_end": -0.3,
            "count": 0
           },
           {
            "bin_start": -0.3,
            "bin_end": -0.19999999999999996,
            "count": 0
           },
           {
            "bin_start": -0.19999999999999996,
            "bin_end": -0.09999999999999998,
            "count": 0
           },
           {
            "bin_start": -0.09999999999999998,
            "bin_end": 0,
            "count": 0
           },
           {
            "bin_start": 0,
            "bin_end": 0.10000000000000009,
            "count": 5
           },
           {
            "bin_start": 0.10000000000000009,
            "bin_end": 0.20000000000000007,
            "count": 0
           },
           {
            "bin_start": 0.20000000000000007,
            "bin_end": 0.30000000000000004,
            "count": 0
           },
           {
            "bin_start": 0.30000000000000004,
            "bin_end": 0.4,
            "count": 0
           },
           {
            "bin_start": 0.4,
            "bin_end": 0.5,
            "count": 0
           }
          ]
         }
        },
        {
         "name": "Month_Feb",
         "dtype": "uint8",
         "stats": {
          "unique_count": 1,
          "nan_count": 0,
          "min": "1",
          "max": "1",
          "histogram": [
           {
            "bin_start": 0.5,
            "bin_end": 0.6,
            "count": 0
           },
           {
            "bin_start": 0.6,
            "bin_end": 0.7,
            "count": 0
           },
           {
            "bin_start": 0.7,
            "bin_end": 0.8,
            "count": 0
           },
           {
            "bin_start": 0.8,
            "bin_end": 0.9,
            "count": 0
           },
           {
            "bin_start": 0.9,
            "bin_end": 1,
            "count": 0
           },
           {
            "bin_start": 1,
            "bin_end": 1.1,
            "count": 5
           },
           {
            "bin_start": 1.1,
            "bin_end": 1.2000000000000002,
            "count": 0
           },
           {
            "bin_start": 1.2000000000000002,
            "bin_end": 1.3,
            "count": 0
           },
           {
            "bin_start": 1.3,
            "bin_end": 1.4,
            "count": 0
           },
           {
            "bin_start": 1.4,
            "bin_end": 1.5,
            "count": 0
           }
          ]
         }
        },
        {
         "name": "Month_Jul",
         "dtype": "uint8",
         "stats": {
          "unique_count": 1,
          "nan_count": 0,
          "min": "0",
          "max": "0",
          "histogram": [
           {
            "bin_start": -0.5,
            "bin_end": -0.4,
            "count": 0
           },
           {
            "bin_start": -0.4,
            "bin_end": -0.3,
            "count": 0
           },
           {
            "bin_start": -0.3,
            "bin_end": -0.19999999999999996,
            "count": 0
           },
           {
            "bin_start": -0.19999999999999996,
            "bin_end": -0.09999999999999998,
            "count": 0
           },
           {
            "bin_start": -0.09999999999999998,
            "bin_end": 0,
            "count": 0
           },
           {
            "bin_start": 0,
            "bin_end": 0.10000000000000009,
            "count": 5
           },
           {
            "bin_start": 0.10000000000000009,
            "bin_end": 0.20000000000000007,
            "count": 0
           },
           {
            "bin_start": 0.20000000000000007,
            "bin_end": 0.30000000000000004,
            "count": 0
           },
           {
            "bin_start": 0.30000000000000004,
            "bin_end": 0.4,
            "count": 0
           },
           {
            "bin_start": 0.4,
            "bin_end": 0.5,
            "count": 0
           }
          ]
         }
        },
        {
         "name": "Month_June",
         "dtype": "uint8",
         "stats": {
          "unique_count": 1,
          "nan_count": 0,
          "min": "0",
          "max": "0",
          "histogram": [
           {
            "bin_start": -0.5,
            "bin_end": -0.4,
            "count": 0
           },
           {
            "bin_start": -0.4,
            "bin_end": -0.3,
            "count": 0
           },
           {
            "bin_start": -0.3,
            "bin_end": -0.19999999999999996,
            "count": 0
           },
           {
            "bin_start": -0.19999999999999996,
            "bin_end": -0.09999999999999998,
            "count": 0
           },
           {
            "bin_start": -0.09999999999999998,
            "bin_end": 0,
            "count": 0
           },
           {
            "bin_start": 0,
            "bin_end": 0.10000000000000009,
            "count": 5
           },
           {
            "bin_start": 0.10000000000000009,
            "bin_end": 0.20000000000000007,
            "count": 0
           },
           {
            "bin_start": 0.20000000000000007,
            "bin_end": 0.30000000000000004,
            "count": 0
           },
           {
            "bin_start": 0.30000000000000004,
            "bin_end": 0.4,
            "count": 0
           },
           {
            "bin_start": 0.4,
            "bin_end": 0.5,
            "count": 0
           }
          ]
         }
        },
        {
         "name": "Month_Mar",
         "dtype": "uint8",
         "stats": {
          "unique_count": 1,
          "nan_count": 0,
          "min": "0",
          "max": "0",
          "histogram": [
           {
            "bin_start": -0.5,
            "bin_end": -0.4,
            "count": 0
           },
           {
            "bin_start": -0.4,
            "bin_end": -0.3,
            "count": 0
           },
           {
            "bin_start": -0.3,
            "bin_end": -0.19999999999999996,
            "count": 0
           },
           {
            "bin_start": -0.19999999999999996,
            "bin_end": -0.09999999999999998,
            "count": 0
           },
           {
            "bin_start": -0.09999999999999998,
            "bin_end": 0,
            "count": 0
           },
           {
            "bin_start": 0,
            "bin_end": 0.10000000000000009,
            "count": 5
           },
           {
            "bin_start": 0.10000000000000009,
            "bin_end": 0.20000000000000007,
            "count": 0
           },
           {
            "bin_start": 0.20000000000000007,
            "bin_end": 0.30000000000000004,
            "count": 0
           },
           {
            "bin_start": 0.30000000000000004,
            "bin_end": 0.4,
            "count": 0
           },
           {
            "bin_start": 0.4,
            "bin_end": 0.5,
            "count": 0
           }
          ]
         }
        },
        {
         "name": "Month_May",
         "dtype": "uint8",
         "stats": {
          "unique_count": 1,
          "nan_count": 0,
          "min": "0",
          "max": "0",
          "histogram": [
           {
            "bin_start": -0.5,
            "bin_end": -0.4,
            "count": 0
           },
           {
            "bin_start": -0.4,
            "bin_end": -0.3,
            "count": 0
           },
           {
            "bin_start": -0.3,
            "bin_end": -0.19999999999999996,
            "count": 0
           },
           {
            "bin_start": -0.19999999999999996,
            "bin_end": -0.09999999999999998,
            "count": 0
           },
           {
            "bin_start": -0.09999999999999998,
            "bin_end": 0,
            "count": 0
           },
           {
            "bin_start": 0,
            "bin_end": 0.10000000000000009,
            "count": 5
           },
           {
            "bin_start": 0.10000000000000009,
            "bin_end": 0.20000000000000007,
            "count": 0
           },
           {
            "bin_start": 0.20000000000000007,
            "bin_end": 0.30000000000000004,
            "count": 0
           },
           {
            "bin_start": 0.30000000000000004,
            "bin_end": 0.4,
            "count": 0
           },
           {
            "bin_start": 0.4,
            "bin_end": 0.5,
            "count": 0
           }
          ]
         }
        },
        {
         "name": "Month_Nov",
         "dtype": "uint8",
         "stats": {
          "unique_count": 1,
          "nan_count": 0,
          "min": "0",
          "max": "0",
          "histogram": [
           {
            "bin_start": -0.5,
            "bin_end": -0.4,
            "count": 0
           },
           {
            "bin_start": -0.4,
            "bin_end": -0.3,
            "count": 0
           },
           {
            "bin_start": -0.3,
            "bin_end": -0.19999999999999996,
            "count": 0
           },
           {
            "bin_start": -0.19999999999999996,
            "bin_end": -0.09999999999999998,
            "count": 0
           },
           {
            "bin_start": -0.09999999999999998,
            "bin_end": 0,
            "count": 0
           },
           {
            "bin_start": 0,
            "bin_end": 0.10000000000000009,
            "count": 5
           },
           {
            "bin_start": 0.10000000000000009,
            "bin_end": 0.20000000000000007,
            "count": 0
           },
           {
            "bin_start": 0.20000000000000007,
            "bin_end": 0.30000000000000004,
            "count": 0
           },
           {
            "bin_start": 0.30000000000000004,
            "bin_end": 0.4,
            "count": 0
           },
           {
            "bin_start": 0.4,
            "bin_end": 0.5,
            "count": 0
           }
          ]
         }
        },
        {
         "name": "Month_Oct",
         "dtype": "uint8",
         "stats": {
          "unique_count": 1,
          "nan_count": 0,
          "min": "0",
          "max": "0",
          "histogram": [
           {
            "bin_start": -0.5,
            "bin_end": -0.4,
            "count": 0
           },
           {
            "bin_start": -0.4,
            "bin_end": -0.3,
            "count": 0
           },
           {
            "bin_start": -0.3,
            "bin_end": -0.19999999999999996,
            "count": 0
           },
           {
            "bin_start": -0.19999999999999996,
            "bin_end": -0.09999999999999998,
            "count": 0
           },
           {
            "bin_start": -0.09999999999999998,
            "bin_end": 0,
            "count": 0
           },
           {
            "bin_start": 0,
            "bin_end": 0.10000000000000009,
            "count": 5
           },
           {
            "bin_start": 0.10000000000000009,
            "bin_end": 0.20000000000000007,
            "count": 0
           },
           {
            "bin_start": 0.20000000000000007,
            "bin_end": 0.30000000000000004,
            "count": 0
           },
           {
            "bin_start": 0.30000000000000004,
            "bin_end": 0.4,
            "count": 0
           },
           {
            "bin_start": 0.4,
            "bin_end": 0.5,
            "count": 0
           }
          ]
         }
        },
        {
         "name": "Month_Sep",
         "dtype": "uint8",
         "stats": {
          "unique_count": 1,
          "nan_count": 0,
          "min": "0",
          "max": "0",
          "histogram": [
           {
            "bin_start": -0.5,
            "bin_end": -0.4,
            "count": 0
           },
           {
            "bin_start": -0.4,
            "bin_end": -0.3,
            "count": 0
           },
           {
            "bin_start": -0.3,
            "bin_end": -0.19999999999999996,
            "count": 0
           },
           {
            "bin_start": -0.19999999999999996,
            "bin_end": -0.09999999999999998,
            "count": 0
           },
           {
            "bin_start": -0.09999999999999998,
            "bin_end": 0,
            "count": 0
           },
           {
            "bin_start": 0,
            "bin_end": 0.10000000000000009,
            "count": 5
           },
           {
            "bin_start": 0.10000000000000009,
            "bin_end": 0.20000000000000007,
            "count": 0
           },
           {
            "bin_start": 0.20000000000000007,
            "bin_end": 0.30000000000000004,
            "count": 0
           },
           {
            "bin_start": 0.30000000000000004,
            "bin_end": 0.4,
            "count": 0
           },
           {
            "bin_start": 0.4,
            "bin_end": 0.5,
            "count": 0
           }
          ]
         }
        },
        {
         "name": "VisitorType_New_Visitor",
         "dtype": "uint8",
         "stats": {
          "unique_count": 1,
          "nan_count": 0,
          "min": "0",
          "max": "0",
          "histogram": [
           {
            "bin_start": -0.5,
            "bin_end": -0.4,
            "count": 0
           },
           {
            "bin_start": -0.4,
            "bin_end": -0.3,
            "count": 0
           },
           {
            "bin_start": -0.3,
            "bin_end": -0.19999999999999996,
            "count": 0
           },
           {
            "bin_start": -0.19999999999999996,
            "bin_end": -0.09999999999999998,
            "count": 0
           },
           {
            "bin_start": -0.09999999999999998,
            "bin_end": 0,
            "count": 0
           },
           {
            "bin_start": 0,
            "bin_end": 0.10000000000000009,
            "count": 5
           },
           {
            "bin_start": 0.10000000000000009,
            "bin_end": 0.20000000000000007,
            "count": 0
           },
           {
            "bin_start": 0.20000000000000007,
            "bin_end": 0.30000000000000004,
            "count": 0
           },
           {
            "bin_start": 0.30000000000000004,
            "bin_end": 0.4,
            "count": 0
           },
           {
            "bin_start": 0.4,
            "bin_end": 0.5,
            "count": 0
           }
          ]
         }
        },
        {
         "name": "VisitorType_Other",
         "dtype": "uint8",
         "stats": {
          "unique_count": 1,
          "nan_count": 0,
          "min": "0",
          "max": "0",
          "histogram": [
           {
            "bin_start": -0.5,
            "bin_end": -0.4,
            "count": 0
           },
           {
            "bin_start": -0.4,
            "bin_end": -0.3,
            "count": 0
           },
           {
            "bin_start": -0.3,
            "bin_end": -0.19999999999999996,
            "count": 0
           },
           {
            "bin_start": -0.19999999999999996,
            "bin_end": -0.09999999999999998,
            "count": 0
           },
           {
            "bin_start": -0.09999999999999998,
            "bin_end": 0,
            "count": 0
           },
           {
            "bin_start": 0,
            "bin_end": 0.10000000000000009,
            "count": 5
           },
           {
            "bin_start": 0.10000000000000009,
            "bin_end": 0.20000000000000007,
            "count": 0
           },
           {
            "bin_start": 0.20000000000000007,
            "bin_end": 0.30000000000000004,
            "count": 0
           },
           {
            "bin_start": 0.30000000000000004,
            "bin_end": 0.4,
            "count": 0
           },
           {
            "bin_start": 0.4,
            "bin_end": 0.5,
            "count": 0
           }
          ]
         }
        },
        {
         "name": "VisitorType_Returning_Visitor",
         "dtype": "uint8",
         "stats": {
          "unique_count": 1,
          "nan_count": 0,
          "min": "1",
          "max": "1",
          "histogram": [
           {
            "bin_start": 0.5,
            "bin_end": 0.6,
            "count": 0
           },
           {
            "bin_start": 0.6,
            "bin_end": 0.7,
            "count": 0
           },
           {
            "bin_start": 0.7,
            "bin_end": 0.8,
            "count": 0
           },
           {
            "bin_start": 0.8,
            "bin_end": 0.9,
            "count": 0
           },
           {
            "bin_start": 0.9,
            "bin_end": 1,
            "count": 0
           },
           {
            "bin_start": 1,
            "bin_end": 1.1,
            "count": 5
           },
           {
            "bin_start": 1.1,
            "bin_end": 1.2000000000000002,
            "count": 0
           },
           {
            "bin_start": 1.2000000000000002,
            "bin_end": 1.3,
            "count": 0
           },
           {
            "bin_start": 1.3,
            "bin_end": 1.4,
            "count": 0
           },
           {
            "bin_start": 1.4,
            "bin_end": 1.5,
            "count": 0
           }
          ]
         }
        },
        {
         "name": "_deepnote_index_column",
         "dtype": "int64"
        }
       ],
       "rows_top": [
        {
         "Administrative": 0,
         "Administrative_Duration": 0,
         "Informational": 0,
         "Informational_Duration": 0,
         "ProductRelated": 0.0014184397163120568,
         "ProductRelated_Duration": 0,
         "BounceRates": 1,
         "ExitRates": 1,
         "PageValues": 0,
         "SpecialDay": 0,
         "OperatingSystems": 0,
         "Browser": 0,
         "Region": 0,
         "TrafficType": 0,
         "Weekend": 0,
         "Month_Aug": 0,
         "Month_Dec": 0,
         "Month_Feb": 1,
         "Month_Jul": 0,
         "Month_June": 0,
         "Month_Mar": 0,
         "Month_May": 0,
         "Month_Nov": 0,
         "Month_Oct": 0,
         "Month_Sep": 0,
         "VisitorType_New_Visitor": 0,
         "VisitorType_Other": 0,
         "VisitorType_Returning_Visitor": 1,
         "_deepnote_index_column": 0
        },
        {
         "Administrative": 0,
         "Administrative_Duration": 0,
         "Informational": 0,
         "Informational_Duration": 0,
         "ProductRelated": 0.0028368794326241137,
         "ProductRelated_Duration": 0.0010004138863873213,
         "BounceRates": 0,
         "ExitRates": 0.5,
         "PageValues": 0,
         "SpecialDay": 0,
         "OperatingSystems": 0.14285714285714285,
         "Browser": 0.08333333333333333,
         "Region": 0,
         "TrafficType": 0.05263157894736842,
         "Weekend": 0,
         "Month_Aug": 0,
         "Month_Dec": 0,
         "Month_Feb": 1,
         "Month_Jul": 0,
         "Month_June": 0,
         "Month_Mar": 0,
         "Month_May": 0,
         "Month_Nov": 0,
         "Month_Oct": 0,
         "Month_Sep": 0,
         "VisitorType_New_Visitor": 0,
         "VisitorType_Other": 0,
         "VisitorType_Returning_Visitor": 1,
         "_deepnote_index_column": 1
        },
        {
         "Administrative": 0,
         "Administrative_Duration": 0,
         "Informational": 0,
         "Informational_Duration": 0,
         "ProductRelated": 0.0014184397163120568,
         "ProductRelated_Duration": 0,
         "BounceRates": 1,
         "ExitRates": 1,
         "PageValues": 0,
         "SpecialDay": 0,
         "OperatingSystems": 0.42857142857142855,
         "Browser": 0,
         "Region": 1,
         "TrafficType": 0.10526315789473684,
         "Weekend": 0,
         "Month_Aug": 0,
         "Month_Dec": 0,
         "Month_Feb": 1,
         "Month_Jul": 0,
         "Month_June": 0,
         "Month_Mar": 0,
         "Month_May": 0,
         "Month_Nov": 0,
         "Month_Oct": 0,
         "Month_Sep": 0,
         "VisitorType_New_Visitor": 0,
         "VisitorType_Other": 0,
         "VisitorType_Returning_Visitor": 1,
         "_deepnote_index_column": 2
        },
        {
         "Administrative": 0,
         "Administrative_Duration": 0,
         "Informational": 0,
         "Informational_Duration": 0,
         "ProductRelated": 0.0028368794326241137,
         "ProductRelated_Duration": 0.00004168391193801554,
         "BounceRates": 0.25,
         "ExitRates": 0.7000000000000001,
         "PageValues": 0,
         "SpecialDay": 0,
         "OperatingSystems": 0.2857142857142857,
         "Browser": 0.08333333333333333,
         "Region": 0.125,
         "TrafficType": 0.15789473684210525,
         "Weekend": 0,
         "Month_Aug": 0,
         "Month_Dec": 0,
         "Month_Feb": 1,
         "Month_Jul": 0,
         "Month_June": 0,
         "Month_Mar": 0,
         "Month_May": 0,
         "Month_Nov": 0,
         "Month_Oct": 0,
         "Month_Sep": 0,
         "VisitorType_New_Visitor": 0,
         "VisitorType_Other": 0,
         "VisitorType_Returning_Visitor": 1,
         "_deepnote_index_column": 3
        },
        {
         "Administrative": 0,
         "Administrative_Duration": 0,
         "Informational": 0,
         "Informational_Duration": 0,
         "ProductRelated": 0.014184397163120569,
         "ProductRelated_Duration": 0.00980874552668819,
         "BounceRates": 0.1,
         "ExitRates": 0.25,
         "PageValues": 0,
         "SpecialDay": 0,
         "OperatingSystems": 0.2857142857142857,
         "Browser": 0.16666666666666669,
         "Region": 0,
         "TrafficType": 0.15789473684210525,
         "Weekend": 1,
         "Month_Aug": 0,
         "Month_Dec": 0,
         "Month_Feb": 1,
         "Month_Jul": 0,
         "Month_June": 0,
         "Month_Mar": 0,
         "Month_May": 0,
         "Month_Nov": 0,
         "Month_Oct": 0,
         "Month_Sep": 0,
         "VisitorType_New_Visitor": 0,
         "VisitorType_Other": 0,
         "VisitorType_Returning_Visitor": 1,
         "_deepnote_index_column": 4
        }
       ],
       "rows_bottom": null
      },
      "text/plain": "   Administrative  Administrative_Duration  Informational  \\\n0             0.0                      0.0            0.0   \n1             0.0                      0.0            0.0   \n2             0.0                      0.0            0.0   \n3             0.0                      0.0            0.0   \n4             0.0                      0.0            0.0   \n\n   Informational_Duration  ProductRelated  ProductRelated_Duration  \\\n0                     0.0        0.001418                 0.000000   \n1                     0.0        0.002837                 0.001000   \n2                     0.0        0.001418                 0.000000   \n3                     0.0        0.002837                 0.000042   \n4                     0.0        0.014184                 0.009809   \n\n   BounceRates  ExitRates  PageValues  SpecialDay  ...  Month_Jul  Month_June  \\\n0         1.00       1.00         0.0         0.0  ...          0           0   \n1         0.00       0.50         0.0         0.0  ...          0           0   \n2         1.00       1.00         0.0         0.0  ...          0           0   \n3         0.25       0.70         0.0         0.0  ...          0           0   \n4         0.10       0.25         0.0         0.0  ...          0           0   \n\n   Month_Mar  Month_May  Month_Nov  Month_Oct  Month_Sep  \\\n0          0          0          0          0          0   \n1          0          0          0          0          0   \n2          0          0          0          0          0   \n3          0          0          0          0          0   \n4          0          0          0          0          0   \n\n   VisitorType_New_Visitor  VisitorType_Other  VisitorType_Returning_Visitor  \n0                        0                  0                              1  \n1                        0                  0                              1  \n2                        0                  0                              1  \n3                        0                  0                              1  \n4                        0                  0                              1  \n\n[5 rows x 28 columns]",
      "text/html": "<div>\n<style scoped>\n    .dataframe tbody tr th:only-of-type {\n        vertical-align: middle;\n    }\n\n    .dataframe tbody tr th {\n        vertical-align: top;\n    }\n\n    .dataframe thead th {\n        text-align: right;\n    }\n</style>\n<table border=\"1\" class=\"dataframe\">\n  <thead>\n    <tr style=\"text-align: right;\">\n      <th></th>\n      <th>Administrative</th>\n      <th>Administrative_Duration</th>\n      <th>Informational</th>\n      <th>Informational_Duration</th>\n      <th>ProductRelated</th>\n      <th>ProductRelated_Duration</th>\n      <th>BounceRates</th>\n      <th>ExitRates</th>\n      <th>PageValues</th>\n      <th>SpecialDay</th>\n      <th>...</th>\n      <th>Month_Jul</th>\n      <th>Month_June</th>\n      <th>Month_Mar</th>\n      <th>Month_May</th>\n      <th>Month_Nov</th>\n      <th>Month_Oct</th>\n      <th>Month_Sep</th>\n      <th>VisitorType_New_Visitor</th>\n      <th>VisitorType_Other</th>\n      <th>VisitorType_Returning_Visitor</th>\n    </tr>\n  </thead>\n  <tbody>\n    <tr>\n      <th>0</th>\n      <td>0.0</td>\n      <td>0.0</td>\n      <td>0.0</td>\n      <td>0.0</td>\n      <td>0.001418</td>\n      <td>0.000000</td>\n      <td>1.00</td>\n      <td>1.00</td>\n      <td>0.0</td>\n      <td>0.0</td>\n      <td>...</td>\n      <td>0</td>\n      <td>0</td>\n      <td>0</td>\n      <td>0</td>\n      <td>0</td>\n      <td>0</td>\n      <td>0</td>\n      <td>0</td>\n      <td>0</td>\n      <td>1</td>\n    </tr>\n    <tr>\n      <th>1</th>\n      <td>0.0</td>\n      <td>0.0</td>\n      <td>0.0</td>\n      <td>0.0</td>\n      <td>0.002837</td>\n      <td>0.001000</td>\n      <td>0.00</td>\n      <td>0.50</td>\n      <td>0.0</td>\n      <td>0.0</td>\n      <td>...</td>\n      <td>0</td>\n      <td>0</td>\n      <td>0</td>\n      <td>0</td>\n      <td>0</td>\n      <td>0</td>\n      <td>0</td>\n      <td>0</td>\n      <td>0</td>\n      <td>1</td>\n    </tr>\n    <tr>\n      <th>2</th>\n      <td>0.0</td>\n      <td>0.0</td>\n      <td>0.0</td>\n      <td>0.0</td>\n      <td>0.001418</td>\n      <td>0.000000</td>\n      <td>1.00</td>\n      <td>1.00</td>\n      <td>0.0</td>\n      <td>0.0</td>\n      <td>...</td>\n      <td>0</td>\n      <td>0</td>\n      <td>0</td>\n      <td>0</td>\n      <td>0</td>\n      <td>0</td>\n      <td>0</td>\n      <td>0</td>\n      <td>0</td>\n      <td>1</td>\n    </tr>\n    <tr>\n      <th>3</th>\n      <td>0.0</td>\n      <td>0.0</td>\n      <td>0.0</td>\n      <td>0.0</td>\n      <td>0.002837</td>\n      <td>0.000042</td>\n      <td>0.25</td>\n      <td>0.70</td>\n      <td>0.0</td>\n      <td>0.0</td>\n      <td>...</td>\n      <td>0</td>\n      <td>0</td>\n      <td>0</td>\n      <td>0</td>\n      <td>0</td>\n      <td>0</td>\n      <td>0</td>\n      <td>0</td>\n      <td>0</td>\n      <td>1</td>\n    </tr>\n    <tr>\n      <th>4</th>\n      <td>0.0</td>\n      <td>0.0</td>\n      <td>0.0</td>\n      <td>0.0</td>\n      <td>0.014184</td>\n      <td>0.009809</td>\n      <td>0.10</td>\n      <td>0.25</td>\n      <td>0.0</td>\n      <td>0.0</td>\n      <td>...</td>\n      <td>0</td>\n      <td>0</td>\n      <td>0</td>\n      <td>0</td>\n      <td>0</td>\n      <td>0</td>\n      <td>0</td>\n      <td>0</td>\n      <td>0</td>\n      <td>1</td>\n    </tr>\n  </tbody>\n</table>\n<p>5 rows × 28 columns</p>\n</div>"
     },
     "metadata": {}
    }
   ],
   "execution_count": 57
  },
  {
   "cell_type": "code",
   "source": "#splitting the data\nfrom sklearn.model_selection import train_test_split\nX_train, X_test, y_train,y_test = train_test_split(X_scaled_enc,Y,test_size=0.3,random_state=32)\nX_train.shape,X_test.shape",
   "metadata": {
    "tags": [],
    "cell_id": "00020-082c7c2e-62bf-4afa-bf1e-308d4757d7f0",
    "deepnote_to_be_reexecuted": false,
    "source_hash": "169e77be",
    "execution_start": 1632783413978,
    "execution_millis": 24,
    "deepnote_cell_type": "code"
   },
   "outputs": [
    {
     "output_type": "execute_result",
     "execution_count": 62,
     "data": {
      "text/plain": "((8631, 28), (3699, 28))"
     },
     "metadata": {}
    }
   ],
   "execution_count": 62
  },
  {
   "cell_type": "markdown",
   "source": "### Checking correlation for feature selection",
   "metadata": {
    "tags": [],
    "is_collapsed": false,
    "cell_id": "00020-2c77d038-d550-43ee-b91f-0de4a353d39e",
    "deepnote_cell_type": "text-cell-h3"
   }
  },
  {
   "cell_type": "code",
   "source": "X_train.columns",
   "metadata": {
    "tags": [],
    "cell_id": "00019-fbe312ef-f636-46f9-83a0-6e1fadbdc398",
    "deepnote_to_be_reexecuted": false,
    "source_hash": "2175c87",
    "execution_start": 1632783436849,
    "execution_millis": 8,
    "deepnote_cell_type": "code"
   },
   "outputs": [
    {
     "output_type": "execute_result",
     "execution_count": 63,
     "data": {
      "text/plain": "Index(['Administrative', 'Administrative_Duration', 'Informational',\n       'Informational_Duration', 'ProductRelated', 'ProductRelated_Duration',\n       'BounceRates', 'ExitRates', 'PageValues', 'SpecialDay',\n       'OperatingSystems', 'Browser', 'Region', 'TrafficType', 'Weekend',\n       'Month_Aug', 'Month_Dec', 'Month_Feb', 'Month_Jul', 'Month_June',\n       'Month_Mar', 'Month_May', 'Month_Nov', 'Month_Oct', 'Month_Sep',\n       'VisitorType_New_Visitor', 'VisitorType_Other',\n       'VisitorType_Returning_Visitor'],\n      dtype='object')"
     },
     "metadata": {}
    }
   ],
   "execution_count": 63
  },
  {
   "cell_type": "code",
   "source": "X_corr = X_train[['Administrative', 'Administrative_Duration', 'Informational','Informational_Duration', 'ProductRelated', 'ProductRelated_Duration','BounceRates', 'ExitRates', 'PageValues', 'SpecialDay','OperatingSystems', 'Browser', 'Region', 'TrafficType', 'Weekend']]",
   "metadata": {
    "tags": [],
    "cell_id": "00022-53ba2dc3-f40c-41b0-9819-415a42bf2265",
    "deepnote_to_be_reexecuted": false,
    "source_hash": "c216d14f",
    "execution_start": 1632783450516,
    "execution_millis": 4,
    "deepnote_cell_type": "code"
   },
   "outputs": [],
   "execution_count": 64
  },
  {
   "cell_type": "code",
   "source": "import seaborn as sns\nimport matplotlib.pyplot as plt",
   "metadata": {
    "tags": [],
    "cell_id": "00023-fe95936b-0663-4366-9bb3-3aeae1276a5c",
    "deepnote_to_be_reexecuted": false,
    "source_hash": "cf9bbfa5",
    "execution_start": 1632783761340,
    "execution_millis": 0,
    "deepnote_cell_type": "code"
   },
   "outputs": [],
   "execution_count": 66
  },
  {
   "cell_type": "code",
   "source": "plt.figure(figsize=(12,10))\ncor=X_corr.corr()\nsns.heatmap(cor, annot=True)\nplt.show()",
   "metadata": {
    "tags": [],
    "cell_id": "00025-cbfa2d71-345f-45ff-9e21-81589f444acf",
    "deepnote_to_be_reexecuted": false,
    "source_hash": "70ee840f",
    "execution_start": 1632783785357,
    "execution_millis": 2333,
    "deepnote_cell_type": "code"
   },
   "outputs": [
    {
     "data": {
      "text/plain": "<Figure size 864x720 with 2 Axes>",
      "image/png": "[encoded data removed]"
     },
     "metadata": {
      "needs_background": "light",
      "image/png": {
       "width": 773,
       "height": 693
      }
     },
     "output_type": "display_data"
    }
   ],
   "execution_count": 69
  },
  {
   "cell_type": "markdown",
   "source": "### Feature Selection",
   "metadata": {
    "tags": [],
    "is_collapsed": false,
    "cell_id": "00026-f0bcde5e-f742-4892-951c-2548ead28737",
    "deepnote_cell_type": "text-cell-h3"
   }
  },
  {
   "cell_type": "code",
   "source": "#function to find columns correlated and to be removed\n# it will remove the first feature that is correlated with anything other feature\n\ndef correlation(dataset, threshold):\n    col_corr = set()  # Set of all the names of correlated columns\n    corr_matrix = dataset.corr()\n    for i in range(len(corr_matrix.columns)):\n        for j in range(i):\n            if abs(corr_matrix.iloc[i, j]) > threshold: # we are interested in absolute coeff value\n                colname = corr_matrix.columns[i]  # getting the name of column\n                col_corr.add(colname)\n    return col_corr",
   "metadata": {
    "tags": [],
    "cell_id": "00026-c2cfb441-9961-4805-88b9-d42031e9cd73",
    "deepnote_to_be_reexecuted": false,
    "source_hash": "34cc98a2",
    "execution_start": 1632784056839,
    "execution_millis": 0,
    "deepnote_cell_type": "code"
   },
   "outputs": [],
   "execution_count": 70
  },
  {
   "cell_type": "code",
   "source": "corr_feat = correlation(X_corr,0.85)\ncorr_feat",
   "metadata": {
    "tags": [],
    "cell_id": "00027-255c989a-893b-4a99-93a2-1af5d2ff7f83",
    "deepnote_to_be_reexecuted": false,
    "source_hash": "2f1e517",
    "execution_start": 1632784128225,
    "execution_millis": 22,
    "deepnote_cell_type": "code"
   },
   "outputs": [
    {
     "output_type": "execute_result",
     "execution_count": 71,
     "data": {
      "text/plain": "{'ExitRates', 'ProductRelated_Duration'}"
     },
     "metadata": {}
    }
   ],
   "execution_count": 71
  },
  {
   "cell_type": "code",
   "source": "corr_feat = list(corr_feat)\nX_train.drop(corr_feat,inplace=True,axis=1)",
   "metadata": {
    "tags": [],
    "cell_id": "00028-b64bf51d-9598-4a56-9f26-c4a03e290feb",
    "deepnote_to_be_reexecuted": false,
    "source_hash": "a564787a",
    "execution_start": 1632784225799,
    "execution_millis": 4,
    "deepnote_cell_type": "code"
   },
   "outputs": [],
   "execution_count": 72
  },
  {
   "cell_type": "code",
   "source": "X_test.drop(corr_feat,inplace=True,axis=1)",
   "metadata": {
    "tags": [],
    "cell_id": "00029-eb59a40c-7ca8-4f4a-b98b-4c2178255522",
    "deepnote_to_be_reexecuted": false,
    "source_hash": "d76625bb",
    "execution_start": 1632784251667,
    "execution_millis": 2,
    "deepnote_cell_type": "code"
   },
   "outputs": [],
   "execution_count": 73
  },
  {
   "cell_type": "code",
   "source": "X_train.shape,X_test.shape",
   "metadata": {
    "tags": [],
    "cell_id": "00030-f0dcf9da-f83e-4cae-8f2a-896b8664d2f5",
    "deepnote_to_be_reexecuted": false,
    "source_hash": "cd93faef",
    "execution_start": 1632784277419,
    "execution_millis": 7,
    "deepnote_cell_type": "code"
   },
   "outputs": [
    {
     "output_type": "execute_result",
     "execution_count": 75,
     "data": {
      "text/plain": "((8631, 26), (3699, 26))"
     },
     "metadata": {}
    }
   ],
   "execution_count": 75
  },
  {
   "cell_type": "code",
   "source": "",
   "metadata": {
    "tags": [],
    "cell_id": "00031-e5ce4fc3-07a2-460b-b616-e2aee6332844",
    "deepnote_cell_type": "code"
   },
   "outputs": [],
   "execution_count": null
  },
  {
   "cell_type": "markdown",
   "source": "<a style='text-decoration:none;line-height:16px;display:flex;color:#5B5B62;padding:10px;justify-content:end;' href='https://deepnote.com?utm_source=created-in-deepnote-cell&projectId=f6b64ae9-38ba-4e6f-91cb-44163f0a046c' target=\"_blank\">\n<img alt='Created in deepnote.com' style='display:inline;max-height:16px;margin:0px;margin-right:7.5px;' src='data:image/svg+xml;base64,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' > </img>\nCreated in <span style='font-weight:600;margin-left:4px;'>Deepnote</span></a>",
   "metadata": {
    "tags": [],
    "created_in_deepnote_cell": true,
    "deepnote_cell_type": "markdown"
   }
  }
 ],
 "nbformat": 4,
 "nbformat_minor": 2,
 "metadata": {
  "orig_nbformat": 2,
  "deepnote": {
   "is_reactive": false
  },
  "deepnote_notebook_id": "88ce0c11-de4d-4ab3-bea7-efa89a499411",
  "deepnote_execution_queue": []
 }
}